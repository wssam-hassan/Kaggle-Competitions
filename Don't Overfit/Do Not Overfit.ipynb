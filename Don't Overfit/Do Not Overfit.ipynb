{
 "cells": [
  {
   "cell_type": "markdown",
   "metadata": {},
   "source": [
    "### Imports & Load Data"
   ]
  },
  {
   "cell_type": "code",
   "execution_count": 1,
   "metadata": {},
   "outputs": [],
   "source": [
    "import pandas as pd"
   ]
  },
  {
   "cell_type": "code",
   "execution_count": 2,
   "metadata": {},
   "outputs": [],
   "source": [
    "train_df = pd.read_csv('do not overfit/train.csv', index_col='id')\n",
    "test_df = pd.read_csv('do not overfit/test.csv', index_col='id')"
   ]
  },
  {
   "cell_type": "markdown",
   "metadata": {},
   "source": [
    "### EDA"
   ]
  },
  {
   "cell_type": "code",
   "execution_count": 3,
   "metadata": {
    "scrolled": true
   },
   "outputs": [
    {
     "data": {
      "text/html": [
       "<div>\n",
       "<style scoped>\n",
       "    .dataframe tbody tr th:only-of-type {\n",
       "        vertical-align: middle;\n",
       "    }\n",
       "\n",
       "    .dataframe tbody tr th {\n",
       "        vertical-align: top;\n",
       "    }\n",
       "\n",
       "    .dataframe thead th {\n",
       "        text-align: right;\n",
       "    }\n",
       "</style>\n",
       "<table border=\"1\" class=\"dataframe\">\n",
       "  <thead>\n",
       "    <tr style=\"text-align: right;\">\n",
       "      <th></th>\n",
       "      <th>target</th>\n",
       "      <th>0</th>\n",
       "      <th>1</th>\n",
       "      <th>2</th>\n",
       "      <th>3</th>\n",
       "      <th>4</th>\n",
       "      <th>5</th>\n",
       "      <th>6</th>\n",
       "      <th>7</th>\n",
       "      <th>8</th>\n",
       "      <th>...</th>\n",
       "      <th>290</th>\n",
       "      <th>291</th>\n",
       "      <th>292</th>\n",
       "      <th>293</th>\n",
       "      <th>294</th>\n",
       "      <th>295</th>\n",
       "      <th>296</th>\n",
       "      <th>297</th>\n",
       "      <th>298</th>\n",
       "      <th>299</th>\n",
       "    </tr>\n",
       "    <tr>\n",
       "      <th>id</th>\n",
       "      <th></th>\n",
       "      <th></th>\n",
       "      <th></th>\n",
       "      <th></th>\n",
       "      <th></th>\n",
       "      <th></th>\n",
       "      <th></th>\n",
       "      <th></th>\n",
       "      <th></th>\n",
       "      <th></th>\n",
       "      <th></th>\n",
       "      <th></th>\n",
       "      <th></th>\n",
       "      <th></th>\n",
       "      <th></th>\n",
       "      <th></th>\n",
       "      <th></th>\n",
       "      <th></th>\n",
       "      <th></th>\n",
       "      <th></th>\n",
       "      <th></th>\n",
       "    </tr>\n",
       "  </thead>\n",
       "  <tbody>\n",
       "    <tr>\n",
       "      <th>0</th>\n",
       "      <td>1.0</td>\n",
       "      <td>-1.067</td>\n",
       "      <td>-1.114</td>\n",
       "      <td>-0.616</td>\n",
       "      <td>0.376</td>\n",
       "      <td>1.090</td>\n",
       "      <td>0.467</td>\n",
       "      <td>-0.422</td>\n",
       "      <td>0.460</td>\n",
       "      <td>-0.443</td>\n",
       "      <td>...</td>\n",
       "      <td>0.220</td>\n",
       "      <td>-0.339</td>\n",
       "      <td>0.254</td>\n",
       "      <td>-0.179</td>\n",
       "      <td>0.352</td>\n",
       "      <td>0.125</td>\n",
       "      <td>0.347</td>\n",
       "      <td>0.436</td>\n",
       "      <td>0.958</td>\n",
       "      <td>-0.824</td>\n",
       "    </tr>\n",
       "    <tr>\n",
       "      <th>1</th>\n",
       "      <td>0.0</td>\n",
       "      <td>-0.831</td>\n",
       "      <td>0.271</td>\n",
       "      <td>1.716</td>\n",
       "      <td>1.096</td>\n",
       "      <td>1.731</td>\n",
       "      <td>-0.197</td>\n",
       "      <td>1.904</td>\n",
       "      <td>-0.265</td>\n",
       "      <td>0.557</td>\n",
       "      <td>...</td>\n",
       "      <td>-0.765</td>\n",
       "      <td>-0.735</td>\n",
       "      <td>-1.158</td>\n",
       "      <td>2.554</td>\n",
       "      <td>0.856</td>\n",
       "      <td>-1.506</td>\n",
       "      <td>0.462</td>\n",
       "      <td>-0.029</td>\n",
       "      <td>-1.932</td>\n",
       "      <td>-0.343</td>\n",
       "    </tr>\n",
       "    <tr>\n",
       "      <th>2</th>\n",
       "      <td>0.0</td>\n",
       "      <td>0.099</td>\n",
       "      <td>1.390</td>\n",
       "      <td>-0.732</td>\n",
       "      <td>-1.065</td>\n",
       "      <td>0.005</td>\n",
       "      <td>-0.081</td>\n",
       "      <td>-1.450</td>\n",
       "      <td>0.317</td>\n",
       "      <td>-0.624</td>\n",
       "      <td>...</td>\n",
       "      <td>-1.311</td>\n",
       "      <td>0.799</td>\n",
       "      <td>-1.001</td>\n",
       "      <td>1.544</td>\n",
       "      <td>0.575</td>\n",
       "      <td>-0.309</td>\n",
       "      <td>-0.339</td>\n",
       "      <td>-0.148</td>\n",
       "      <td>-0.646</td>\n",
       "      <td>0.725</td>\n",
       "    </tr>\n",
       "    <tr>\n",
       "      <th>3</th>\n",
       "      <td>1.0</td>\n",
       "      <td>-0.989</td>\n",
       "      <td>-0.916</td>\n",
       "      <td>-1.343</td>\n",
       "      <td>0.145</td>\n",
       "      <td>0.543</td>\n",
       "      <td>0.636</td>\n",
       "      <td>1.127</td>\n",
       "      <td>0.189</td>\n",
       "      <td>-0.118</td>\n",
       "      <td>...</td>\n",
       "      <td>-1.370</td>\n",
       "      <td>1.093</td>\n",
       "      <td>0.596</td>\n",
       "      <td>-0.589</td>\n",
       "      <td>-0.649</td>\n",
       "      <td>-0.163</td>\n",
       "      <td>-0.958</td>\n",
       "      <td>-1.081</td>\n",
       "      <td>0.805</td>\n",
       "      <td>3.401</td>\n",
       "    </tr>\n",
       "    <tr>\n",
       "      <th>4</th>\n",
       "      <td>0.0</td>\n",
       "      <td>0.811</td>\n",
       "      <td>-1.509</td>\n",
       "      <td>0.522</td>\n",
       "      <td>-0.360</td>\n",
       "      <td>-0.220</td>\n",
       "      <td>-0.959</td>\n",
       "      <td>0.334</td>\n",
       "      <td>-0.566</td>\n",
       "      <td>-0.656</td>\n",
       "      <td>...</td>\n",
       "      <td>-0.178</td>\n",
       "      <td>0.718</td>\n",
       "      <td>-1.017</td>\n",
       "      <td>1.249</td>\n",
       "      <td>-0.596</td>\n",
       "      <td>-0.445</td>\n",
       "      <td>1.751</td>\n",
       "      <td>1.442</td>\n",
       "      <td>-0.393</td>\n",
       "      <td>-0.643</td>\n",
       "    </tr>\n",
       "  </tbody>\n",
       "</table>\n",
       "<p>5 rows × 301 columns</p>\n",
       "</div>"
      ],
      "text/plain": [
       "    target      0      1      2      3      4      5      6      7      8  \\\n",
       "id                                                                          \n",
       "0      1.0 -1.067 -1.114 -0.616  0.376  1.090  0.467 -0.422  0.460 -0.443   \n",
       "1      0.0 -0.831  0.271  1.716  1.096  1.731 -0.197  1.904 -0.265  0.557   \n",
       "2      0.0  0.099  1.390 -0.732 -1.065  0.005 -0.081 -1.450  0.317 -0.624   \n",
       "3      1.0 -0.989 -0.916 -1.343  0.145  0.543  0.636  1.127  0.189 -0.118   \n",
       "4      0.0  0.811 -1.509  0.522 -0.360 -0.220 -0.959  0.334 -0.566 -0.656   \n",
       "\n",
       "    ...    290    291    292    293    294    295    296    297    298    299  \n",
       "id  ...                                                                        \n",
       "0   ...  0.220 -0.339  0.254 -0.179  0.352  0.125  0.347  0.436  0.958 -0.824  \n",
       "1   ... -0.765 -0.735 -1.158  2.554  0.856 -1.506  0.462 -0.029 -1.932 -0.343  \n",
       "2   ... -1.311  0.799 -1.001  1.544  0.575 -0.309 -0.339 -0.148 -0.646  0.725  \n",
       "3   ... -1.370  1.093  0.596 -0.589 -0.649 -0.163 -0.958 -1.081  0.805  3.401  \n",
       "4   ... -0.178  0.718 -1.017  1.249 -0.596 -0.445  1.751  1.442 -0.393 -0.643  \n",
       "\n",
       "[5 rows x 301 columns]"
      ]
     },
     "execution_count": 3,
     "metadata": {},
     "output_type": "execute_result"
    }
   ],
   "source": [
    "# Info\n",
    "train_df.head()"
   ]
  },
  {
   "cell_type": "code",
   "execution_count": 4,
   "metadata": {},
   "outputs": [
    {
     "name": "stdout",
     "output_type": "stream",
     "text": [
      "<class 'pandas.core.frame.DataFrame'>\n",
      "Int64Index: 250 entries, 0 to 249\n",
      "Columns: 301 entries, target to 299\n",
      "dtypes: float64(301)\n",
      "memory usage: 589.8 KB\n"
     ]
    }
   ],
   "source": [
    "train_df.info()"
   ]
  },
  {
   "cell_type": "code",
   "execution_count": 5,
   "metadata": {},
   "outputs": [
    {
     "data": {
      "text/plain": [
       "(250, 301)"
      ]
     },
     "execution_count": 5,
     "metadata": {},
     "output_type": "execute_result"
    }
   ],
   "source": [
    "train_df.shape"
   ]
  },
  {
   "cell_type": "markdown",
   "metadata": {},
   "source": [
    "- Train dataset with `250 records` and `300 features`"
   ]
  },
  {
   "cell_type": "code",
   "execution_count": 6,
   "metadata": {},
   "outputs": [
    {
     "data": {
      "text/html": [
       "<div>\n",
       "<style scoped>\n",
       "    .dataframe tbody tr th:only-of-type {\n",
       "        vertical-align: middle;\n",
       "    }\n",
       "\n",
       "    .dataframe tbody tr th {\n",
       "        vertical-align: top;\n",
       "    }\n",
       "\n",
       "    .dataframe thead th {\n",
       "        text-align: right;\n",
       "    }\n",
       "</style>\n",
       "<table border=\"1\" class=\"dataframe\">\n",
       "  <thead>\n",
       "    <tr style=\"text-align: right;\">\n",
       "      <th></th>\n",
       "      <th>0</th>\n",
       "      <th>1</th>\n",
       "      <th>2</th>\n",
       "      <th>3</th>\n",
       "      <th>4</th>\n",
       "      <th>5</th>\n",
       "      <th>6</th>\n",
       "      <th>7</th>\n",
       "      <th>8</th>\n",
       "      <th>9</th>\n",
       "      <th>...</th>\n",
       "      <th>290</th>\n",
       "      <th>291</th>\n",
       "      <th>292</th>\n",
       "      <th>293</th>\n",
       "      <th>294</th>\n",
       "      <th>295</th>\n",
       "      <th>296</th>\n",
       "      <th>297</th>\n",
       "      <th>298</th>\n",
       "      <th>299</th>\n",
       "    </tr>\n",
       "    <tr>\n",
       "      <th>id</th>\n",
       "      <th></th>\n",
       "      <th></th>\n",
       "      <th></th>\n",
       "      <th></th>\n",
       "      <th></th>\n",
       "      <th></th>\n",
       "      <th></th>\n",
       "      <th></th>\n",
       "      <th></th>\n",
       "      <th></th>\n",
       "      <th></th>\n",
       "      <th></th>\n",
       "      <th></th>\n",
       "      <th></th>\n",
       "      <th></th>\n",
       "      <th></th>\n",
       "      <th></th>\n",
       "      <th></th>\n",
       "      <th></th>\n",
       "      <th></th>\n",
       "      <th></th>\n",
       "    </tr>\n",
       "  </thead>\n",
       "  <tbody>\n",
       "    <tr>\n",
       "      <th>250</th>\n",
       "      <td>-0.677</td>\n",
       "      <td>1.721</td>\n",
       "      <td>-0.745</td>\n",
       "      <td>-0.838</td>\n",
       "      <td>0.149</td>\n",
       "      <td>-1.138</td>\n",
       "      <td>0.242</td>\n",
       "      <td>0.504</td>\n",
       "      <td>-1.829</td>\n",
       "      <td>-1.380</td>\n",
       "      <td>...</td>\n",
       "      <td>-1.180</td>\n",
       "      <td>-0.403</td>\n",
       "      <td>0.759</td>\n",
       "      <td>-0.600</td>\n",
       "      <td>0.951</td>\n",
       "      <td>-0.349</td>\n",
       "      <td>0.446</td>\n",
       "      <td>-0.819</td>\n",
       "      <td>-0.277</td>\n",
       "      <td>1.297</td>\n",
       "    </tr>\n",
       "    <tr>\n",
       "      <th>251</th>\n",
       "      <td>-0.731</td>\n",
       "      <td>-0.251</td>\n",
       "      <td>0.059</td>\n",
       "      <td>0.054</td>\n",
       "      <td>1.149</td>\n",
       "      <td>2.462</td>\n",
       "      <td>0.836</td>\n",
       "      <td>0.719</td>\n",
       "      <td>-2.269</td>\n",
       "      <td>0.584</td>\n",
       "      <td>...</td>\n",
       "      <td>1.297</td>\n",
       "      <td>1.114</td>\n",
       "      <td>0.657</td>\n",
       "      <td>0.760</td>\n",
       "      <td>0.899</td>\n",
       "      <td>-1.612</td>\n",
       "      <td>-1.701</td>\n",
       "      <td>1.107</td>\n",
       "      <td>-0.314</td>\n",
       "      <td>-0.641</td>\n",
       "    </tr>\n",
       "    <tr>\n",
       "      <th>252</th>\n",
       "      <td>1.119</td>\n",
       "      <td>1.036</td>\n",
       "      <td>1.220</td>\n",
       "      <td>1.518</td>\n",
       "      <td>0.265</td>\n",
       "      <td>-0.088</td>\n",
       "      <td>0.245</td>\n",
       "      <td>-0.533</td>\n",
       "      <td>-0.921</td>\n",
       "      <td>0.714</td>\n",
       "      <td>...</td>\n",
       "      <td>-0.864</td>\n",
       "      <td>-0.736</td>\n",
       "      <td>0.367</td>\n",
       "      <td>0.154</td>\n",
       "      <td>0.830</td>\n",
       "      <td>-1.352</td>\n",
       "      <td>0.914</td>\n",
       "      <td>0.377</td>\n",
       "      <td>0.588</td>\n",
       "      <td>-0.912</td>\n",
       "    </tr>\n",
       "    <tr>\n",
       "      <th>253</th>\n",
       "      <td>-0.933</td>\n",
       "      <td>0.212</td>\n",
       "      <td>-0.053</td>\n",
       "      <td>0.570</td>\n",
       "      <td>-1.540</td>\n",
       "      <td>-1.108</td>\n",
       "      <td>0.462</td>\n",
       "      <td>1.022</td>\n",
       "      <td>-0.215</td>\n",
       "      <td>-0.205</td>\n",
       "      <td>...</td>\n",
       "      <td>0.063</td>\n",
       "      <td>-0.958</td>\n",
       "      <td>0.762</td>\n",
       "      <td>-0.213</td>\n",
       "      <td>-2.171</td>\n",
       "      <td>0.830</td>\n",
       "      <td>1.435</td>\n",
       "      <td>0.125</td>\n",
       "      <td>2.782</td>\n",
       "      <td>0.619</td>\n",
       "    </tr>\n",
       "    <tr>\n",
       "      <th>254</th>\n",
       "      <td>-0.208</td>\n",
       "      <td>-0.556</td>\n",
       "      <td>2.641</td>\n",
       "      <td>0.853</td>\n",
       "      <td>-0.384</td>\n",
       "      <td>0.312</td>\n",
       "      <td>0.514</td>\n",
       "      <td>0.481</td>\n",
       "      <td>-1.929</td>\n",
       "      <td>-0.400</td>\n",
       "      <td>...</td>\n",
       "      <td>-0.689</td>\n",
       "      <td>0.213</td>\n",
       "      <td>0.568</td>\n",
       "      <td>-0.935</td>\n",
       "      <td>-0.015</td>\n",
       "      <td>0.267</td>\n",
       "      <td>0.739</td>\n",
       "      <td>1.340</td>\n",
       "      <td>-0.178</td>\n",
       "      <td>1.010</td>\n",
       "    </tr>\n",
       "  </tbody>\n",
       "</table>\n",
       "<p>5 rows × 300 columns</p>\n",
       "</div>"
      ],
      "text/plain": [
       "         0      1      2      3      4      5      6      7      8      9  \\\n",
       "id                                                                          \n",
       "250 -0.677  1.721 -0.745 -0.838  0.149 -1.138  0.242  0.504 -1.829 -1.380   \n",
       "251 -0.731 -0.251  0.059  0.054  1.149  2.462  0.836  0.719 -2.269  0.584   \n",
       "252  1.119  1.036  1.220  1.518  0.265 -0.088  0.245 -0.533 -0.921  0.714   \n",
       "253 -0.933  0.212 -0.053  0.570 -1.540 -1.108  0.462  1.022 -0.215 -0.205   \n",
       "254 -0.208 -0.556  2.641  0.853 -0.384  0.312  0.514  0.481 -1.929 -0.400   \n",
       "\n",
       "     ...    290    291    292    293    294    295    296    297    298    299  \n",
       "id   ...                                                                        \n",
       "250  ... -1.180 -0.403  0.759 -0.600  0.951 -0.349  0.446 -0.819 -0.277  1.297  \n",
       "251  ...  1.297  1.114  0.657  0.760  0.899 -1.612 -1.701  1.107 -0.314 -0.641  \n",
       "252  ... -0.864 -0.736  0.367  0.154  0.830 -1.352  0.914  0.377  0.588 -0.912  \n",
       "253  ...  0.063 -0.958  0.762 -0.213 -2.171  0.830  1.435  0.125  2.782  0.619  \n",
       "254  ... -0.689  0.213  0.568 -0.935 -0.015  0.267  0.739  1.340 -0.178  1.010  \n",
       "\n",
       "[5 rows x 300 columns]"
      ]
     },
     "execution_count": 6,
     "metadata": {},
     "output_type": "execute_result"
    }
   ],
   "source": [
    "test_df.head()"
   ]
  },
  {
   "cell_type": "code",
   "execution_count": 7,
   "metadata": {},
   "outputs": [
    {
     "name": "stdout",
     "output_type": "stream",
     "text": [
      "<class 'pandas.core.frame.DataFrame'>\n",
      "Int64Index: 19750 entries, 250 to 19999\n",
      "Columns: 300 entries, 0 to 299\n",
      "dtypes: float64(300)\n",
      "memory usage: 45.4 MB\n"
     ]
    }
   ],
   "source": [
    "test_df.info()"
   ]
  },
  {
   "cell_type": "code",
   "execution_count": 8,
   "metadata": {},
   "outputs": [
    {
     "data": {
      "text/plain": [
       "(19750, 300)"
      ]
     },
     "execution_count": 8,
     "metadata": {},
     "output_type": "execute_result"
    }
   ],
   "source": [
    "test_df.shape"
   ]
  },
  {
   "cell_type": "markdown",
   "metadata": {},
   "source": [
    "- Test dataset with `19750 records` and `300 features`"
   ]
  },
  {
   "cell_type": "code",
   "execution_count": 9,
   "metadata": {},
   "outputs": [
    {
     "data": {
      "text/plain": [
       "0"
      ]
     },
     "execution_count": 9,
     "metadata": {},
     "output_type": "execute_result"
    }
   ],
   "source": [
    "# NaNs\n",
    "train_df.isnull().sum().sum()"
   ]
  },
  {
   "cell_type": "code",
   "execution_count": 10,
   "metadata": {},
   "outputs": [
    {
     "data": {
      "text/plain": [
       "0"
      ]
     },
     "execution_count": 10,
     "metadata": {},
     "output_type": "execute_result"
    }
   ],
   "source": [
    "test_df.isnull().sum().sum()"
   ]
  },
  {
   "cell_type": "code",
   "execution_count": 11,
   "metadata": {},
   "outputs": [],
   "source": [
    "# # Check High Colinearity\n",
    "# for col, row in train_df.corr().iterrows():\n",
    "#     for i in range(train_df.corr().shape[0]):\n",
    "#         if row[i] > 0.9 and row[i] != 1:\n",
    "#             print(col)\n",
    "#             print(row[i])"
   ]
  },
  {
   "cell_type": "markdown",
   "metadata": {},
   "source": [
    "- There's `no high colinearlity` between any columns to drop."
   ]
  },
  {
   "cell_type": "markdown",
   "metadata": {},
   "source": [
    "### Modeling"
   ]
  },
  {
   "cell_type": "code",
   "execution_count": 619,
   "metadata": {},
   "outputs": [],
   "source": [
    "from sklearn.model_selection import train_test_split\n",
    "from sklearn.metrics import accuracy_score, roc_auc_score"
   ]
  },
  {
   "cell_type": "code",
   "execution_count": 620,
   "metadata": {},
   "outputs": [],
   "source": [
    "x = train_df.drop('target', axis=1)\n",
    "y = train_df['target']"
   ]
  },
  {
   "cell_type": "code",
   "execution_count": 621,
   "metadata": {},
   "outputs": [],
   "source": [
    "x_train, x_valid, y_train, y_valid = train_test_split(x,y, test_size=0.2, stratify=y, random_state=0)"
   ]
  },
  {
   "cell_type": "markdown",
   "metadata": {},
   "source": [
    "##### Logistic Regression"
   ]
  },
  {
   "cell_type": "code",
   "execution_count": 623,
   "metadata": {},
   "outputs": [
    {
     "name": "stdout",
     "output_type": "stream",
     "text": [
      "Train Accuracy = 1.0\n",
      "Valid Accuracy = 0.72\n",
      "ROC_AUC score = 0.6112266112266111\n"
     ]
    }
   ],
   "source": [
    "from sklearn.linear_model import LogisticRegression\n",
    "lr_model = LogisticRegression(solver='lbfgs', max_iter=100)\n",
    "\n",
    "lr_model.fit(x_train, y_train)\n",
    "\n",
    "train_predict = lr_model.predict(x_train)\n",
    "valid_predict = lr_model.predict(x_valid)\n",
    "\n",
    "print('Train Accuracy = {}'.format(accuracy_score(y_train, train_predict)))\n",
    "print('Valid Accuracy = {}'.format(accuracy_score(y_valid, valid_predict)))\n",
    "print('ROC_AUC score = {}'.format(roc_auc_score(y_valid, valid_predict)))"
   ]
  },
  {
   "cell_type": "markdown",
   "metadata": {},
   "source": [
    "- Not Accepted"
   ]
  },
  {
   "cell_type": "markdown",
   "metadata": {},
   "source": [
    "##### Naive Bayes"
   ]
  },
  {
   "cell_type": "code",
   "execution_count": 630,
   "metadata": {},
   "outputs": [
    {
     "name": "stdout",
     "output_type": "stream",
     "text": [
      "Train Accuracy = 0.99\n",
      "Valid Accuracy = 0.62\n",
      "ROC_AUC score = 0.4189189189189189\n"
     ]
    }
   ],
   "source": [
    "from sklearn.naive_bayes import GaussianNB\n",
    "nb_model = GaussianNB(var_smoothing = 0.00000000001)\n",
    "\n",
    "nb_model.fit(x_train, y_train)\n",
    "\n",
    "train_predict = nb_model.predict(x_train)\n",
    "valid_predict = nb_model.predict(x_valid)\n",
    "\n",
    "print('Train Accuracy = {}'.format(accuracy_score(y_train, train_predict)))\n",
    "print('Valid Accuracy = {}'.format(accuracy_score(y_valid, valid_predict)))\n",
    "print('ROC_AUC score = {}'.format(roc_auc_score(y_valid, valid_predict)))"
   ]
  },
  {
   "cell_type": "markdown",
   "metadata": {},
   "source": [
    "- Not Accepted"
   ]
  },
  {
   "cell_type": "markdown",
   "metadata": {},
   "source": [
    "##### KNN"
   ]
  },
  {
   "cell_type": "code",
   "execution_count": 638,
   "metadata": {},
   "outputs": [
    {
     "name": "stdout",
     "output_type": "stream",
     "text": [
      "Train Accuracy = 0.76\n",
      "Valid Accuracy = 0.72\n",
      "ROC_AUC score = 0.4864864864864865\n"
     ]
    }
   ],
   "source": [
    "from sklearn.neighbors import KNeighborsClassifier\n",
    "knn_model = KNeighborsClassifier(n_neighbors=5)\n",
    "\n",
    "knn_model.fit(x_train, y_train)\n",
    "\n",
    "train_predict = knn_model.predict(x_train)\n",
    "valid_predict = knn_model.predict(x_valid)\n",
    "\n",
    "print('Train Accuracy = {}'.format(accuracy_score(y_train, train_predict)))\n",
    "print('Valid Accuracy = {}'.format(accuracy_score(y_valid, valid_predict)))\n",
    "print('ROC_AUC score = {}'.format(roc_auc_score(y_valid, valid_predict)))"
   ]
  },
  {
   "cell_type": "markdown",
   "metadata": {},
   "source": [
    "##### SVM"
   ]
  },
  {
   "cell_type": "code",
   "execution_count": 657,
   "metadata": {},
   "outputs": [
    {
     "name": "stdout",
     "output_type": "stream",
     "text": [
      "Train Accuracy = 0.815\n",
      "Valid Accuracy = 0.76\n",
      "ROC_AUC score = 0.5634095634095635\n"
     ]
    }
   ],
   "source": [
    "from sklearn.svm import SVC\n",
    "svm_model = SVC(kernel='sigmoid')\n",
    "\n",
    "svm_model.fit(x_train, y_train)\n",
    "\n",
    "train_predict = svm_model.predict(x_train)\n",
    "valid_predict = svm_model.predict(x_valid)\n",
    "\n",
    "print('Train Accuracy = {}'.format(accuracy_score(y_train, train_predict)))\n",
    "print('Valid Accuracy = {}'.format(accuracy_score(y_valid, valid_predict)))\n",
    "print('ROC_AUC score = {}'.format(roc_auc_score(y_valid, valid_predict)))"
   ]
  },
  {
   "cell_type": "markdown",
   "metadata": {},
   "source": [
    "##### Decision Tree"
   ]
  },
  {
   "cell_type": "code",
   "execution_count": 662,
   "metadata": {},
   "outputs": [
    {
     "name": "stdout",
     "output_type": "stream",
     "text": [
      "Train Accuracy = 0.82\n",
      "Valid Accuracy = 0.8\n",
      "ROC_AUC score = 0.6153846153846154\n"
     ]
    }
   ],
   "source": [
    "from sklearn.tree import DecisionTreeClassifier\n",
    "dt_model = DecisionTreeClassifier(max_depth=2)\n",
    "\n",
    "dt_model.fit(x_train, y_train)\n",
    "\n",
    "train_predict = dt_model.predict(x_train)\n",
    "valid_predict = dt_model.predict(x_valid)\n",
    "\n",
    "print('Train Accuracy = {}'.format(accuracy_score(y_train, train_predict)))\n",
    "print('Valid Accuracy = {}'.format(accuracy_score(y_valid, valid_predict)))\n",
    "print('ROC_AUC score = {}'.format(roc_auc_score(y_valid, valid_predict)))"
   ]
  },
  {
   "cell_type": "markdown",
   "metadata": {},
   "source": [
    "##### Random Forest"
   ]
  },
  {
   "cell_type": "code",
   "execution_count": 692,
   "metadata": {},
   "outputs": [
    {
     "name": "stdout",
     "output_type": "stream",
     "text": [
      "Train Accuracy = 0.795\n",
      "Valid Accuracy = 0.74\n",
      "ROC_AUC score = 0.5748440748440748\n"
     ]
    }
   ],
   "source": [
    "from sklearn.ensemble import RandomForestClassifier\n",
    "rf_model = RandomForestClassifier(n_estimators=4, max_depth=3, n_jobs=-1, random_state=123)\n",
    "\n",
    "rf_model.fit(x_train, y_train)\n",
    "\n",
    "train_predict = rf_model.predict(x_train)\n",
    "valid_predict = rf_model.predict(x_valid)\n",
    "\n",
    "print('Train Accuracy = {}'.format(accuracy_score(y_train, train_predict)))\n",
    "print('Valid Accuracy = {}'.format(accuracy_score(y_valid, valid_predict)))\n",
    "print('ROC_AUC score = {}'.format(roc_auc_score(y_valid, valid_predict)))"
   ]
  },
  {
   "cell_type": "markdown",
   "metadata": {},
   "source": [
    "###### All models, except  logistic regression and naive bayes, doesn't overit but has low score, so, we will try to enhance the score through important features selection"
   ]
  },
  {
   "cell_type": "markdown",
   "metadata": {},
   "source": [
    "### Features Selection"
   ]
  },
  {
   "cell_type": "markdown",
   "metadata": {},
   "source": [
    "#### Firstly: Correlation Statistics Methods"
   ]
  },
  {
   "cell_type": "code",
   "execution_count": 693,
   "metadata": {},
   "outputs": [],
   "source": [
    "import numpy as np\n",
    "from sklearn import *"
   ]
  },
  {
   "cell_type": "code",
   "execution_count": 46,
   "metadata": {},
   "outputs": [],
   "source": [
    "# ANOVA method\n",
    "f_values = feature_selection.f_classif(x,y)[0]"
   ]
  },
  {
   "cell_type": "code",
   "execution_count": 53,
   "metadata": {},
   "outputs": [
    {
     "data": {
      "text/plain": [
       "(array([  0,   1,   3,   4,   6,  10,  16,  17,  18,  25,  26,  32,  39,\n",
       "         46,  54,  55,  57,  59,  63,  66,  69,  73,  74,  76,  79,  80,\n",
       "         85,  89,  93,  95,  96,  97, 100, 101, 102, 103, 106, 107, 110,\n",
       "        113, 115, 117, 119, 124, 126, 127, 133, 134, 135, 136, 140, 144,\n",
       "        145, 151, 158, 159, 160, 162, 163, 167, 169, 175, 176, 177, 178,\n",
       "        180, 183, 185, 192, 196, 199, 200, 204, 205, 208, 211, 212, 213,\n",
       "        215, 217, 218, 220, 231, 237, 238, 239, 240, 241, 243, 244, 247,\n",
       "        250, 251, 253, 260, 261, 262, 264, 271, 272, 278, 281, 286, 288,\n",
       "        291, 295, 297], dtype=int64),)"
      ]
     },
     "execution_count": 53,
     "metadata": {},
     "output_type": "execute_result"
    }
   ],
   "source": [
    "np.nonzero(f_values > 1)"
   ]
  },
  {
   "cell_type": "code",
   "execution_count": 54,
   "metadata": {},
   "outputs": [
    {
     "data": {
      "text/plain": [
       "(array([  1,   3,   6,  16,  18,  59,  63,  66,  69,  73,  74,  79,  80,\n",
       "         93,  95,  96, 110, 113, 126, 127, 133, 135, 136, 144, 151, 159,\n",
       "        160, 162, 167, 169, 175, 176, 177, 178, 183, 192, 196, 199, 200,\n",
       "        205, 208, 211, 213, 220, 231, 241, 244, 250, 260, 261, 262, 264,\n",
       "        271, 278, 291], dtype=int64),)"
      ]
     },
     "execution_count": 54,
     "metadata": {},
     "output_type": "execute_result"
    }
   ],
   "source": [
    "np.nonzero(f_values > 2)"
   ]
  },
  {
   "cell_type": "code",
   "execution_count": 59,
   "metadata": {},
   "outputs": [
    {
     "data": {
      "text/plain": [
       "(array([  1,   3,  16,  18,  59,  63,  66,  69,  74,  80,  93,  95, 113,\n",
       "        126, 127, 133, 135, 136, 151, 159, 167, 175, 176, 177, 192, 199,\n",
       "        211, 213, 220, 231, 241, 260, 261, 262, 271, 278], dtype=int64),)"
      ]
     },
     "execution_count": 59,
     "metadata": {},
     "output_type": "execute_result"
    }
   ],
   "source": [
    "np.nonzero(f_values > 3)"
   ]
  },
  {
   "cell_type": "markdown",
   "metadata": {},
   "source": [
    "- so, we can select features with `f_values more than 3`"
   ]
  },
  {
   "cell_type": "code",
   "execution_count": 694,
   "metadata": {},
   "outputs": [
    {
     "data": {
      "text/plain": [
       "array(['1', '3', '16', '18', '59', '63', '66', '69', '74', '80', '93',\n",
       "       '95', '113', '126', '127', '133', '135', '136', '151', '159',\n",
       "       '167', '175', '176', '177', '192', '199', '211', '213', '220',\n",
       "       '231', '241', '260', '261', '262', '271', '278'], dtype='<U21')"
      ]
     },
     "execution_count": 694,
     "metadata": {},
     "output_type": "execute_result"
    }
   ],
   "source": [
    "selected_features = np.array(np.nonzero(f_values > 3)[0], dtype= str)\n",
    "selected_features"
   ]
  },
  {
   "cell_type": "code",
   "execution_count": 695,
   "metadata": {},
   "outputs": [],
   "source": [
    "x1 = train_df[selected_features]\n",
    "y = train_df['target']\n",
    "test1 = test_df[selected_features]"
   ]
  },
  {
   "cell_type": "markdown",
   "metadata": {},
   "source": [
    "#### Modeling"
   ]
  },
  {
   "cell_type": "code",
   "execution_count": 697,
   "metadata": {},
   "outputs": [],
   "source": [
    "x_train1, x_valid1, y_train1, y_valid1 = train_test_split(x1,y, test_size=0.2, stratify=y, random_state=0)"
   ]
  },
  {
   "cell_type": "code",
   "execution_count": 711,
   "metadata": {},
   "outputs": [
    {
     "name": "stdout",
     "output_type": "stream",
     "text": [
      "Train Accuracy = 0.81\n",
      "Valid Accuracy = 0.76\n",
      "ROC_AUC score = 0.5883575883575884\n"
     ]
    }
   ],
   "source": [
    "dt_model = DecisionTreeClassifier(max_depth=2)\n",
    "\n",
    "dt_model.fit(x_train1, y_train1)\n",
    "\n",
    "train1_predict = dt_model.predict(x_train1)\n",
    "valid1_predict = dt_model.predict(x_valid1)\n",
    "\n",
    "print('Train Accuracy = {}'.format(accuracy_score(y_train1, train1_predict)))\n",
    "print('Valid Accuracy = {}'.format(accuracy_score(y_valid1, valid1_predict)))\n",
    "print('ROC_AUC score = {}'.format(roc_auc_score(y_valid1, valid1_predict)))"
   ]
  },
  {
   "cell_type": "code",
   "execution_count": 699,
   "metadata": {},
   "outputs": [
    {
     "name": "stdout",
     "output_type": "stream",
     "text": [
      "Train Accuracy = 0.855\n",
      "Valid Accuracy = 0.8\n",
      "ROC_AUC score = 0.6403326403326404\n"
     ]
    }
   ],
   "source": [
    "rf_model = RandomForestClassifier(n_estimators=7, max_depth=3, n_jobs=-1, random_state=123)\n",
    "\n",
    "rf_model.fit(x_train1, y_train1)\n",
    "\n",
    "train1_predict = rf_model.predict(x_train1)\n",
    "valid1_predict = rf_model.predict(x_valid1)\n",
    "\n",
    "print('Train Accuracy = {}'.format(accuracy_score(y_train1, train1_predict)))\n",
    "print('Valid Accuracy = {}'.format(accuracy_score(y_valid1, valid1_predict)))\n",
    "print('ROC_AUC score = {}'.format(roc_auc_score(y_valid1, valid1_predict)))"
   ]
  },
  {
   "cell_type": "markdown",
   "metadata": {},
   "source": [
    "- Accpeted as Not Overfit, but still low ROC_AUC score"
   ]
  },
  {
   "cell_type": "code",
   "execution_count": 128,
   "metadata": {},
   "outputs": [],
   "source": [
    "# mutual information method\n",
    "mutual_info = feature_selection.mutual_info_classif(x,y, random_state=0)"
   ]
  },
  {
   "cell_type": "code",
   "execution_count": 197,
   "metadata": {},
   "outputs": [
    {
     "data": {
      "text/plain": [
       "array([ 13,  16,  21,  27,  30,  33,  34,  47,  59,  75,  90,  93, 117,\n",
       "       126, 127, 133, 147, 164, 169, 179, 213, 220, 240, 272, 274, 297],\n",
       "      dtype=int64)"
      ]
     },
     "execution_count": 197,
     "metadata": {},
     "output_type": "execute_result"
    }
   ],
   "source": [
    "np.nonzero(mutual_info >= 0.04)[0]"
   ]
  },
  {
   "cell_type": "code",
   "execution_count": 712,
   "metadata": {},
   "outputs": [
    {
     "data": {
      "text/plain": [
       "array(['13', '16', '21', '27', '30', '33', '34', '47', '59', '75', '90',\n",
       "       '93', '117', '126', '127', '133', '147', '164', '169', '179',\n",
       "       '213', '220', '240', '272', '274', '297'], dtype='<U21')"
      ]
     },
     "execution_count": 712,
     "metadata": {},
     "output_type": "execute_result"
    }
   ],
   "source": [
    "selected_features = np.array(np.nonzero(mutual_info >= 0.04)[0], dtype= str)\n",
    "selected_features"
   ]
  },
  {
   "cell_type": "code",
   "execution_count": 713,
   "metadata": {},
   "outputs": [],
   "source": [
    "x2 = train_df[selected_features]\n",
    "y = train_df['target']\n",
    "test2 = test_df[selected_features]"
   ]
  },
  {
   "cell_type": "markdown",
   "metadata": {},
   "source": [
    "#### Modeling"
   ]
  },
  {
   "cell_type": "code",
   "execution_count": 715,
   "metadata": {},
   "outputs": [],
   "source": [
    "x_train2, x_valid2, y_train2, y_valid2 = train_test_split(x2,y, test_size=0.2, stratify=y, random_state=0)"
   ]
  },
  {
   "cell_type": "code",
   "execution_count": 721,
   "metadata": {},
   "outputs": [
    {
     "name": "stdout",
     "output_type": "stream",
     "text": [
      "Train Accuracy = 0.795\n",
      "Valid Accuracy = 0.76\n",
      "ROC_AUC score = 0.5634095634095635\n"
     ]
    }
   ],
   "source": [
    "dt_model = DecisionTreeClassifier(max_depth=2)\n",
    "\n",
    "dt_model.fit(x_train2, y_train2)\n",
    "\n",
    "train2_predict = dt_model.predict(x_train2)\n",
    "valid2_predict = dt_model.predict(x_valid2)\n",
    "\n",
    "print('Train Accuracy = {}'.format(accuracy_score(y_train2, train2_predict)))\n",
    "print('Valid Accuracy = {}'.format(accuracy_score(y_valid2, valid2_predict)))\n",
    "print('ROC_AUC score = {}'.format(roc_auc_score(y_valid2, valid2_predict)))"
   ]
  },
  {
   "cell_type": "code",
   "execution_count": 717,
   "metadata": {},
   "outputs": [
    {
     "name": "stdout",
     "output_type": "stream",
     "text": [
      "Train Accuracy = 0.83\n",
      "Valid Accuracy = 0.78\n",
      "ROC_AUC score = 0.5769230769230769\n"
     ]
    }
   ],
   "source": [
    "rf_model = RandomForestClassifier(n_estimators=10, max_depth=3, n_jobs=-1, random_state=123)\n",
    "\n",
    "rf_model.fit(x_train2, y_train2)\n",
    "\n",
    "train2_predict = rf_model.predict(x_train2)\n",
    "valid2_predict = rf_model.predict(x_valid2)\n",
    "\n",
    "print('Train Accuracy = {}'.format(accuracy_score(y_train2, train2_predict)))\n",
    "print('Valid Accuracy = {}'.format(accuracy_score(y_valid2, valid2_predict)))\n",
    "print('ROC_AUC score = {}'.format(roc_auc_score(y_valid2, valid2_predict)))"
   ]
  },
  {
   "cell_type": "markdown",
   "metadata": {},
   "source": [
    "- Accpeted as Not Overfit, but still low ROC_AUC score"
   ]
  },
  {
   "cell_type": "markdown",
   "metadata": {},
   "source": [
    "#### Secondly: Selection Methods"
   ]
  },
  {
   "cell_type": "code",
   "execution_count": 755,
   "metadata": {},
   "outputs": [],
   "source": [
    "# k_score method\n",
    "selected_x_with_k_best_classifier = feature_selection.SelectKBest(feature_selection.f_classif, k=15).fit_transform(x, y)"
   ]
  },
  {
   "cell_type": "code",
   "execution_count": 756,
   "metadata": {},
   "outputs": [],
   "source": [
    "x3 = selected_x_with_k_best_classifier.copy()\n",
    "y = train_df['target']"
   ]
  },
  {
   "cell_type": "markdown",
   "metadata": {},
   "source": [
    "#### Modeling"
   ]
  },
  {
   "cell_type": "code",
   "execution_count": 757,
   "metadata": {},
   "outputs": [],
   "source": [
    "x_train3, x_valid3, y_train3, y_valid3 = train_test_split(x3,y, test_size=0.2, stratify=y, random_state=0)"
   ]
  },
  {
   "cell_type": "code",
   "execution_count": 774,
   "metadata": {},
   "outputs": [
    {
     "name": "stdout",
     "output_type": "stream",
     "text": [
      "Train Accuracy = 0.795\n",
      "Valid Accuracy = 0.8\n",
      "ROC_AUC score = 0.6153846153846154\n"
     ]
    }
   ],
   "source": [
    "dt_model = DecisionTreeClassifier(max_depth=2)\n",
    "\n",
    "dt_model.fit(x_train3, y_train3)\n",
    "\n",
    "train3_predict = dt_model.predict(x_train3)\n",
    "valid3_predict = dt_model.predict(x_valid3)\n",
    "\n",
    "print('Train Accuracy = {}'.format(accuracy_score(y_train3, train3_predict)))\n",
    "print('Valid Accuracy = {}'.format(accuracy_score(y_valid3, valid3_predict)))\n",
    "print('ROC_AUC score = {}'.format(roc_auc_score(y_valid3, valid3_predict)))"
   ]
  },
  {
   "cell_type": "code",
   "execution_count": 768,
   "metadata": {
    "scrolled": true
   },
   "outputs": [
    {
     "name": "stdout",
     "output_type": "stream",
     "text": [
      "Train Accuracy = 0.925\n",
      "Valid Accuracy = 0.84\n",
      "ROC_AUC score = 0.6923076923076923\n"
     ]
    }
   ],
   "source": [
    "rf_model = RandomForestClassifier(n_estimators=6, max_depth=5, n_jobs=-1, random_state=123)\n",
    "\n",
    "rf_model.fit(x_train3, y_train3)\n",
    "\n",
    "train3_predict = rf_model.predict(x_train3)\n",
    "valid3_predict = rf_model.predict(x_valid3)\n",
    "\n",
    "print('Train Accuracy = {}'.format(accuracy_score(y_train3, train3_predict)))\n",
    "print('Valid Accuracy = {}'.format(accuracy_score(y_valid3, valid3_predict)))\n",
    "print('ROC_AUC score = {}'.format(roc_auc_score(y_valid3, valid3_predict)))"
   ]
  },
  {
   "cell_type": "markdown",
   "metadata": {},
   "source": [
    "- `Accpeted as Not Overfit & Accpeted ROC_AUC score`"
   ]
  },
  {
   "cell_type": "code",
   "execution_count": null,
   "metadata": {},
   "outputs": [],
   "source": [
    "# rf_model = RandomForestClassifier(n_estimators=6, max_depth=5, n_jobs=-1, random_state=123)\n",
    "\n",
    "# rf_model.fit(x_train3, y_train3)\n",
    "\n",
    "# train3_predict = rf_model.predict(x_train3)\n",
    "# valid3_predict = rf_model.predict(x_valid3)\n",
    "\n",
    "# print('Train Accuracy = {}'.format(accuracy_score(y_train3, train3_predict)))\n",
    "# print('Valid Accuracy = {}'.format(accuracy_score(y_valid3, valid3_predict)))\n",
    "# print('ROC_AUC score = {}'.format(roc_auc_score(y_valid3, valid3_predict)))"
   ]
  },
  {
   "cell_type": "code",
   "execution_count": 803,
   "metadata": {},
   "outputs": [],
   "source": [
    "# Percentile method\n",
    "x4 = feature_selection.SelectPercentile(feature_selection.f_classif, percentile=15).fit_transform(x, y)\n",
    "y = train_df['target']"
   ]
  },
  {
   "cell_type": "markdown",
   "metadata": {},
   "source": [
    "#### Modeling"
   ]
  },
  {
   "cell_type": "code",
   "execution_count": 804,
   "metadata": {},
   "outputs": [],
   "source": [
    "x_train4, x_valid4, y_train4, y_valid4 = train_test_split(x4,y, test_size=0.2, stratify=y, random_state=0)"
   ]
  },
  {
   "cell_type": "code",
   "execution_count": 836,
   "metadata": {},
   "outputs": [
    {
     "name": "stdout",
     "output_type": "stream",
     "text": [
      "Train Accuracy = 0.81\n",
      "Valid Accuracy = 0.76\n",
      "ROC_AUC score = 0.5883575883575884\n"
     ]
    }
   ],
   "source": [
    "dt_model = DecisionTreeClassifier(max_depth=2)\n",
    "dt_model.fit(x_train4, y_train4)\n",
    "\n",
    "train4_predict = dt_model.predict(x_train4)\n",
    "valid4_predict = dt_model.predict(x_valid4)\n",
    "\n",
    "print('Train Accuracy = {}'.format(accuracy_score(y_train4, train4_predict)))\n",
    "print('Valid Accuracy = {}'.format(accuracy_score(y_valid4, valid4_predict)))\n",
    "print('ROC_AUC score = {}'.format(roc_auc_score(y_valid4, valid4_predict)))"
   ]
  },
  {
   "cell_type": "code",
   "execution_count": 826,
   "metadata": {
    "scrolled": true
   },
   "outputs": [
    {
     "name": "stdout",
     "output_type": "stream",
     "text": [
      "Train Accuracy = 0.78\n",
      "Valid Accuracy = 0.8\n",
      "ROC_AUC score = 0.6153846153846154\n"
     ]
    }
   ],
   "source": [
    "rf_model = RandomForestClassifier(n_estimators=3, max_depth=2, n_jobs=-1, random_state=123)\n",
    "\n",
    "rf_model.fit(x_train4, y_train4)\n",
    "\n",
    "train4_predict = rf_model.predict(x_train4)\n",
    "valid4_predict = rf_model.predict(x_valid4)\n",
    "\n",
    "print('Train Accuracy = {}'.format(accuracy_score(y_train4, train4_predict)))\n",
    "print('Valid Accuracy = {}'.format(accuracy_score(y_valid4, valid4_predict)))\n",
    "print('ROC_AUC score = {}'.format(roc_auc_score(y_valid4, valid4_predict)))"
   ]
  },
  {
   "cell_type": "markdown",
   "metadata": {},
   "source": [
    "- Accpeted as Not Overfit, but still low ROC_AUC score"
   ]
  },
  {
   "cell_type": "markdown",
   "metadata": {},
   "source": [
    "#### Thirdly: Using Feature Importance Property of Model"
   ]
  },
  {
   "cell_type": "code",
   "execution_count": 786,
   "metadata": {},
   "outputs": [
    {
     "data": {
      "image/png": "[encoded data removed]",
      "text/plain": [
       "<Figure size 432x288 with 1 Axes>"
      ]
     },
     "metadata": {
      "needs_background": "light"
     },
     "output_type": "display_data"
    }
   ],
   "source": [
    "import matplotlib.pyplot as plt  \n",
    "\n",
    "model = RandomForestClassifier(random_state=123)  \n",
    "model.fit(x,y)  \n",
    "\n",
    "#plot graph of feature importances for better visualization  \n",
    "features_importances = pd.Series(model.feature_importances_, index=x.columns)  \n",
    "features_importances.nlargest(15).plot(kind='barh')  \n",
    "plt.show()"
   ]
  },
  {
   "cell_type": "code",
   "execution_count": 787,
   "metadata": {},
   "outputs": [
    {
     "data": {
      "text/plain": [
       "Index(['127', '59', '18', '176', '133', '23', '56', '241', '220', '33', '263',\n",
       "       '90', '29', '185', '243'],\n",
       "      dtype='object')"
      ]
     },
     "execution_count": 787,
     "metadata": {},
     "output_type": "execute_result"
    }
   ],
   "source": [
    "selected_features = features_importances.nlargest(15).index\n",
    "selected_features"
   ]
  },
  {
   "cell_type": "code",
   "execution_count": 789,
   "metadata": {},
   "outputs": [],
   "source": [
    "x5 = train_df[selected_features]\n",
    "y = train_df['target']\n",
    "test5 = test_df[selected_features]"
   ]
  },
  {
   "cell_type": "markdown",
   "metadata": {},
   "source": [
    "#### Modeling"
   ]
  },
  {
   "cell_type": "code",
   "execution_count": 791,
   "metadata": {},
   "outputs": [],
   "source": [
    "x_train5, x_valid5, y_train5, y_valid5 = train_test_split(x5,y, test_size=0.2, stratify=y, random_state=0)"
   ]
  },
  {
   "cell_type": "code",
   "execution_count": 799,
   "metadata": {},
   "outputs": [
    {
     "name": "stdout",
     "output_type": "stream",
     "text": [
      "Train Accuracy = 0.795\n",
      "Valid Accuracy = 0.8\n",
      "ROC_AUC score = 0.6153846153846154\n"
     ]
    }
   ],
   "source": [
    "dt_model = DecisionTreeClassifier(max_depth=2)\n",
    "dt_model.fit(x_train5, y_train5)\n",
    "\n",
    "train5_predict = dt_model.predict(x_train5)\n",
    "valid5_predict = dt_model.predict(x_valid5)\n",
    "\n",
    "print('Train Accuracy = {}'.format(accuracy_score(y_train5, train5_predict)))\n",
    "print('Valid Accuracy = {}'.format(accuracy_score(y_valid5, valid5_predict)))\n",
    "print('ROC_AUC score = {}'.format(roc_auc_score(y_valid5, valid5_predict)))"
   ]
  },
  {
   "cell_type": "code",
   "execution_count": 802,
   "metadata": {
    "scrolled": true
   },
   "outputs": [
    {
     "name": "stdout",
     "output_type": "stream",
     "text": [
      "Train Accuracy = 0.845\n",
      "Valid Accuracy = 0.74\n",
      "ROC_AUC score = 0.524948024948025\n"
     ]
    }
   ],
   "source": [
    "rf_model = RandomForestClassifier(n_estimators=6, max_depth=4, n_jobs=-1, random_state=123)\n",
    "\n",
    "rf_model.fit(x_train5, y_train5)\n",
    "\n",
    "train5_predict = rf_model.predict(x_train5)\n",
    "valid5_predict = rf_model.predict(x_valid5)\n",
    "\n",
    "print('Train Accuracy = {}'.format(accuracy_score(y_train5, train5_predict)))\n",
    "print('Valid Accuracy = {}'.format(accuracy_score(y_valid5, valid5_predict)))\n",
    "print('ROC_AUC score = {}'.format(roc_auc_score(y_valid5, valid5_predict)))"
   ]
  },
  {
   "cell_type": "markdown",
   "metadata": {},
   "source": [
    "#### The best model through using k_score method to select the important features"
   ]
  }
 ],
 "metadata": {
  "kernelspec": {
   "display_name": "Python 3",
   "language": "python",
   "name": "python3"
  },
  "language_info": {
   "codemirror_mode": {
    "name": "ipython",
    "version": 3
   },
   "file_extension": ".py",
   "mimetype": "text/x-python",
   "name": "python",
   "nbconvert_exporter": "python",
   "pygments_lexer": "ipython3",
   "version": "3.8.5"
  }
 },
 "nbformat": 4,
 "nbformat_minor": 4
}
