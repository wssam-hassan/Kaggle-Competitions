{
 "cells": [
  {
   "cell_type": "markdown",
   "metadata": {
    "papermill": {
     "duration": 0.040767,
     "end_time": "2021-11-07T20:57:33.969405",
     "exception": false,
     "start_time": "2021-11-07T20:57:33.928638",
     "status": "completed"
    },
    "tags": []
   },
   "source": [
    "#### **Load Important Libraries and Datasets**"
   ]
  },
  {
   "cell_type": "code",
   "execution_count": 1,
   "metadata": {
    "execution": {
     "iopub.execute_input": "2021-11-07T20:57:34.054651Z",
     "iopub.status.busy": "2021-11-07T20:57:34.053934Z",
     "iopub.status.idle": "2021-11-07T20:57:42.263434Z",
     "shell.execute_reply": "2021-11-07T20:57:42.262443Z",
     "shell.execute_reply.started": "2021-11-07T19:28:56.660716Z"
    },
    "papermill": {
     "duration": 8.258865,
     "end_time": "2021-11-07T20:57:42.263643",
     "exception": false,
     "start_time": "2021-11-07T20:57:34.004778",
     "status": "completed"
    },
    "tags": []
   },
   "outputs": [],
   "source": [
    "import numpy as np \n",
    "import pandas as pd\n",
    "\n",
    "import matplotlib.pyplot as plt\n",
    "import matplotlib.image as mpimg\n",
    "\n",
    "from sklearn.model_selection import train_test_split\n",
    "from sklearn.preprocessing import MinMaxScaler, StandardScaler\n",
    "\n",
    "import tensorflow as tf\n",
    "from tensorflow.keras import datasets, layers, models, callbacks, optimizers\n",
    "from keras.preprocessing.image import ImageDataGenerator"
   ]
  },
  {
   "cell_type": "markdown",
   "metadata": {
    "papermill": {
     "duration": 0.034433,
     "end_time": "2021-11-07T20:57:42.333057",
     "exception": false,
     "start_time": "2021-11-07T20:57:42.298624",
     "status": "completed"
    },
    "tags": []
   },
   "source": [
    "##### **Train Data**"
   ]
  },
  {
   "cell_type": "code",
   "execution_count": 2,
   "metadata": {
    "execution": {
     "iopub.execute_input": "2021-11-07T20:57:42.408415Z",
     "iopub.status.busy": "2021-11-07T20:57:42.407489Z",
     "iopub.status.idle": "2021-11-07T20:57:42.454175Z",
     "shell.execute_reply": "2021-11-07T20:57:42.454717Z",
     "shell.execute_reply.started": "2021-11-07T19:29:04.589595Z"
    },
    "papermill": {
     "duration": 0.087403,
     "end_time": "2021-11-07T20:57:42.454915",
     "exception": false,
     "start_time": "2021-11-07T20:57:42.367512",
     "status": "completed"
    },
    "tags": []
   },
   "outputs": [
    {
     "data": {
      "text/html": [
       "<div>\n",
       "<style scoped>\n",
       "    .dataframe tbody tr th:only-of-type {\n",
       "        vertical-align: middle;\n",
       "    }\n",
       "\n",
       "    .dataframe tbody tr th {\n",
       "        vertical-align: top;\n",
       "    }\n",
       "\n",
       "    .dataframe thead th {\n",
       "        text-align: right;\n",
       "    }\n",
       "</style>\n",
       "<table border=\"1\" class=\"dataframe\">\n",
       "  <thead>\n",
       "    <tr style=\"text-align: right;\">\n",
       "      <th></th>\n",
       "      <th>label</th>\n",
       "    </tr>\n",
       "    <tr>\n",
       "      <th>id</th>\n",
       "      <th></th>\n",
       "    </tr>\n",
       "  </thead>\n",
       "  <tbody>\n",
       "    <tr>\n",
       "      <th>0</th>\n",
       "      <td>24</td>\n",
       "    </tr>\n",
       "    <tr>\n",
       "      <th>1</th>\n",
       "      <td>2</td>\n",
       "    </tr>\n",
       "    <tr>\n",
       "      <th>2</th>\n",
       "      <td>17</td>\n",
       "    </tr>\n",
       "    <tr>\n",
       "      <th>3</th>\n",
       "      <td>14</td>\n",
       "    </tr>\n",
       "    <tr>\n",
       "      <th>4</th>\n",
       "      <td>19</td>\n",
       "    </tr>\n",
       "  </tbody>\n",
       "</table>\n",
       "</div>"
      ],
      "text/plain": [
       "    label\n",
       "id       \n",
       "0      24\n",
       "1       2\n",
       "2      17\n",
       "3      14\n",
       "4      19"
      ]
     },
     "execution_count": 2,
     "metadata": {},
     "output_type": "execute_result"
    }
   ],
   "source": [
    "train_data = pd.read_csv('/kaggle/input/arabic-hwr-ai-pro-intake1/train.csv', index_col='id')\n",
    "train_data.head()"
   ]
  },
  {
   "cell_type": "code",
   "execution_count": 3,
   "metadata": {
    "execution": {
     "iopub.execute_input": "2021-11-07T20:57:42.529890Z",
     "iopub.status.busy": "2021-11-07T20:57:42.529224Z",
     "iopub.status.idle": "2021-11-07T20:57:42.573944Z",
     "shell.execute_reply": "2021-11-07T20:57:42.573281Z",
     "shell.execute_reply.started": "2021-11-07T19:29:04.640529Z"
    },
    "papermill": {
     "duration": 0.08263,
     "end_time": "2021-11-07T20:57:42.574122",
     "exception": false,
     "start_time": "2021-11-07T20:57:42.491492",
     "status": "completed"
    },
    "tags": []
   },
   "outputs": [
    {
     "data": {
      "text/html": [
       "<div>\n",
       "<style scoped>\n",
       "    .dataframe tbody tr th:only-of-type {\n",
       "        vertical-align: middle;\n",
       "    }\n",
       "\n",
       "    .dataframe tbody tr th {\n",
       "        vertical-align: top;\n",
       "    }\n",
       "\n",
       "    .dataframe thead th {\n",
       "        text-align: right;\n",
       "    }\n",
       "</style>\n",
       "<table border=\"1\" class=\"dataframe\">\n",
       "  <thead>\n",
       "    <tr style=\"text-align: right;\">\n",
       "      <th></th>\n",
       "      <th>label</th>\n",
       "      <th>img_name</th>\n",
       "    </tr>\n",
       "    <tr>\n",
       "      <th>id</th>\n",
       "      <th></th>\n",
       "      <th></th>\n",
       "    </tr>\n",
       "  </thead>\n",
       "  <tbody>\n",
       "    <tr>\n",
       "      <th>0</th>\n",
       "      <td>24</td>\n",
       "      <td>00000</td>\n",
       "    </tr>\n",
       "    <tr>\n",
       "      <th>1</th>\n",
       "      <td>2</td>\n",
       "      <td>00001</td>\n",
       "    </tr>\n",
       "    <tr>\n",
       "      <th>2</th>\n",
       "      <td>17</td>\n",
       "      <td>00002</td>\n",
       "    </tr>\n",
       "    <tr>\n",
       "      <th>3</th>\n",
       "      <td>14</td>\n",
       "      <td>00003</td>\n",
       "    </tr>\n",
       "    <tr>\n",
       "      <th>4</th>\n",
       "      <td>19</td>\n",
       "      <td>00004</td>\n",
       "    </tr>\n",
       "  </tbody>\n",
       "</table>\n",
       "</div>"
      ],
      "text/plain": [
       "    label img_name\n",
       "id                \n",
       "0      24    00000\n",
       "1       2    00001\n",
       "2      17    00002\n",
       "3      14    00003\n",
       "4      19    00004"
      ]
     },
     "execution_count": 3,
     "metadata": {},
     "output_type": "execute_result"
    }
   ],
   "source": [
    "train_data['img_name'] = train_data.index\n",
    "train_data['img_name'] = train_data['img_name'].astype(str).str.pad(5, fillchar='0')\n",
    "train_data.head()"
   ]
  },
  {
   "cell_type": "code",
   "execution_count": 4,
   "metadata": {
    "execution": {
     "iopub.execute_input": "2021-11-07T20:57:42.653770Z",
     "iopub.status.busy": "2021-11-07T20:57:42.652786Z",
     "iopub.status.idle": "2021-11-07T20:58:30.147264Z",
     "shell.execute_reply": "2021-11-07T20:58:30.146109Z",
     "shell.execute_reply.started": "2021-11-07T19:29:04.687544Z"
    },
    "papermill": {
     "duration": 47.537619,
     "end_time": "2021-11-07T20:58:30.147480",
     "exception": false,
     "start_time": "2021-11-07T20:57:42.609861",
     "status": "completed"
    },
    "tags": []
   },
   "outputs": [],
   "source": [
    "train_images = np.empty((train_data.shape[0], 32, 32, 3))\n",
    "\n",
    "for i in range(train_data.shape[0]):\n",
    "    img_name = train_data.loc[i, 'img_name']\n",
    "    img_path = '/kaggle/input/arabic-hwr-ai-pro-intake1/train/{}.png'.format(img_name)\n",
    "    \n",
    "    image = mpimg.imread(img_path)\n",
    "    image = image[:,:,:3]\n",
    "    train_images[i] = image"
   ]
  },
  {
   "cell_type": "code",
   "execution_count": 5,
   "metadata": {
    "execution": {
     "iopub.execute_input": "2021-11-07T20:58:30.226342Z",
     "iopub.status.busy": "2021-11-07T20:58:30.225269Z",
     "iopub.status.idle": "2021-11-07T20:58:30.228878Z",
     "shell.execute_reply": "2021-11-07T20:58:30.229396Z",
     "shell.execute_reply.started": "2021-11-07T19:29:43.959033Z"
    },
    "papermill": {
     "duration": 0.045859,
     "end_time": "2021-11-07T20:58:30.229583",
     "exception": false,
     "start_time": "2021-11-07T20:58:30.183724",
     "status": "completed"
    },
    "tags": []
   },
   "outputs": [
    {
     "data": {
      "text/plain": [
       "(13440, 32, 32, 3)"
      ]
     },
     "execution_count": 5,
     "metadata": {},
     "output_type": "execute_result"
    }
   ],
   "source": [
    "train_images.shape"
   ]
  },
  {
   "cell_type": "markdown",
   "metadata": {
    "papermill": {
     "duration": 0.035636,
     "end_time": "2021-11-07T20:58:30.301009",
     "exception": false,
     "start_time": "2021-11-07T20:58:30.265373",
     "status": "completed"
    },
    "tags": []
   },
   "source": [
    "##### **Test Data**"
   ]
  },
  {
   "cell_type": "code",
   "execution_count": 6,
   "metadata": {
    "execution": {
     "iopub.execute_input": "2021-11-07T20:58:30.378423Z",
     "iopub.status.busy": "2021-11-07T20:58:30.377674Z",
     "iopub.status.idle": "2021-11-07T20:58:30.390879Z",
     "shell.execute_reply": "2021-11-07T20:58:30.391398Z",
     "shell.execute_reply.started": "2021-11-07T19:29:43.967543Z"
    },
    "papermill": {
     "duration": 0.054464,
     "end_time": "2021-11-07T20:58:30.391580",
     "exception": false,
     "start_time": "2021-11-07T20:58:30.337116",
     "status": "completed"
    },
    "tags": []
   },
   "outputs": [
    {
     "data": {
      "text/html": [
       "<div>\n",
       "<style scoped>\n",
       "    .dataframe tbody tr th:only-of-type {\n",
       "        vertical-align: middle;\n",
       "    }\n",
       "\n",
       "    .dataframe tbody tr th {\n",
       "        vertical-align: top;\n",
       "    }\n",
       "\n",
       "    .dataframe thead th {\n",
       "        text-align: right;\n",
       "    }\n",
       "</style>\n",
       "<table border=\"1\" class=\"dataframe\">\n",
       "  <thead>\n",
       "    <tr style=\"text-align: right;\">\n",
       "      <th></th>\n",
       "    </tr>\n",
       "    <tr>\n",
       "      <th>id</th>\n",
       "    </tr>\n",
       "  </thead>\n",
       "  <tbody>\n",
       "    <tr>\n",
       "      <th>0</th>\n",
       "    </tr>\n",
       "    <tr>\n",
       "      <th>1</th>\n",
       "    </tr>\n",
       "    <tr>\n",
       "      <th>2</th>\n",
       "    </tr>\n",
       "    <tr>\n",
       "      <th>3</th>\n",
       "    </tr>\n",
       "    <tr>\n",
       "      <th>4</th>\n",
       "    </tr>\n",
       "  </tbody>\n",
       "</table>\n",
       "</div>"
      ],
      "text/plain": [
       "Empty DataFrame\n",
       "Columns: []\n",
       "Index: [0, 1, 2, 3, 4]"
      ]
     },
     "execution_count": 6,
     "metadata": {},
     "output_type": "execute_result"
    }
   ],
   "source": [
    "test_data = pd.read_csv('/kaggle/input/arabic-hwr-ai-pro-intake1/test.csv', index_col='id')\n",
    "test_data.head()"
   ]
  },
  {
   "cell_type": "code",
   "execution_count": 7,
   "metadata": {
    "execution": {
     "iopub.execute_input": "2021-11-07T20:58:30.468190Z",
     "iopub.status.busy": "2021-11-07T20:58:30.467197Z",
     "iopub.status.idle": "2021-11-07T20:58:30.485099Z",
     "shell.execute_reply": "2021-11-07T20:58:30.485591Z",
     "shell.execute_reply.started": "2021-11-07T19:29:44.015083Z"
    },
    "papermill": {
     "duration": 0.057623,
     "end_time": "2021-11-07T20:58:30.485769",
     "exception": false,
     "start_time": "2021-11-07T20:58:30.428146",
     "status": "completed"
    },
    "tags": []
   },
   "outputs": [
    {
     "data": {
      "text/html": [
       "<div>\n",
       "<style scoped>\n",
       "    .dataframe tbody tr th:only-of-type {\n",
       "        vertical-align: middle;\n",
       "    }\n",
       "\n",
       "    .dataframe tbody tr th {\n",
       "        vertical-align: top;\n",
       "    }\n",
       "\n",
       "    .dataframe thead th {\n",
       "        text-align: right;\n",
       "    }\n",
       "</style>\n",
       "<table border=\"1\" class=\"dataframe\">\n",
       "  <thead>\n",
       "    <tr style=\"text-align: right;\">\n",
       "      <th></th>\n",
       "      <th>img_name</th>\n",
       "    </tr>\n",
       "    <tr>\n",
       "      <th>id</th>\n",
       "      <th></th>\n",
       "    </tr>\n",
       "  </thead>\n",
       "  <tbody>\n",
       "    <tr>\n",
       "      <th>0</th>\n",
       "      <td>00000</td>\n",
       "    </tr>\n",
       "    <tr>\n",
       "      <th>1</th>\n",
       "      <td>00001</td>\n",
       "    </tr>\n",
       "    <tr>\n",
       "      <th>2</th>\n",
       "      <td>00002</td>\n",
       "    </tr>\n",
       "    <tr>\n",
       "      <th>3</th>\n",
       "      <td>00003</td>\n",
       "    </tr>\n",
       "    <tr>\n",
       "      <th>4</th>\n",
       "      <td>00004</td>\n",
       "    </tr>\n",
       "  </tbody>\n",
       "</table>\n",
       "</div>"
      ],
      "text/plain": [
       "   img_name\n",
       "id         \n",
       "0     00000\n",
       "1     00001\n",
       "2     00002\n",
       "3     00003\n",
       "4     00004"
      ]
     },
     "execution_count": 7,
     "metadata": {},
     "output_type": "execute_result"
    }
   ],
   "source": [
    "test_data['img_name'] = test_data.index\n",
    "test_data['img_name'] = test_data['img_name'].astype(str).str.pad(5, fillchar='0')\n",
    "test_data.head()"
   ]
  },
  {
   "cell_type": "code",
   "execution_count": 8,
   "metadata": {
    "execution": {
     "iopub.execute_input": "2021-11-07T20:58:30.566264Z",
     "iopub.status.busy": "2021-11-07T20:58:30.565473Z",
     "iopub.status.idle": "2021-11-07T20:58:42.472513Z",
     "shell.execute_reply": "2021-11-07T20:58:42.473159Z",
     "shell.execute_reply.started": "2021-11-07T19:29:44.038417Z"
    },
    "papermill": {
     "duration": 11.951217,
     "end_time": "2021-11-07T20:58:42.473349",
     "exception": false,
     "start_time": "2021-11-07T20:58:30.522132",
     "status": "completed"
    },
    "tags": []
   },
   "outputs": [],
   "source": [
    "test_images = np.empty((test_data.shape[0], 32, 32, 3))\n",
    "\n",
    "for i in range(test_data.shape[0]):\n",
    "    img_name = test_data.loc[i, 'img_name']\n",
    "    img_path = '/kaggle/input/arabic-hwr-ai-pro-intake1/test/{}.png'.format(img_name)\n",
    "    \n",
    "    image = mpimg.imread(img_path)\n",
    "    image = image[:,:,:3]\n",
    "    test_images[i] = image"
   ]
  },
  {
   "cell_type": "code",
   "execution_count": 9,
   "metadata": {
    "execution": {
     "iopub.execute_input": "2021-11-07T20:58:42.553260Z",
     "iopub.status.busy": "2021-11-07T20:58:42.552456Z",
     "iopub.status.idle": "2021-11-07T20:58:42.556777Z",
     "shell.execute_reply": "2021-11-07T20:58:42.556246Z",
     "shell.execute_reply.started": "2021-11-07T19:29:53.773154Z"
    },
    "papermill": {
     "duration": 0.046754,
     "end_time": "2021-11-07T20:58:42.556916",
     "exception": false,
     "start_time": "2021-11-07T20:58:42.510162",
     "status": "completed"
    },
    "tags": []
   },
   "outputs": [
    {
     "data": {
      "text/plain": [
       "(3360, 32, 32, 3)"
      ]
     },
     "execution_count": 9,
     "metadata": {},
     "output_type": "execute_result"
    }
   ],
   "source": [
    "test_images.shape"
   ]
  },
  {
   "cell_type": "markdown",
   "metadata": {
    "papermill": {
     "duration": 0.036495,
     "end_time": "2021-11-07T20:58:42.630185",
     "exception": false,
     "start_time": "2021-11-07T20:58:42.593690",
     "status": "completed"
    },
    "tags": []
   },
   "source": [
    "### **EDA** "
   ]
  },
  {
   "cell_type": "code",
   "execution_count": 10,
   "metadata": {
    "execution": {
     "iopub.execute_input": "2021-11-07T20:58:42.709743Z",
     "iopub.status.busy": "2021-11-07T20:58:42.709079Z",
     "iopub.status.idle": "2021-11-07T20:58:42.717265Z",
     "shell.execute_reply": "2021-11-07T20:58:42.716708Z",
     "shell.execute_reply.started": "2021-11-07T19:29:53.781305Z"
    },
    "papermill": {
     "duration": 0.050204,
     "end_time": "2021-11-07T20:58:42.717442",
     "exception": false,
     "start_time": "2021-11-07T20:58:42.667238",
     "status": "completed"
    },
    "tags": []
   },
   "outputs": [
    {
     "data": {
      "text/plain": [
       "array([ 1,  2,  3,  4,  5,  6,  7,  8,  9, 10, 11, 12, 13, 14, 15, 16, 17,\n",
       "       18, 19, 20, 21, 22, 23, 24, 25, 26, 27, 28])"
      ]
     },
     "execution_count": 10,
     "metadata": {},
     "output_type": "execute_result"
    }
   ],
   "source": [
    "train_data['label'].sort_values().unique()"
   ]
  },
  {
   "cell_type": "code",
   "execution_count": 11,
   "metadata": {
    "execution": {
     "iopub.execute_input": "2021-11-07T20:58:42.802025Z",
     "iopub.status.busy": "2021-11-07T20:58:42.801329Z",
     "iopub.status.idle": "2021-11-07T20:58:43.221297Z",
     "shell.execute_reply": "2021-11-07T20:58:43.221830Z",
     "shell.execute_reply.started": "2021-11-07T19:29:53.798370Z"
    },
    "papermill": {
     "duration": 0.465686,
     "end_time": "2021-11-07T20:58:43.222036",
     "exception": false,
     "start_time": "2021-11-07T20:58:42.756350",
     "status": "completed"
    },
    "tags": []
   },
   "outputs": [
    {
     "data": {
      "image/png": "[encoded data removed]",
      "text/plain": [
       "<Figure size 432x288 with 1 Axes>"
      ]
     },
     "metadata": {
      "needs_background": "light"
     },
     "output_type": "display_data"
    }
   ],
   "source": [
    "train_data['label'].value_counts().plot(kind='bar');"
   ]
  },
  {
   "cell_type": "markdown",
   "metadata": {
    "papermill": {
     "duration": 0.03807,
     "end_time": "2021-11-07T20:58:43.299195",
     "exception": false,
     "start_time": "2021-11-07T20:58:43.261125",
     "status": "completed"
    },
    "tags": []
   },
   "source": [
    "Dataset is **Balanced** and ready to trained"
   ]
  },
  {
   "cell_type": "code",
   "execution_count": 12,
   "metadata": {
    "execution": {
     "iopub.execute_input": "2021-11-07T20:58:43.379106Z",
     "iopub.status.busy": "2021-11-07T20:58:43.378351Z",
     "iopub.status.idle": "2021-11-07T20:58:43.386543Z",
     "shell.execute_reply": "2021-11-07T20:58:43.387063Z",
     "shell.execute_reply.started": "2021-11-07T19:29:54.186004Z"
    },
    "papermill": {
     "duration": 0.050327,
     "end_time": "2021-11-07T20:58:43.387234",
     "exception": false,
     "start_time": "2021-11-07T20:58:43.336907",
     "status": "completed"
    },
    "tags": []
   },
   "outputs": [
    {
     "name": "stdout",
     "output_type": "stream",
     "text": [
      "[24  2 17 ...  2 24 13]\n"
     ]
    }
   ],
   "source": [
    "train_labels = np.array(train_data['label'].tolist())\n",
    "print(train_labels)"
   ]
  },
  {
   "cell_type": "markdown",
   "metadata": {
    "papermill": {
     "duration": 0.038926,
     "end_time": "2021-11-07T20:58:43.464051",
     "exception": false,
     "start_time": "2021-11-07T20:58:43.425125",
     "status": "completed"
    },
    "tags": []
   },
   "source": [
    "##### **Show Images**"
   ]
  },
  {
   "cell_type": "code",
   "execution_count": 13,
   "metadata": {
    "execution": {
     "iopub.execute_input": "2021-11-07T20:58:43.546020Z",
     "iopub.status.busy": "2021-11-07T20:58:43.545329Z",
     "iopub.status.idle": "2021-11-07T20:58:43.552391Z",
     "shell.execute_reply": "2021-11-07T20:58:43.551523Z",
     "shell.execute_reply.started": "2021-11-07T19:29:54.196686Z"
    },
    "papermill": {
     "duration": 0.049024,
     "end_time": "2021-11-07T20:58:43.552555",
     "exception": false,
     "start_time": "2021-11-07T20:58:43.503531",
     "status": "completed"
    },
    "tags": []
   },
   "outputs": [
    {
     "name": "stdout",
     "output_type": "stream",
     "text": [
      "[31, 1, 48, 20, 33, 41, 36, 17, 32, 6, 12, 23, 13, 3, 15, 18, 2, 10, 4, 51, 11, 54, 7, 0, 26, 19, 85, 9]\n"
     ]
    }
   ],
   "source": [
    "letters_positions = []\n",
    "\n",
    "for i in range(1, 29):\n",
    "    letters_positions.append(np.where(train_labels == i)[0][0])\n",
    "    \n",
    "print(letters_positions)"
   ]
  },
  {
   "cell_type": "code",
   "execution_count": 14,
   "metadata": {
    "execution": {
     "iopub.execute_input": "2021-11-07T20:58:43.665606Z",
     "iopub.status.busy": "2021-11-07T20:58:43.664800Z",
     "iopub.status.idle": "2021-11-07T20:58:46.034866Z",
     "shell.execute_reply": "2021-11-07T20:58:46.035415Z",
     "shell.execute_reply.started": "2021-11-07T19:29:54.209610Z"
    },
    "papermill": {
     "duration": 2.443729,
     "end_time": "2021-11-07T20:58:46.035633",
     "exception": false,
     "start_time": "2021-11-07T20:58:43.591904",
     "status": "completed"
    },
    "tags": []
   },
   "outputs": [
    {
     "data": {
      "image/png": "[encoded data removed]",
      "text/plain": [
       "<Figure size 720x720 with 28 Axes>"
      ]
     },
     "metadata": {
      "needs_background": "light"
     },
     "output_type": "display_data"
    }
   ],
   "source": [
    "plt.figure(figsize=(10,10))\n",
    "letter = 1\n",
    "for i in range(4):\n",
    "    for j in range(7):\n",
    "        ax = plt.subplot2grid((4,7), (i,j))\n",
    "        ax.imshow(train_images[letters_positions[letter-1]])\n",
    "        letter += 1\n",
    "        \n",
    "plt.show()"
   ]
  },
  {
   "cell_type": "markdown",
   "metadata": {
    "papermill": {
     "duration": 0.041826,
     "end_time": "2021-11-07T20:58:46.119054",
     "exception": false,
     "start_time": "2021-11-07T20:58:46.077228",
     "status": "completed"
    },
    "tags": []
   },
   "source": [
    "### **Spliting Data**"
   ]
  },
  {
   "cell_type": "code",
   "execution_count": 15,
   "metadata": {
    "execution": {
     "iopub.execute_input": "2021-11-07T20:58:46.299949Z",
     "iopub.status.busy": "2021-11-07T20:58:46.299189Z",
     "iopub.status.idle": "2021-11-07T20:58:46.553704Z",
     "shell.execute_reply": "2021-11-07T20:58:46.553052Z",
     "shell.execute_reply.started": "2021-11-07T19:29:56.723789Z"
    },
    "papermill": {
     "duration": 0.301396,
     "end_time": "2021-11-07T20:58:46.553869",
     "exception": false,
     "start_time": "2021-11-07T20:58:46.252473",
     "status": "completed"
    },
    "tags": []
   },
   "outputs": [],
   "source": [
    "X_train, X_valid, y_train, y_valid = train_test_split(train_images, train_labels,\n",
    "                                                      test_size=0.2, stratify=train_labels,\n",
    "                                                      random_state = 42)"
   ]
  },
  {
   "cell_type": "code",
   "execution_count": 16,
   "metadata": {
    "execution": {
     "iopub.execute_input": "2021-11-07T20:58:46.644272Z",
     "iopub.status.busy": "2021-11-07T20:58:46.643529Z",
     "iopub.status.idle": "2021-11-07T20:58:46.646987Z",
     "shell.execute_reply": "2021-11-07T20:58:46.647691Z",
     "shell.execute_reply.started": "2021-11-07T19:29:56.879614Z"
    },
    "papermill": {
     "duration": 0.051787,
     "end_time": "2021-11-07T20:58:46.647929",
     "exception": false,
     "start_time": "2021-11-07T20:58:46.596142",
     "status": "completed"
    },
    "tags": []
   },
   "outputs": [
    {
     "name": "stdout",
     "output_type": "stream",
     "text": [
      "(10752, 32, 32, 3)\n",
      "(2688, 32, 32, 3)\n",
      "(10752,)\n",
      "(2688,)\n"
     ]
    }
   ],
   "source": [
    "print(X_train.shape)\n",
    "print(X_valid.shape)\n",
    "\n",
    "print(y_train.shape)\n",
    "print(y_valid.shape)"
   ]
  },
  {
   "cell_type": "code",
   "execution_count": 17,
   "metadata": {
    "execution": {
     "iopub.execute_input": "2021-11-07T20:58:46.736173Z",
     "iopub.status.busy": "2021-11-07T20:58:46.735475Z",
     "iopub.status.idle": "2021-11-07T20:58:46.740417Z",
     "shell.execute_reply": "2021-11-07T20:58:46.741180Z",
     "shell.execute_reply.started": "2021-11-07T19:29:56.889996Z"
    },
    "papermill": {
     "duration": 0.050938,
     "end_time": "2021-11-07T20:58:46.741460",
     "exception": false,
     "start_time": "2021-11-07T20:58:46.690522",
     "status": "completed"
    },
    "tags": []
   },
   "outputs": [
    {
     "name": "stdout",
     "output_type": "stream",
     "text": [
      "(3360, 32, 32, 3)\n"
     ]
    }
   ],
   "source": [
    "print(test_images.shape)"
   ]
  },
  {
   "cell_type": "markdown",
   "metadata": {
    "papermill": {
     "duration": 0.041152,
     "end_time": "2021-11-07T20:58:46.826058",
     "exception": false,
     "start_time": "2021-11-07T20:58:46.784906",
     "status": "completed"
    },
    "tags": []
   },
   "source": [
    "##### **Normalizing Data**"
   ]
  },
  {
   "cell_type": "code",
   "execution_count": 18,
   "metadata": {
    "execution": {
     "iopub.execute_input": "2021-11-07T20:58:46.915229Z",
     "iopub.status.busy": "2021-11-07T20:58:46.914553Z",
     "iopub.status.idle": "2021-11-07T20:58:47.919543Z",
     "shell.execute_reply": "2021-11-07T20:58:47.918893Z",
     "shell.execute_reply.started": "2021-11-07T19:29:56.898623Z"
    },
    "papermill": {
     "duration": 1.051096,
     "end_time": "2021-11-07T20:58:47.919698",
     "exception": false,
     "start_time": "2021-11-07T20:58:46.868602",
     "status": "completed"
    },
    "tags": []
   },
   "outputs": [],
   "source": [
    "X_train = X_train.flatten().reshape(-1, 1)\n",
    "X_valid = X_valid.flatten().reshape(-1, 1)\n",
    "test_images = test_images.flatten().reshape(-1, 1)\n",
    "\n",
    "# X_train Normalizing\n",
    "mms = MinMaxScaler()\n",
    "mms.fit(X_train)\n",
    "X_train = mms.transform(X_train)\n",
    "\n",
    "# X_valid Normalizing\n",
    "mms = MinMaxScaler()\n",
    "mms.fit(X_valid)\n",
    "X_valid = mms.transform(X_valid)\n",
    "\n",
    "# Test Data Normalizing\n",
    "mms = MinMaxScaler()\n",
    "mms.fit(test_images)\n",
    "test_images = mms.transform(test_images)\n",
    "\n",
    "# Reshapeing Data Sets\n",
    "X_train = X_train.reshape(10752, 32, 32, 3)\n",
    "X_valid = X_valid.reshape(2688, 32, 32, 3)\n",
    "test_images = test_images.reshape(3360, 32, 32, 3)"
   ]
  },
  {
   "cell_type": "code",
   "execution_count": 19,
   "metadata": {
    "execution": {
     "iopub.execute_input": "2021-11-07T20:58:48.010743Z",
     "iopub.status.busy": "2021-11-07T20:58:48.010027Z",
     "iopub.status.idle": "2021-11-07T20:58:48.012938Z",
     "shell.execute_reply": "2021-11-07T20:58:48.013592Z",
     "shell.execute_reply.started": "2021-11-07T19:29:57.548178Z"
    },
    "papermill": {
     "duration": 0.05138,
     "end_time": "2021-11-07T20:58:48.013775",
     "exception": false,
     "start_time": "2021-11-07T20:58:47.962395",
     "status": "completed"
    },
    "tags": []
   },
   "outputs": [
    {
     "name": "stdout",
     "output_type": "stream",
     "text": [
      "(10752, 32, 32, 3)\n",
      "(2688, 32, 32, 3)\n",
      "(3360, 32, 32, 3)\n"
     ]
    }
   ],
   "source": [
    "print(X_train.shape)\n",
    "print(X_valid.shape)\n",
    "\n",
    "print(test_images.shape)"
   ]
  },
  {
   "cell_type": "markdown",
   "metadata": {
    "papermill": {
     "duration": 0.042822,
     "end_time": "2021-11-07T20:58:48.099683",
     "exception": false,
     "start_time": "2021-11-07T20:58:48.056861",
     "status": "completed"
    },
    "tags": []
   },
   "source": [
    "### Modeling & Training"
   ]
  },
  {
   "cell_type": "code",
   "execution_count": 20,
   "metadata": {
    "execution": {
     "iopub.execute_input": "2021-11-07T20:58:48.188585Z",
     "iopub.status.busy": "2021-11-07T20:58:48.187846Z",
     "iopub.status.idle": "2021-11-07T20:58:48.454576Z",
     "shell.execute_reply": "2021-11-07T20:58:48.455175Z",
     "shell.execute_reply.started": "2021-11-07T19:29:57.554195Z"
    },
    "papermill": {
     "duration": 0.313387,
     "end_time": "2021-11-07T20:58:48.455392",
     "exception": false,
     "start_time": "2021-11-07T20:58:48.142005",
     "status": "completed"
    },
    "tags": []
   },
   "outputs": [
    {
     "name": "stderr",
     "output_type": "stream",
     "text": [
      "\n",
      "User settings:\n",
      "\n",
      "   KMP_AFFINITY=granularity=fine,verbose,compact,1,0\n",
      "   KMP_BLOCKTIME=0\n",
      "   KMP_DUPLICATE_LIB_OK=True\n",
      "   KMP_INIT_AT_FORK=FALSE\n",
      "   KMP_SETTINGS=1\n",
      "   KMP_WARNINGS=0\n",
      "\n",
      "Effective settings:\n",
      "\n",
      "   KMP_ABORT_DELAY=0\n",
      "   KMP_ADAPTIVE_LOCK_PROPS='1,1024'\n",
      "   KMP_ALIGN_ALLOC=64\n",
      "   KMP_ALL_THREADPRIVATE=128\n",
      "   KMP_ATOMIC_MODE=2\n",
      "   KMP_BLOCKTIME=0\n",
      "   KMP_CPUINFO_FILE: value is not defined\n",
      "   KMP_DETERMINISTIC_REDUCTION=false\n",
      "   KMP_DEVICE_THREAD_LIMIT=2147483647\n",
      "   KMP_DISP_NUM_BUFFERS=7\n",
      "   KMP_DUPLICATE_LIB_OK=true\n",
      "   KMP_ENABLE_TASK_THROTTLING=true\n",
      "   KMP_FORCE_REDUCTION: value is not defined\n",
      "   KMP_FOREIGN_THREADS_THREADPRIVATE=true\n",
      "   KMP_FORKJOIN_BARRIER='2,2'\n",
      "   KMP_FORKJOIN_BARRIER_PATTERN='hyper,hyper'\n",
      "   KMP_GTID_MODE=3\n",
      "   KMP_HANDLE_SIGNALS=false\n",
      "   KMP_HOT_TEAMS_MAX_LEVEL=1\n",
      "   KMP_HOT_TEAMS_MODE=0\n",
      "   KMP_INIT_AT_FORK=true\n",
      "   KMP_LIBRARY=throughput\n",
      "   KMP_LOCK_KIND=queuing\n",
      "   KMP_MALLOC_POOL_INCR=1M\n",
      "   KMP_NUM_LOCKS_IN_BLOCK=1\n",
      "   KMP_PLAIN_BARRIER='2,2'\n",
      "   KMP_PLAIN_BARRIER_PATTERN='hyper,hyper'\n",
      "   KMP_REDUCTION_BARRIER='1,1'\n",
      "   KMP_REDUCTION_BARRIER_PATTERN='hyper,hyper'\n",
      "   KMP_SCHEDULE='static,balanced;guided,iterative'\n",
      "   KMP_SETTINGS=true\n",
      "   KMP_SPIN_BACKOFF_PARAMS='4096,100'\n",
      "   KMP_STACKOFFSET=64\n",
      "   KMP_STACKPAD=0\n",
      "   KMP_STACKSIZE=8M\n",
      "   KMP_STORAGE_MAP=false\n",
      "   KMP_TASKING=2\n",
      "   KMP_TASKLOOP_MIN_TASKS=0\n",
      "   KMP_TASK_STEALING_CONSTRAINT=1\n",
      "   KMP_TEAMS_THREAD_LIMIT=4\n",
      "   KMP_TOPOLOGY_METHOD=all\n",
      "   KMP_USE_YIELD=1\n",
      "   KMP_VERSION=false\n",
      "   KMP_WARNINGS=false\n",
      "   OMP_AFFINITY_FORMAT='OMP: pid %P tid %i thread %n bound to OS proc set {%A}'\n",
      "   OMP_ALLOCATOR=omp_default_mem_alloc\n",
      "   OMP_CANCELLATION=false\n",
      "   OMP_DEFAULT_DEVICE=0\n",
      "   OMP_DISPLAY_AFFINITY=false\n",
      "   OMP_DISPLAY_ENV=false\n",
      "   OMP_DYNAMIC=false\n",
      "   OMP_MAX_ACTIVE_LEVELS=1\n",
      "   OMP_MAX_TASK_PRIORITY=0\n",
      "   OMP_NESTED: deprecated; max-active-levels-var=1\n",
      "   OMP_NUM_THREADS: value is not defined\n",
      "   OMP_PLACES: value is not defined\n",
      "   OMP_PROC_BIND='intel'\n",
      "   OMP_SCHEDULE='static'\n",
      "   OMP_STACKSIZE=8M\n",
      "   OMP_TARGET_OFFLOAD=DEFAULT\n",
      "   OMP_THREAD_LIMIT=2147483647\n",
      "   OMP_WAIT_POLICY=PASSIVE\n",
      "   KMP_AFFINITY='verbose,warnings,respect,granularity=fine,compact,1,0'\n",
      "\n",
      "2021-11-07 20:58:48.263762: I tensorflow/core/common_runtime/process_util.cc:146] Creating new thread pool with default inter op setting: 2. Tune using inter_op_parallelism_threads for best performance.\n"
     ]
    }
   ],
   "source": [
    "model = models.Sequential([\n",
    "    \n",
    "    layers.Conv2D(filters=16, kernel_size=(3, 3), #padding = 'Same',\n",
    "                  activation='relu', input_shape=(32, 32, 3)),\n",
    "    layers.Conv2D(filters=16, kernel_size=(5, 5), #padding = 'Same',\n",
    "                  activation='relu'),\n",
    "    layers.MaxPooling2D((2, 2)),\n",
    "    layers.Dropout(0.3),\n",
    "    \n",
    "    \n",
    "    layers.Conv2D(filters=32, kernel_size=(3, 3), padding = 'Same',\n",
    "                  activation='relu'),\n",
    "    layers.Conv2D(filters=32, kernel_size=(5, 5), padding = 'Same',\n",
    "                  activation='relu'),\n",
    "    layers.MaxPooling2D((2, 2)),\n",
    "    layers.Dropout(0.3),\n",
    "    \n",
    "    \n",
    "    layers.Conv2D(filters=64, kernel_size=(3, 3), padding = 'Same',\n",
    "                  activation='relu'),\n",
    "    layers.Conv2D(filters=64, kernel_size=(5, 5), padding = 'Same',\n",
    "                  activation='relu'),\n",
    "    layers.MaxPooling2D((2, 2)),\n",
    "    layers.Dropout(0.5),\n",
    "    \n",
    "    \n",
    "    layers.Flatten(),\n",
    "    layers.Dense(256, activation='relu'),\n",
    "    layers.Dropout(0.2),\n",
    "    layers.Dense(256, activation='relu'),\n",
    "    layers.Dropout(0.3),\n",
    "    layers.Dense(128, activation='relu'),\n",
    "    layers.Dropout(0.5),\n",
    "    layers.Dense(29, activation='softmax')\n",
    "])"
   ]
  },
  {
   "cell_type": "code",
   "execution_count": 21,
   "metadata": {
    "execution": {
     "iopub.execute_input": "2021-11-07T20:58:48.549414Z",
     "iopub.status.busy": "2021-11-07T20:58:48.548671Z",
     "iopub.status.idle": "2021-11-07T20:58:48.560405Z",
     "shell.execute_reply": "2021-11-07T20:58:48.559765Z",
     "shell.execute_reply.started": "2021-11-07T19:29:57.809863Z"
    },
    "papermill": {
     "duration": 0.061867,
     "end_time": "2021-11-07T20:58:48.560584",
     "exception": false,
     "start_time": "2021-11-07T20:58:48.498717",
     "status": "completed"
    },
    "tags": []
   },
   "outputs": [],
   "source": [
    "model.compile(optimizer='adam',\n",
    "              loss='sparse_categorical_crossentropy',\n",
    "              metrics=['accuracy'])"
   ]
  },
  {
   "cell_type": "markdown",
   "metadata": {
    "papermill": {
     "duration": 0.042139,
     "end_time": "2021-11-07T20:58:48.646413",
     "exception": false,
     "start_time": "2021-11-07T20:58:48.604274",
     "status": "completed"
    },
    "tags": []
   },
   "source": [
    "#### **Data Generation**"
   ]
  },
  {
   "cell_type": "code",
   "execution_count": 22,
   "metadata": {
    "execution": {
     "iopub.execute_input": "2021-11-07T20:58:48.747246Z",
     "iopub.status.busy": "2021-11-07T20:58:48.746375Z",
     "iopub.status.idle": "2021-11-07T20:58:48.749592Z",
     "shell.execute_reply": "2021-11-07T20:58:48.750261Z",
     "shell.execute_reply.started": "2021-11-07T19:29:57.827895Z"
    },
    "papermill": {
     "duration": 0.061013,
     "end_time": "2021-11-07T20:58:48.750515",
     "exception": false,
     "start_time": "2021-11-07T20:58:48.689502",
     "status": "completed"
    },
    "tags": []
   },
   "outputs": [],
   "source": [
    "datagen = ImageDataGenerator(\n",
    "        featurewise_center=False, \n",
    "        samplewise_center=False,  \n",
    "        featurewise_std_normalization=False,\n",
    "        samplewise_std_normalization=False,\n",
    "        zca_whitening=False,\n",
    "        rotation_range=10,\n",
    "        zoom_range = 0.1,  \n",
    "        width_shift_range=0.1, \n",
    "        height_shift_range=0.1,\n",
    "        horizontal_flip=False,\n",
    "        vertical_flip=False)"
   ]
  },
  {
   "cell_type": "code",
   "execution_count": 23,
   "metadata": {
    "execution": {
     "iopub.execute_input": "2021-11-07T20:58:48.865343Z",
     "iopub.status.busy": "2021-11-07T20:58:48.864297Z",
     "iopub.status.idle": "2021-11-07T20:58:48.980708Z",
     "shell.execute_reply": "2021-11-07T20:58:48.981242Z",
     "shell.execute_reply.started": "2021-11-07T19:29:57.834802Z"
    },
    "papermill": {
     "duration": 0.172423,
     "end_time": "2021-11-07T20:58:48.981438",
     "exception": false,
     "start_time": "2021-11-07T20:58:48.809015",
     "status": "completed"
    },
    "tags": []
   },
   "outputs": [],
   "source": [
    "datagen.fit(X_train)"
   ]
  },
  {
   "cell_type": "code",
   "execution_count": 24,
   "metadata": {
    "execution": {
     "iopub.execute_input": "2021-11-07T20:58:49.073668Z",
     "iopub.status.busy": "2021-11-07T20:58:49.072646Z",
     "iopub.status.idle": "2021-11-07T20:58:49.076786Z",
     "shell.execute_reply": "2021-11-07T20:58:49.077420Z",
     "shell.execute_reply.started": "2021-11-07T19:29:57.957203Z"
    },
    "papermill": {
     "duration": 0.052398,
     "end_time": "2021-11-07T20:58:49.077594",
     "exception": false,
     "start_time": "2021-11-07T20:58:49.025196",
     "status": "completed"
    },
    "tags": []
   },
   "outputs": [],
   "source": [
    "early_stopp = callbacks.EarlyStopping(patience=25, restore_best_weights=True)"
   ]
  },
  {
   "cell_type": "code",
   "execution_count": 25,
   "metadata": {
    "execution": {
     "iopub.execute_input": "2021-11-07T20:58:49.167230Z",
     "iopub.status.busy": "2021-11-07T20:58:49.166260Z",
     "iopub.status.idle": "2021-11-07T21:31:20.359927Z",
     "shell.execute_reply": "2021-11-07T21:31:20.360851Z",
     "shell.execute_reply.started": "2021-11-07T20:10:45.519532Z"
    },
    "papermill": {
     "duration": 1951.240157,
     "end_time": "2021-11-07T21:31:20.361521",
     "exception": false,
     "start_time": "2021-11-07T20:58:49.121364",
     "status": "completed"
    },
    "tags": []
   },
   "outputs": [
    {
     "name": "stderr",
     "output_type": "stream",
     "text": [
      "2021-11-07 20:58:49.406026: I tensorflow/compiler/mlir/mlir_graph_optimization_pass.cc:185] None of the MLIR Optimization Passes are enabled (registered 2)\n"
     ]
    },
    {
     "name": "stdout",
     "output_type": "stream",
     "text": [
      "Epoch 1/100\n",
      "56/56 - 17s - loss: 3.3449 - accuracy: 0.0420 - val_loss: 3.2198 - val_accuracy: 0.0424\n",
      "Epoch 2/100\n",
      "56/56 - 14s - loss: 3.1987 - accuracy: 0.0765 - val_loss: 2.9589 - val_accuracy: 0.1283\n",
      "Epoch 3/100\n",
      "56/56 - 15s - loss: 2.8439 - accuracy: 0.1087 - val_loss: 2.4249 - val_accuracy: 0.1611\n",
      "Epoch 4/100\n",
      "56/56 - 15s - loss: 2.5360 - accuracy: 0.1530 - val_loss: 2.1469 - val_accuracy: 0.2504\n",
      "Epoch 5/100\n",
      "56/56 - 14s - loss: 2.2570 - accuracy: 0.2116 - val_loss: 1.7411 - val_accuracy: 0.3088\n",
      "Epoch 6/100\n",
      "56/56 - 15s - loss: 1.9821 - accuracy: 0.2764 - val_loss: 1.4715 - val_accuracy: 0.4170\n",
      "Epoch 7/100\n",
      "56/56 - 14s - loss: 1.8106 - accuracy: 0.3223 - val_loss: 1.3073 - val_accuracy: 0.4743\n",
      "Epoch 8/100\n",
      "56/56 - 15s - loss: 1.6126 - accuracy: 0.3850 - val_loss: 1.1576 - val_accuracy: 0.5335\n",
      "Epoch 9/100\n",
      "56/56 - 14s - loss: 1.4406 - accuracy: 0.4535 - val_loss: 1.0134 - val_accuracy: 0.5811\n",
      "Epoch 10/100\n",
      "56/56 - 15s - loss: 1.3456 - accuracy: 0.4918 - val_loss: 0.8909 - val_accuracy: 0.6224\n",
      "Epoch 11/100\n",
      "56/56 - 15s - loss: 1.2060 - accuracy: 0.5493 - val_loss: 0.7546 - val_accuracy: 0.6957\n",
      "Epoch 12/100\n",
      "56/56 - 16s - loss: 1.1339 - accuracy: 0.5818 - val_loss: 0.7471 - val_accuracy: 0.6789\n",
      "Epoch 13/100\n",
      "56/56 - 15s - loss: 1.0652 - accuracy: 0.6090 - val_loss: 0.6833 - val_accuracy: 0.7128\n",
      "Epoch 14/100\n",
      "56/56 - 14s - loss: 1.0516 - accuracy: 0.6139 - val_loss: 0.6171 - val_accuracy: 0.7440\n",
      "Epoch 15/100\n",
      "56/56 - 14s - loss: 0.9412 - accuracy: 0.6516 - val_loss: 0.5959 - val_accuracy: 0.7574\n",
      "Epoch 16/100\n",
      "56/56 - 15s - loss: 0.9068 - accuracy: 0.6685 - val_loss: 0.5054 - val_accuracy: 0.7909\n",
      "Epoch 17/100\n",
      "56/56 - 14s - loss: 0.8344 - accuracy: 0.6926 - val_loss: 0.4952 - val_accuracy: 0.7820\n",
      "Epoch 18/100\n",
      "56/56 - 15s - loss: 0.8051 - accuracy: 0.7092 - val_loss: 0.4667 - val_accuracy: 0.7969\n",
      "Epoch 19/100\n",
      "56/56 - 14s - loss: 0.7535 - accuracy: 0.7253 - val_loss: 0.3915 - val_accuracy: 0.8423\n",
      "Epoch 20/100\n",
      "56/56 - 14s - loss: 0.7317 - accuracy: 0.7347 - val_loss: 0.3709 - val_accuracy: 0.8609\n",
      "Epoch 21/100\n",
      "56/56 - 15s - loss: 0.7043 - accuracy: 0.7450 - val_loss: 0.3798 - val_accuracy: 0.8356\n",
      "Epoch 22/100\n",
      "56/56 - 14s - loss: 0.6806 - accuracy: 0.7571 - val_loss: 0.3265 - val_accuracy: 0.8687\n",
      "Epoch 23/100\n",
      "56/56 - 14s - loss: 0.6650 - accuracy: 0.7633 - val_loss: 0.3439 - val_accuracy: 0.8672\n",
      "Epoch 24/100\n",
      "56/56 - 15s - loss: 0.6329 - accuracy: 0.7752 - val_loss: 0.3313 - val_accuracy: 0.8847\n",
      "Epoch 25/100\n",
      "56/56 - 14s - loss: 0.6071 - accuracy: 0.7859 - val_loss: 0.3117 - val_accuracy: 0.8757\n",
      "Epoch 26/100\n",
      "56/56 - 15s - loss: 0.5959 - accuracy: 0.7844 - val_loss: 0.3361 - val_accuracy: 0.8906\n",
      "Epoch 27/100\n",
      "56/56 - 14s - loss: 0.5941 - accuracy: 0.7954 - val_loss: 0.2961 - val_accuracy: 0.8810\n",
      "Epoch 28/100\n",
      "56/56 - 14s - loss: 0.5619 - accuracy: 0.8039 - val_loss: 0.2969 - val_accuracy: 0.8973\n",
      "Epoch 29/100\n",
      "56/56 - 15s - loss: 0.5715 - accuracy: 0.8028 - val_loss: 0.2638 - val_accuracy: 0.8984\n",
      "Epoch 30/100\n",
      "56/56 - 14s - loss: 0.5453 - accuracy: 0.8176 - val_loss: 0.2700 - val_accuracy: 0.8969\n",
      "Epoch 31/100\n",
      "56/56 - 14s - loss: 0.5139 - accuracy: 0.8249 - val_loss: 0.2427 - val_accuracy: 0.9148\n",
      "Epoch 32/100\n",
      "56/56 - 15s - loss: 0.5032 - accuracy: 0.8330 - val_loss: 0.2507 - val_accuracy: 0.9163\n",
      "Epoch 33/100\n",
      "56/56 - 14s - loss: 0.4859 - accuracy: 0.8406 - val_loss: 0.2098 - val_accuracy: 0.9275\n",
      "Epoch 34/100\n",
      "56/56 - 15s - loss: 0.4832 - accuracy: 0.8452 - val_loss: 0.2167 - val_accuracy: 0.9260\n",
      "Epoch 35/100\n",
      "56/56 - 15s - loss: 0.4754 - accuracy: 0.8476 - val_loss: 0.2375 - val_accuracy: 0.9193\n",
      "Epoch 36/100\n",
      "56/56 - 14s - loss: 0.4509 - accuracy: 0.8598 - val_loss: 0.2049 - val_accuracy: 0.9364\n",
      "Epoch 37/100\n",
      "56/56 - 15s - loss: 0.4472 - accuracy: 0.8584 - val_loss: 0.1875 - val_accuracy: 0.9356\n",
      "Epoch 38/100\n",
      "56/56 - 14s - loss: 0.4081 - accuracy: 0.8666 - val_loss: 0.1785 - val_accuracy: 0.9386\n",
      "Epoch 39/100\n",
      "56/56 - 14s - loss: 0.4321 - accuracy: 0.8677 - val_loss: 0.1715 - val_accuracy: 0.9453\n",
      "Epoch 40/100\n",
      "56/56 - 15s - loss: 0.4056 - accuracy: 0.8757 - val_loss: 0.1710 - val_accuracy: 0.9438\n",
      "Epoch 41/100\n",
      "56/56 - 14s - loss: 0.4048 - accuracy: 0.8727 - val_loss: 0.1901 - val_accuracy: 0.9397\n",
      "Epoch 42/100\n",
      "56/56 - 15s - loss: 0.4074 - accuracy: 0.8739 - val_loss: 0.1907 - val_accuracy: 0.9349\n",
      "Epoch 43/100\n",
      "56/56 - 15s - loss: 0.3950 - accuracy: 0.8809 - val_loss: 0.1462 - val_accuracy: 0.9520\n",
      "Epoch 44/100\n",
      "56/56 - 14s - loss: 0.3676 - accuracy: 0.8880 - val_loss: 0.1690 - val_accuracy: 0.9457\n",
      "Epoch 45/100\n",
      "56/56 - 15s - loss: 0.3803 - accuracy: 0.8859 - val_loss: 0.1515 - val_accuracy: 0.9554\n",
      "Epoch 46/100\n",
      "56/56 - 14s - loss: 0.4015 - accuracy: 0.8819 - val_loss: 0.2030 - val_accuracy: 0.9394\n",
      "Epoch 47/100\n",
      "56/56 - 15s - loss: 0.4106 - accuracy: 0.8723 - val_loss: 0.1425 - val_accuracy: 0.9520\n",
      "Epoch 48/100\n",
      "56/56 - 14s - loss: 0.4018 - accuracy: 0.8769 - val_loss: 0.1685 - val_accuracy: 0.9464\n",
      "Epoch 49/100\n",
      "56/56 - 15s - loss: 0.3706 - accuracy: 0.8888 - val_loss: 0.1533 - val_accuracy: 0.9539\n",
      "Epoch 50/100\n",
      "56/56 - 14s - loss: 0.3532 - accuracy: 0.8971 - val_loss: 0.1320 - val_accuracy: 0.9609\n",
      "Epoch 51/100\n",
      "56/56 - 15s - loss: 0.3371 - accuracy: 0.8982 - val_loss: 0.1429 - val_accuracy: 0.9531\n",
      "Epoch 52/100\n",
      "56/56 - 14s - loss: 0.3442 - accuracy: 0.8987 - val_loss: 0.1620 - val_accuracy: 0.9494\n",
      "Epoch 53/100\n",
      "56/56 - 14s - loss: 0.3333 - accuracy: 0.9015 - val_loss: 0.1473 - val_accuracy: 0.9550\n",
      "Epoch 54/100\n",
      "56/56 - 15s - loss: 0.3293 - accuracy: 0.9049 - val_loss: 0.1470 - val_accuracy: 0.9550\n",
      "Epoch 55/100\n",
      "56/56 - 14s - loss: 0.3068 - accuracy: 0.9055 - val_loss: 0.1269 - val_accuracy: 0.9617\n",
      "Epoch 56/100\n",
      "56/56 - 14s - loss: 0.3130 - accuracy: 0.9087 - val_loss: 0.1263 - val_accuracy: 0.9617\n",
      "Epoch 57/100\n",
      "56/56 - 15s - loss: 0.3056 - accuracy: 0.9114 - val_loss: 0.1254 - val_accuracy: 0.9624\n",
      "Epoch 58/100\n",
      "56/56 - 14s - loss: 0.3162 - accuracy: 0.9083 - val_loss: 0.1327 - val_accuracy: 0.9598\n",
      "Epoch 59/100\n",
      "56/56 - 15s - loss: 0.3116 - accuracy: 0.9075 - val_loss: 0.1119 - val_accuracy: 0.9684\n",
      "Epoch 60/100\n",
      "56/56 - 15s - loss: 0.3098 - accuracy: 0.9122 - val_loss: 0.1143 - val_accuracy: 0.9665\n",
      "Epoch 61/100\n",
      "56/56 - 14s - loss: 0.3063 - accuracy: 0.9127 - val_loss: 0.1184 - val_accuracy: 0.9688\n",
      "Epoch 62/100\n",
      "56/56 - 15s - loss: 0.2859 - accuracy: 0.9128 - val_loss: 0.1304 - val_accuracy: 0.9647\n",
      "Epoch 63/100\n",
      "56/56 - 14s - loss: 0.2883 - accuracy: 0.9184 - val_loss: 0.1096 - val_accuracy: 0.9680\n",
      "Epoch 64/100\n",
      "56/56 - 14s - loss: 0.2828 - accuracy: 0.9190 - val_loss: 0.1158 - val_accuracy: 0.9665\n",
      "Epoch 65/100\n",
      "56/56 - 15s - loss: 0.2814 - accuracy: 0.9169 - val_loss: 0.1114 - val_accuracy: 0.9706\n",
      "Epoch 66/100\n",
      "56/56 - 14s - loss: 0.2702 - accuracy: 0.9238 - val_loss: 0.1099 - val_accuracy: 0.9717\n",
      "Epoch 67/100\n",
      "56/56 - 14s - loss: 0.2842 - accuracy: 0.9192 - val_loss: 0.1283 - val_accuracy: 0.9643\n",
      "Epoch 68/100\n",
      "56/56 - 14s - loss: 0.2847 - accuracy: 0.9202 - val_loss: 0.1257 - val_accuracy: 0.9647\n",
      "Epoch 69/100\n",
      "56/56 - 15s - loss: 0.2726 - accuracy: 0.9204 - val_loss: 0.1111 - val_accuracy: 0.9688\n",
      "Epoch 70/100\n",
      "56/56 - 15s - loss: 0.2912 - accuracy: 0.9145 - val_loss: 0.1229 - val_accuracy: 0.9643\n",
      "Epoch 71/100\n",
      "56/56 - 14s - loss: 0.2720 - accuracy: 0.9231 - val_loss: 0.1059 - val_accuracy: 0.9721\n",
      "Epoch 72/100\n",
      "56/56 - 15s - loss: 0.2540 - accuracy: 0.9275 - val_loss: 0.1076 - val_accuracy: 0.9691\n",
      "Epoch 73/100\n",
      "56/56 - 14s - loss: 0.2713 - accuracy: 0.9211 - val_loss: 0.1261 - val_accuracy: 0.9639\n",
      "Epoch 74/100\n",
      "56/56 - 15s - loss: 0.2724 - accuracy: 0.9201 - val_loss: 0.1058 - val_accuracy: 0.9684\n",
      "Epoch 75/100\n",
      "56/56 - 14s - loss: 0.2521 - accuracy: 0.9279 - val_loss: 0.1118 - val_accuracy: 0.9688\n",
      "Epoch 76/100\n",
      "56/56 - 15s - loss: 0.2532 - accuracy: 0.9268 - val_loss: 0.1103 - val_accuracy: 0.9680\n",
      "Epoch 77/100\n",
      "56/56 - 14s - loss: 0.2477 - accuracy: 0.9279 - val_loss: 0.0990 - val_accuracy: 0.9699\n",
      "Epoch 78/100\n",
      "56/56 - 14s - loss: 0.2557 - accuracy: 0.9267 - val_loss: 0.1086 - val_accuracy: 0.9717\n",
      "Epoch 79/100\n",
      "56/56 - 15s - loss: 0.2492 - accuracy: 0.9277 - val_loss: 0.1003 - val_accuracy: 0.9684\n",
      "Epoch 80/100\n",
      "56/56 - 14s - loss: 0.2422 - accuracy: 0.9275 - val_loss: 0.1078 - val_accuracy: 0.9680\n",
      "Epoch 81/100\n",
      "56/56 - 15s - loss: 0.2287 - accuracy: 0.9371 - val_loss: 0.1065 - val_accuracy: 0.9717\n",
      "Epoch 82/100\n",
      "56/56 - 14s - loss: 0.2392 - accuracy: 0.9336 - val_loss: 0.1058 - val_accuracy: 0.9688\n",
      "Epoch 83/100\n",
      "56/56 - 14s - loss: 0.2406 - accuracy: 0.9307 - val_loss: 0.1244 - val_accuracy: 0.9632\n",
      "Epoch 84/100\n",
      "56/56 - 15s - loss: 0.2377 - accuracy: 0.9299 - val_loss: 0.1103 - val_accuracy: 0.9676\n",
      "Epoch 85/100\n",
      "56/56 - 14s - loss: 0.2383 - accuracy: 0.9331 - val_loss: 0.1139 - val_accuracy: 0.9669\n",
      "Epoch 86/100\n",
      "56/56 - 14s - loss: 0.2421 - accuracy: 0.9315 - val_loss: 0.1102 - val_accuracy: 0.9706\n",
      "Epoch 87/100\n",
      "56/56 - 14s - loss: 0.2220 - accuracy: 0.9368 - val_loss: 0.1051 - val_accuracy: 0.9743\n",
      "Epoch 88/100\n",
      "56/56 - 14s - loss: 0.2258 - accuracy: 0.9374 - val_loss: 0.0989 - val_accuracy: 0.9740\n",
      "Epoch 89/100\n",
      "56/56 - 15s - loss: 0.2302 - accuracy: 0.9324 - val_loss: 0.1131 - val_accuracy: 0.9714\n",
      "Epoch 90/100\n",
      "56/56 - 14s - loss: 0.2363 - accuracy: 0.9340 - val_loss: 0.0949 - val_accuracy: 0.9751\n",
      "Epoch 91/100\n",
      "56/56 - 15s - loss: 0.2420 - accuracy: 0.9306 - val_loss: 0.0919 - val_accuracy: 0.9732\n",
      "Epoch 92/100\n",
      "56/56 - 14s - loss: 0.2343 - accuracy: 0.9338 - val_loss: 0.1032 - val_accuracy: 0.9717\n",
      "Epoch 93/100\n",
      "56/56 - 14s - loss: 0.2361 - accuracy: 0.9319 - val_loss: 0.0898 - val_accuracy: 0.9743\n",
      "Epoch 94/100\n",
      "56/56 - 15s - loss: 0.2281 - accuracy: 0.9382 - val_loss: 0.0936 - val_accuracy: 0.9736\n",
      "Epoch 95/100\n",
      "56/56 - 14s - loss: 0.2361 - accuracy: 0.9308 - val_loss: 0.1018 - val_accuracy: 0.9743\n",
      "Epoch 96/100\n",
      "56/56 - 15s - loss: 0.2038 - accuracy: 0.9454 - val_loss: 0.1191 - val_accuracy: 0.9717\n",
      "Epoch 97/100\n",
      "56/56 - 15s - loss: 0.2215 - accuracy: 0.9342 - val_loss: 0.0908 - val_accuracy: 0.9740\n",
      "Epoch 98/100\n",
      "56/56 - 14s - loss: 0.2226 - accuracy: 0.9381 - val_loss: 0.0998 - val_accuracy: 0.9725\n",
      "Epoch 99/100\n",
      "56/56 - 15s - loss: 0.2311 - accuracy: 0.9390 - val_loss: 0.1099 - val_accuracy: 0.9680\n",
      "Epoch 100/100\n",
      "56/56 - 14s - loss: 0.2266 - accuracy: 0.9369 - val_loss: 0.1020 - val_accuracy: 0.9721\n"
     ]
    }
   ],
   "source": [
    "history = model.fit(datagen.flow(X_train,y_train, batch_size=192),\n",
    "                            validation_data=(X_valid, y_valid),\n",
    "                            epochs=100, batch_size=192,\n",
    "                            verbose=2, callbacks=[early_stopp])"
   ]
  },
  {
   "cell_type": "code",
   "execution_count": 26,
   "metadata": {
    "execution": {
     "iopub.execute_input": "2021-11-07T21:31:20.590150Z",
     "iopub.status.busy": "2021-11-07T21:31:20.589084Z",
     "iopub.status.idle": "2021-11-07T21:31:20.931400Z",
     "shell.execute_reply": "2021-11-07T21:31:20.931925Z",
     "shell.execute_reply.started": "2021-11-07T20:02:46.249149Z"
    },
    "papermill": {
     "duration": 0.459419,
     "end_time": "2021-11-07T21:31:20.932120",
     "exception": false,
     "start_time": "2021-11-07T21:31:20.472701",
     "status": "completed"
    },
    "tags": []
   },
   "outputs": [
    {
     "data": {
      "text/plain": [
       "<AxesSubplot:>"
      ]
     },
     "execution_count": 26,
     "metadata": {},
     "output_type": "execute_result"
    },
    {
     "data": {
      "image/png": "[encoded data removed]",
      "text/plain": [
       "<Figure size 720x432 with 1 Axes>"
      ]
     },
     "metadata": {
      "needs_background": "light"
     },
     "output_type": "display_data"
    }
   ],
   "source": [
    "pd.DataFrame(history.history).plot(figsize=(10, 6))"
   ]
  },
  {
   "cell_type": "code",
   "execution_count": 27,
   "metadata": {
    "execution": {
     "iopub.execute_input": "2021-11-07T21:31:21.151181Z",
     "iopub.status.busy": "2021-11-07T21:31:21.150491Z",
     "iopub.status.idle": "2021-11-07T21:31:22.590883Z",
     "shell.execute_reply": "2021-11-07T21:31:22.591518Z",
     "shell.execute_reply.started": "2021-11-07T20:14:09.601377Z"
    },
    "papermill": {
     "duration": 1.55322,
     "end_time": "2021-11-07T21:31:22.591733",
     "exception": false,
     "start_time": "2021-11-07T21:31:21.038513",
     "status": "completed"
    },
    "tags": []
   },
   "outputs": [
    {
     "name": "stdout",
     "output_type": "stream",
     "text": [
      "84/84 [==============================] - 1s 13ms/step - loss: 0.1020 - accuracy: 0.9721\n"
     ]
    },
    {
     "data": {
      "text/plain": [
       "[0.10197053849697113, 0.9720982313156128]"
      ]
     },
     "execution_count": 27,
     "metadata": {},
     "output_type": "execute_result"
    }
   ],
   "source": [
    "model.evaluate(X_valid,y_valid)"
   ]
  },
  {
   "cell_type": "code",
   "execution_count": 28,
   "metadata": {
    "execution": {
     "iopub.execute_input": "2021-11-07T21:31:22.827846Z",
     "iopub.status.busy": "2021-11-07T21:31:22.826357Z",
     "iopub.status.idle": "2021-11-07T21:31:24.031800Z",
     "shell.execute_reply": "2021-11-07T21:31:24.031153Z",
     "shell.execute_reply.started": "2021-11-07T20:02:47.974211Z"
    },
    "papermill": {
     "duration": 1.326448,
     "end_time": "2021-11-07T21:31:24.031982",
     "exception": false,
     "start_time": "2021-11-07T21:31:22.705534",
     "status": "completed"
    },
    "tags": []
   },
   "outputs": [],
   "source": [
    "prediction = model.predict(X_valid)\n",
    "predictions = np.argmax(prediction,axis = 1)"
   ]
  },
  {
   "cell_type": "code",
   "execution_count": 29,
   "metadata": {
    "execution": {
     "iopub.execute_input": "2021-11-07T21:31:24.261861Z",
     "iopub.status.busy": "2021-11-07T21:31:24.261184Z",
     "iopub.status.idle": "2021-11-07T21:31:24.267790Z",
     "shell.execute_reply": "2021-11-07T21:31:24.267220Z",
     "shell.execute_reply.started": "2021-11-07T20:02:49.203747Z"
    },
    "papermill": {
     "duration": 0.12267,
     "end_time": "2021-11-07T21:31:24.267955",
     "exception": false,
     "start_time": "2021-11-07T21:31:24.145285",
     "status": "completed"
    },
    "tags": []
   },
   "outputs": [
    {
     "name": "stdout",
     "output_type": "stream",
     "text": [
      "[26  8 10 16 19  8 12  3  5 20 26 24 17 22  1 10 25 28  5 26]\n",
      "[26  8 10 17 19  8 12  3  5 20 26 24 17 22  1 10 25 28  5 26]\n"
     ]
    }
   ],
   "source": [
    "print(predictions[:20])\n",
    "print(y_valid[:20])"
   ]
  },
  {
   "cell_type": "markdown",
   "metadata": {
    "papermill": {
     "duration": 0.113761,
     "end_time": "2021-11-07T21:31:24.496982",
     "exception": false,
     "start_time": "2021-11-07T21:31:24.383221",
     "status": "completed"
    },
    "tags": []
   },
   "source": [
    "### **Test Prediction**"
   ]
  },
  {
   "cell_type": "code",
   "execution_count": 30,
   "metadata": {
    "execution": {
     "iopub.execute_input": "2021-11-07T21:31:24.733231Z",
     "iopub.status.busy": "2021-11-07T21:31:24.731839Z",
     "iopub.status.idle": "2021-11-07T21:31:26.068014Z",
     "shell.execute_reply": "2021-11-07T21:31:26.068577Z",
     "shell.execute_reply.started": "2021-11-07T20:02:49.212019Z"
    },
    "papermill": {
     "duration": 1.456739,
     "end_time": "2021-11-07T21:31:26.068791",
     "exception": false,
     "start_time": "2021-11-07T21:31:24.612052",
     "status": "completed"
    },
    "tags": []
   },
   "outputs": [],
   "source": [
    "test_prediction = model.predict(test_images)\n",
    "test_predictions = np.argmax(test_prediction,axis = 1)"
   ]
  },
  {
   "cell_type": "code",
   "execution_count": 31,
   "metadata": {
    "execution": {
     "iopub.execute_input": "2021-11-07T21:31:26.304894Z",
     "iopub.status.busy": "2021-11-07T21:31:26.303771Z",
     "iopub.status.idle": "2021-11-07T21:31:26.309388Z",
     "shell.execute_reply": "2021-11-07T21:31:26.309871Z",
     "shell.execute_reply.started": "2021-11-07T20:02:50.396330Z"
    },
    "papermill": {
     "duration": 0.126069,
     "end_time": "2021-11-07T21:31:26.310060",
     "exception": false,
     "start_time": "2021-11-07T21:31:26.183991",
     "status": "completed"
    },
    "tags": []
   },
   "outputs": [
    {
     "data": {
      "text/plain": [
       "array([26, 10,  1, ...,  4, 11, 20])"
      ]
     },
     "execution_count": 31,
     "metadata": {},
     "output_type": "execute_result"
    }
   ],
   "source": [
    "test_predictions"
   ]
  },
  {
   "cell_type": "markdown",
   "metadata": {
    "papermill": {
     "duration": 0.115405,
     "end_time": "2021-11-07T21:31:26.537810",
     "exception": false,
     "start_time": "2021-11-07T21:31:26.422405",
     "status": "completed"
    },
    "tags": []
   },
   "source": [
    "### **Submission**"
   ]
  },
  {
   "cell_type": "code",
   "execution_count": 32,
   "metadata": {
    "execution": {
     "iopub.execute_input": "2021-11-07T21:31:26.792378Z",
     "iopub.status.busy": "2021-11-07T21:31:26.791180Z",
     "iopub.status.idle": "2021-11-07T21:31:26.816646Z",
     "shell.execute_reply": "2021-11-07T21:31:26.817320Z",
     "shell.execute_reply.started": "2021-11-07T20:02:50.403915Z"
    },
    "papermill": {
     "duration": 0.162047,
     "end_time": "2021-11-07T21:31:26.817626",
     "exception": false,
     "start_time": "2021-11-07T21:31:26.655579",
     "status": "completed"
    },
    "tags": []
   },
   "outputs": [
    {
     "data": {
      "text/html": [
       "<div>\n",
       "<style scoped>\n",
       "    .dataframe tbody tr th:only-of-type {\n",
       "        vertical-align: middle;\n",
       "    }\n",
       "\n",
       "    .dataframe tbody tr th {\n",
       "        vertical-align: top;\n",
       "    }\n",
       "\n",
       "    .dataframe thead th {\n",
       "        text-align: right;\n",
       "    }\n",
       "</style>\n",
       "<table border=\"1\" class=\"dataframe\">\n",
       "  <thead>\n",
       "    <tr style=\"text-align: right;\">\n",
       "      <th></th>\n",
       "      <th>id</th>\n",
       "      <th>label</th>\n",
       "    </tr>\n",
       "  </thead>\n",
       "  <tbody>\n",
       "    <tr>\n",
       "      <th>0</th>\n",
       "      <td>0</td>\n",
       "      <td>1</td>\n",
       "    </tr>\n",
       "    <tr>\n",
       "      <th>1</th>\n",
       "      <td>1</td>\n",
       "      <td>1</td>\n",
       "    </tr>\n",
       "    <tr>\n",
       "      <th>2</th>\n",
       "      <td>2</td>\n",
       "      <td>1</td>\n",
       "    </tr>\n",
       "    <tr>\n",
       "      <th>3</th>\n",
       "      <td>3</td>\n",
       "      <td>1</td>\n",
       "    </tr>\n",
       "    <tr>\n",
       "      <th>4</th>\n",
       "      <td>4</td>\n",
       "      <td>1</td>\n",
       "    </tr>\n",
       "  </tbody>\n",
       "</table>\n",
       "</div>"
      ],
      "text/plain": [
       "   id  label\n",
       "0   0      1\n",
       "1   1      1\n",
       "2   2      1\n",
       "3   3      1\n",
       "4   4      1"
      ]
     },
     "execution_count": 32,
     "metadata": {},
     "output_type": "execute_result"
    }
   ],
   "source": [
    "submission = pd.read_csv('/kaggle/input/arabic-hwr-ai-pro-intake1/sample_submission.csv')\n",
    "submission.head()"
   ]
  },
  {
   "cell_type": "code",
   "execution_count": 33,
   "metadata": {
    "execution": {
     "iopub.execute_input": "2021-11-07T21:31:27.069432Z",
     "iopub.status.busy": "2021-11-07T21:31:27.068787Z",
     "iopub.status.idle": "2021-11-07T21:31:27.073207Z",
     "shell.execute_reply": "2021-11-07T21:31:27.073843Z",
     "shell.execute_reply.started": "2021-11-07T20:02:50.442258Z"
    },
    "papermill": {
     "duration": 0.126119,
     "end_time": "2021-11-07T21:31:27.074033",
     "exception": false,
     "start_time": "2021-11-07T21:31:26.947914",
     "status": "completed"
    },
    "tags": []
   },
   "outputs": [
    {
     "data": {
      "text/plain": [
       "(3360, 2)"
      ]
     },
     "execution_count": 33,
     "metadata": {},
     "output_type": "execute_result"
    }
   ],
   "source": [
    "submission.shape"
   ]
  },
  {
   "cell_type": "code",
   "execution_count": 34,
   "metadata": {
    "execution": {
     "iopub.execute_input": "2021-11-07T21:31:27.306699Z",
     "iopub.status.busy": "2021-11-07T21:31:27.305988Z",
     "iopub.status.idle": "2021-11-07T21:31:27.309991Z",
     "shell.execute_reply": "2021-11-07T21:31:27.310527Z",
     "shell.execute_reply.started": "2021-11-07T20:02:50.450337Z"
    },
    "papermill": {
     "duration": 0.122874,
     "end_time": "2021-11-07T21:31:27.310733",
     "exception": false,
     "start_time": "2021-11-07T21:31:27.187859",
     "status": "completed"
    },
    "tags": []
   },
   "outputs": [],
   "source": [
    "submission['label'] = test_predictions"
   ]
  },
  {
   "cell_type": "code",
   "execution_count": 35,
   "metadata": {
    "execution": {
     "iopub.execute_input": "2021-11-07T21:31:27.544082Z",
     "iopub.status.busy": "2021-11-07T21:31:27.543469Z",
     "iopub.status.idle": "2021-11-07T21:31:27.568336Z",
     "shell.execute_reply": "2021-11-07T21:31:27.567709Z",
     "shell.execute_reply.started": "2021-11-07T20:02:50.466517Z"
    },
    "papermill": {
     "duration": 0.142287,
     "end_time": "2021-11-07T21:31:27.568526",
     "exception": false,
     "start_time": "2021-11-07T21:31:27.426239",
     "status": "completed"
    },
    "tags": []
   },
   "outputs": [],
   "source": [
    "submission[['id', 'label']].to_csv('submission.csv', index=False)"
   ]
  }
 ],
 "metadata": {
  "kernelspec": {
   "display_name": "Python 3",
   "language": "python",
   "name": "python3"
  },
  "language_info": {
   "codemirror_mode": {
    "name": "ipython",
    "version": 3
   },
   "file_extension": ".py",
   "mimetype": "text/x-python",
   "name": "python",
   "nbconvert_exporter": "python",
   "pygments_lexer": "ipython3",
   "version": "3.8.5"
  },
  "papermill": {
   "default_parameters": {},
   "duration": 2047.470443,
   "end_time": "2021-11-07T21:31:30.631914",
   "environment_variables": {},
   "exception": null,
   "input_path": "__notebook__.ipynb",
   "output_path": "__notebook__.ipynb",
   "parameters": {},
   "start_time": "2021-11-07T20:57:23.161471",
   "version": "2.3.3"
  }
 },
 "nbformat": 4,
 "nbformat_minor": 5
}
