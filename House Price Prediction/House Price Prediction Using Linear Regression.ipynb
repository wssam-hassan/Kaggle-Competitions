{
 "cells": [
  {
   "cell_type": "markdown",
   "metadata": {},
   "source": [
    "### Imports and Data Load"
   ]
  },
  {
   "cell_type": "code",
   "execution_count": 1,
   "metadata": {},
   "outputs": [],
   "source": [
    "import pandas as pd\n",
    "import numpy as np\n",
    "import matplotlib.pyplot as plt\n",
    "import seaborn as sns"
   ]
  },
  {
   "cell_type": "code",
   "execution_count": 2,
   "metadata": {},
   "outputs": [
    {
     "data": {
      "text/html": [
       "<div>\n",
       "<style scoped>\n",
       "    .dataframe tbody tr th:only-of-type {\n",
       "        vertical-align: middle;\n",
       "    }\n",
       "\n",
       "    .dataframe tbody tr th {\n",
       "        vertical-align: top;\n",
       "    }\n",
       "\n",
       "    .dataframe thead th {\n",
       "        text-align: right;\n",
       "    }\n",
       "</style>\n",
       "<table border=\"1\" class=\"dataframe\">\n",
       "  <thead>\n",
       "    <tr style=\"text-align: right;\">\n",
       "      <th></th>\n",
       "      <th>MSSubClass</th>\n",
       "      <th>MSZoning</th>\n",
       "      <th>LotFrontage</th>\n",
       "      <th>LotArea</th>\n",
       "      <th>Street</th>\n",
       "      <th>Alley</th>\n",
       "      <th>LotShape</th>\n",
       "      <th>LandContour</th>\n",
       "      <th>Utilities</th>\n",
       "      <th>LotConfig</th>\n",
       "      <th>...</th>\n",
       "      <th>PoolArea</th>\n",
       "      <th>PoolQC</th>\n",
       "      <th>Fence</th>\n",
       "      <th>MiscFeature</th>\n",
       "      <th>MiscVal</th>\n",
       "      <th>MoSold</th>\n",
       "      <th>YrSold</th>\n",
       "      <th>SaleType</th>\n",
       "      <th>SaleCondition</th>\n",
       "      <th>SalePrice</th>\n",
       "    </tr>\n",
       "    <tr>\n",
       "      <th>Id</th>\n",
       "      <th></th>\n",
       "      <th></th>\n",
       "      <th></th>\n",
       "      <th></th>\n",
       "      <th></th>\n",
       "      <th></th>\n",
       "      <th></th>\n",
       "      <th></th>\n",
       "      <th></th>\n",
       "      <th></th>\n",
       "      <th></th>\n",
       "      <th></th>\n",
       "      <th></th>\n",
       "      <th></th>\n",
       "      <th></th>\n",
       "      <th></th>\n",
       "      <th></th>\n",
       "      <th></th>\n",
       "      <th></th>\n",
       "      <th></th>\n",
       "      <th></th>\n",
       "    </tr>\n",
       "  </thead>\n",
       "  <tbody>\n",
       "    <tr>\n",
       "      <th>1</th>\n",
       "      <td>60</td>\n",
       "      <td>RL</td>\n",
       "      <td>65.0</td>\n",
       "      <td>8450</td>\n",
       "      <td>Pave</td>\n",
       "      <td>NaN</td>\n",
       "      <td>Reg</td>\n",
       "      <td>Lvl</td>\n",
       "      <td>AllPub</td>\n",
       "      <td>Inside</td>\n",
       "      <td>...</td>\n",
       "      <td>0</td>\n",
       "      <td>NaN</td>\n",
       "      <td>NaN</td>\n",
       "      <td>NaN</td>\n",
       "      <td>0</td>\n",
       "      <td>2</td>\n",
       "      <td>2008</td>\n",
       "      <td>WD</td>\n",
       "      <td>Normal</td>\n",
       "      <td>208500</td>\n",
       "    </tr>\n",
       "    <tr>\n",
       "      <th>2</th>\n",
       "      <td>20</td>\n",
       "      <td>RL</td>\n",
       "      <td>80.0</td>\n",
       "      <td>9600</td>\n",
       "      <td>Pave</td>\n",
       "      <td>NaN</td>\n",
       "      <td>Reg</td>\n",
       "      <td>Lvl</td>\n",
       "      <td>AllPub</td>\n",
       "      <td>FR2</td>\n",
       "      <td>...</td>\n",
       "      <td>0</td>\n",
       "      <td>NaN</td>\n",
       "      <td>NaN</td>\n",
       "      <td>NaN</td>\n",
       "      <td>0</td>\n",
       "      <td>5</td>\n",
       "      <td>2007</td>\n",
       "      <td>WD</td>\n",
       "      <td>Normal</td>\n",
       "      <td>181500</td>\n",
       "    </tr>\n",
       "    <tr>\n",
       "      <th>3</th>\n",
       "      <td>60</td>\n",
       "      <td>RL</td>\n",
       "      <td>68.0</td>\n",
       "      <td>11250</td>\n",
       "      <td>Pave</td>\n",
       "      <td>NaN</td>\n",
       "      <td>IR1</td>\n",
       "      <td>Lvl</td>\n",
       "      <td>AllPub</td>\n",
       "      <td>Inside</td>\n",
       "      <td>...</td>\n",
       "      <td>0</td>\n",
       "      <td>NaN</td>\n",
       "      <td>NaN</td>\n",
       "      <td>NaN</td>\n",
       "      <td>0</td>\n",
       "      <td>9</td>\n",
       "      <td>2008</td>\n",
       "      <td>WD</td>\n",
       "      <td>Normal</td>\n",
       "      <td>223500</td>\n",
       "    </tr>\n",
       "    <tr>\n",
       "      <th>4</th>\n",
       "      <td>70</td>\n",
       "      <td>RL</td>\n",
       "      <td>60.0</td>\n",
       "      <td>9550</td>\n",
       "      <td>Pave</td>\n",
       "      <td>NaN</td>\n",
       "      <td>IR1</td>\n",
       "      <td>Lvl</td>\n",
       "      <td>AllPub</td>\n",
       "      <td>Corner</td>\n",
       "      <td>...</td>\n",
       "      <td>0</td>\n",
       "      <td>NaN</td>\n",
       "      <td>NaN</td>\n",
       "      <td>NaN</td>\n",
       "      <td>0</td>\n",
       "      <td>2</td>\n",
       "      <td>2006</td>\n",
       "      <td>WD</td>\n",
       "      <td>Abnorml</td>\n",
       "      <td>140000</td>\n",
       "    </tr>\n",
       "    <tr>\n",
       "      <th>5</th>\n",
       "      <td>60</td>\n",
       "      <td>RL</td>\n",
       "      <td>84.0</td>\n",
       "      <td>14260</td>\n",
       "      <td>Pave</td>\n",
       "      <td>NaN</td>\n",
       "      <td>IR1</td>\n",
       "      <td>Lvl</td>\n",
       "      <td>AllPub</td>\n",
       "      <td>FR2</td>\n",
       "      <td>...</td>\n",
       "      <td>0</td>\n",
       "      <td>NaN</td>\n",
       "      <td>NaN</td>\n",
       "      <td>NaN</td>\n",
       "      <td>0</td>\n",
       "      <td>12</td>\n",
       "      <td>2008</td>\n",
       "      <td>WD</td>\n",
       "      <td>Normal</td>\n",
       "      <td>250000</td>\n",
       "    </tr>\n",
       "    <tr>\n",
       "      <th>...</th>\n",
       "      <td>...</td>\n",
       "      <td>...</td>\n",
       "      <td>...</td>\n",
       "      <td>...</td>\n",
       "      <td>...</td>\n",
       "      <td>...</td>\n",
       "      <td>...</td>\n",
       "      <td>...</td>\n",
       "      <td>...</td>\n",
       "      <td>...</td>\n",
       "      <td>...</td>\n",
       "      <td>...</td>\n",
       "      <td>...</td>\n",
       "      <td>...</td>\n",
       "      <td>...</td>\n",
       "      <td>...</td>\n",
       "      <td>...</td>\n",
       "      <td>...</td>\n",
       "      <td>...</td>\n",
       "      <td>...</td>\n",
       "      <td>...</td>\n",
       "    </tr>\n",
       "    <tr>\n",
       "      <th>1255</th>\n",
       "      <td>60</td>\n",
       "      <td>RL</td>\n",
       "      <td>60.0</td>\n",
       "      <td>6931</td>\n",
       "      <td>Pave</td>\n",
       "      <td>NaN</td>\n",
       "      <td>Reg</td>\n",
       "      <td>Lvl</td>\n",
       "      <td>AllPub</td>\n",
       "      <td>Inside</td>\n",
       "      <td>...</td>\n",
       "      <td>0</td>\n",
       "      <td>NaN</td>\n",
       "      <td>NaN</td>\n",
       "      <td>NaN</td>\n",
       "      <td>0</td>\n",
       "      <td>7</td>\n",
       "      <td>2008</td>\n",
       "      <td>WD</td>\n",
       "      <td>Normal</td>\n",
       "      <td>165400</td>\n",
       "    </tr>\n",
       "    <tr>\n",
       "      <th>1256</th>\n",
       "      <td>50</td>\n",
       "      <td>RM</td>\n",
       "      <td>52.0</td>\n",
       "      <td>6240</td>\n",
       "      <td>Pave</td>\n",
       "      <td>NaN</td>\n",
       "      <td>Reg</td>\n",
       "      <td>Lvl</td>\n",
       "      <td>AllPub</td>\n",
       "      <td>Inside</td>\n",
       "      <td>...</td>\n",
       "      <td>0</td>\n",
       "      <td>NaN</td>\n",
       "      <td>NaN</td>\n",
       "      <td>NaN</td>\n",
       "      <td>0</td>\n",
       "      <td>11</td>\n",
       "      <td>2007</td>\n",
       "      <td>WD</td>\n",
       "      <td>Normal</td>\n",
       "      <td>127500</td>\n",
       "    </tr>\n",
       "    <tr>\n",
       "      <th>1257</th>\n",
       "      <td>20</td>\n",
       "      <td>RL</td>\n",
       "      <td>91.0</td>\n",
       "      <td>14303</td>\n",
       "      <td>Pave</td>\n",
       "      <td>NaN</td>\n",
       "      <td>IR1</td>\n",
       "      <td>Lvl</td>\n",
       "      <td>AllPub</td>\n",
       "      <td>Corner</td>\n",
       "      <td>...</td>\n",
       "      <td>0</td>\n",
       "      <td>NaN</td>\n",
       "      <td>NaN</td>\n",
       "      <td>NaN</td>\n",
       "      <td>0</td>\n",
       "      <td>8</td>\n",
       "      <td>2008</td>\n",
       "      <td>WD</td>\n",
       "      <td>Normal</td>\n",
       "      <td>301500</td>\n",
       "    </tr>\n",
       "    <tr>\n",
       "      <th>1258</th>\n",
       "      <td>30</td>\n",
       "      <td>RL</td>\n",
       "      <td>56.0</td>\n",
       "      <td>4060</td>\n",
       "      <td>Pave</td>\n",
       "      <td>NaN</td>\n",
       "      <td>Reg</td>\n",
       "      <td>Lvl</td>\n",
       "      <td>AllPub</td>\n",
       "      <td>Corner</td>\n",
       "      <td>...</td>\n",
       "      <td>0</td>\n",
       "      <td>NaN</td>\n",
       "      <td>NaN</td>\n",
       "      <td>NaN</td>\n",
       "      <td>0</td>\n",
       "      <td>7</td>\n",
       "      <td>2009</td>\n",
       "      <td>WD</td>\n",
       "      <td>Normal</td>\n",
       "      <td>99900</td>\n",
       "    </tr>\n",
       "    <tr>\n",
       "      <th>1259</th>\n",
       "      <td>80</td>\n",
       "      <td>RL</td>\n",
       "      <td>59.0</td>\n",
       "      <td>9587</td>\n",
       "      <td>Pave</td>\n",
       "      <td>NaN</td>\n",
       "      <td>IR1</td>\n",
       "      <td>Lvl</td>\n",
       "      <td>AllPub</td>\n",
       "      <td>Inside</td>\n",
       "      <td>...</td>\n",
       "      <td>0</td>\n",
       "      <td>NaN</td>\n",
       "      <td>NaN</td>\n",
       "      <td>NaN</td>\n",
       "      <td>0</td>\n",
       "      <td>7</td>\n",
       "      <td>2008</td>\n",
       "      <td>WD</td>\n",
       "      <td>Normal</td>\n",
       "      <td>190000</td>\n",
       "    </tr>\n",
       "  </tbody>\n",
       "</table>\n",
       "<p>1259 rows × 80 columns</p>\n",
       "</div>"
      ],
      "text/plain": [
       "      MSSubClass MSZoning  LotFrontage  LotArea Street Alley LotShape  \\\n",
       "Id                                                                      \n",
       "1             60       RL         65.0     8450   Pave   NaN      Reg   \n",
       "2             20       RL         80.0     9600   Pave   NaN      Reg   \n",
       "3             60       RL         68.0    11250   Pave   NaN      IR1   \n",
       "4             70       RL         60.0     9550   Pave   NaN      IR1   \n",
       "5             60       RL         84.0    14260   Pave   NaN      IR1   \n",
       "...          ...      ...          ...      ...    ...   ...      ...   \n",
       "1255          60       RL         60.0     6931   Pave   NaN      Reg   \n",
       "1256          50       RM         52.0     6240   Pave   NaN      Reg   \n",
       "1257          20       RL         91.0    14303   Pave   NaN      IR1   \n",
       "1258          30       RL         56.0     4060   Pave   NaN      Reg   \n",
       "1259          80       RL         59.0     9587   Pave   NaN      IR1   \n",
       "\n",
       "     LandContour Utilities LotConfig  ... PoolArea PoolQC Fence MiscFeature  \\\n",
       "Id                                    ...                                     \n",
       "1            Lvl    AllPub    Inside  ...        0    NaN   NaN         NaN   \n",
       "2            Lvl    AllPub       FR2  ...        0    NaN   NaN         NaN   \n",
       "3            Lvl    AllPub    Inside  ...        0    NaN   NaN         NaN   \n",
       "4            Lvl    AllPub    Corner  ...        0    NaN   NaN         NaN   \n",
       "5            Lvl    AllPub       FR2  ...        0    NaN   NaN         NaN   \n",
       "...          ...       ...       ...  ...      ...    ...   ...         ...   \n",
       "1255         Lvl    AllPub    Inside  ...        0    NaN   NaN         NaN   \n",
       "1256         Lvl    AllPub    Inside  ...        0    NaN   NaN         NaN   \n",
       "1257         Lvl    AllPub    Corner  ...        0    NaN   NaN         NaN   \n",
       "1258         Lvl    AllPub    Corner  ...        0    NaN   NaN         NaN   \n",
       "1259         Lvl    AllPub    Inside  ...        0    NaN   NaN         NaN   \n",
       "\n",
       "     MiscVal MoSold  YrSold  SaleType  SaleCondition  SalePrice  \n",
       "Id                                                               \n",
       "1          0      2    2008        WD         Normal     208500  \n",
       "2          0      5    2007        WD         Normal     181500  \n",
       "3          0      9    2008        WD         Normal     223500  \n",
       "4          0      2    2006        WD        Abnorml     140000  \n",
       "5          0     12    2008        WD         Normal     250000  \n",
       "...      ...    ...     ...       ...            ...        ...  \n",
       "1255       0      7    2008        WD         Normal     165400  \n",
       "1256       0     11    2007        WD         Normal     127500  \n",
       "1257       0      8    2008        WD         Normal     301500  \n",
       "1258       0      7    2009        WD         Normal      99900  \n",
       "1259       0      7    2008        WD         Normal     190000  \n",
       "\n",
       "[1259 rows x 80 columns]"
      ]
     },
     "execution_count": 2,
     "metadata": {},
     "output_type": "execute_result"
    }
   ],
   "source": [
    "train_df = pd.read_csv('train.csv', index_col='Id')\n",
    "train_df"
   ]
  },
  {
   "cell_type": "code",
   "execution_count": 3,
   "metadata": {},
   "outputs": [
    {
     "data": {
      "text/html": [
       "<div>\n",
       "<style scoped>\n",
       "    .dataframe tbody tr th:only-of-type {\n",
       "        vertical-align: middle;\n",
       "    }\n",
       "\n",
       "    .dataframe tbody tr th {\n",
       "        vertical-align: top;\n",
       "    }\n",
       "\n",
       "    .dataframe thead th {\n",
       "        text-align: right;\n",
       "    }\n",
       "</style>\n",
       "<table border=\"1\" class=\"dataframe\">\n",
       "  <thead>\n",
       "    <tr style=\"text-align: right;\">\n",
       "      <th></th>\n",
       "      <th>MSSubClass</th>\n",
       "      <th>MSZoning</th>\n",
       "      <th>LotFrontage</th>\n",
       "      <th>LotArea</th>\n",
       "      <th>Street</th>\n",
       "      <th>Alley</th>\n",
       "      <th>LotShape</th>\n",
       "      <th>LandContour</th>\n",
       "      <th>Utilities</th>\n",
       "      <th>LotConfig</th>\n",
       "      <th>...</th>\n",
       "      <th>ScreenPorch</th>\n",
       "      <th>PoolArea</th>\n",
       "      <th>PoolQC</th>\n",
       "      <th>Fence</th>\n",
       "      <th>MiscFeature</th>\n",
       "      <th>MiscVal</th>\n",
       "      <th>MoSold</th>\n",
       "      <th>YrSold</th>\n",
       "      <th>SaleType</th>\n",
       "      <th>SaleCondition</th>\n",
       "    </tr>\n",
       "    <tr>\n",
       "      <th>Id</th>\n",
       "      <th></th>\n",
       "      <th></th>\n",
       "      <th></th>\n",
       "      <th></th>\n",
       "      <th></th>\n",
       "      <th></th>\n",
       "      <th></th>\n",
       "      <th></th>\n",
       "      <th></th>\n",
       "      <th></th>\n",
       "      <th></th>\n",
       "      <th></th>\n",
       "      <th></th>\n",
       "      <th></th>\n",
       "      <th></th>\n",
       "      <th></th>\n",
       "      <th></th>\n",
       "      <th></th>\n",
       "      <th></th>\n",
       "      <th></th>\n",
       "      <th></th>\n",
       "    </tr>\n",
       "  </thead>\n",
       "  <tbody>\n",
       "    <tr>\n",
       "      <th>1260</th>\n",
       "      <td>20</td>\n",
       "      <td>RL</td>\n",
       "      <td>65.0</td>\n",
       "      <td>9750</td>\n",
       "      <td>Pave</td>\n",
       "      <td>NaN</td>\n",
       "      <td>Reg</td>\n",
       "      <td>Lvl</td>\n",
       "      <td>AllPub</td>\n",
       "      <td>FR2</td>\n",
       "      <td>...</td>\n",
       "      <td>80</td>\n",
       "      <td>0</td>\n",
       "      <td>NaN</td>\n",
       "      <td>NaN</td>\n",
       "      <td>NaN</td>\n",
       "      <td>0</td>\n",
       "      <td>7</td>\n",
       "      <td>2008</td>\n",
       "      <td>WD</td>\n",
       "      <td>Normal</td>\n",
       "    </tr>\n",
       "    <tr>\n",
       "      <th>1261</th>\n",
       "      <td>60</td>\n",
       "      <td>RL</td>\n",
       "      <td>NaN</td>\n",
       "      <td>24682</td>\n",
       "      <td>Pave</td>\n",
       "      <td>NaN</td>\n",
       "      <td>IR3</td>\n",
       "      <td>Lvl</td>\n",
       "      <td>AllPub</td>\n",
       "      <td>CulDSac</td>\n",
       "      <td>...</td>\n",
       "      <td>0</td>\n",
       "      <td>0</td>\n",
       "      <td>NaN</td>\n",
       "      <td>NaN</td>\n",
       "      <td>NaN</td>\n",
       "      <td>0</td>\n",
       "      <td>6</td>\n",
       "      <td>2009</td>\n",
       "      <td>WD</td>\n",
       "      <td>Normal</td>\n",
       "    </tr>\n",
       "    <tr>\n",
       "      <th>1262</th>\n",
       "      <td>20</td>\n",
       "      <td>RL</td>\n",
       "      <td>80.0</td>\n",
       "      <td>9600</td>\n",
       "      <td>Pave</td>\n",
       "      <td>NaN</td>\n",
       "      <td>Reg</td>\n",
       "      <td>Lvl</td>\n",
       "      <td>AllPub</td>\n",
       "      <td>Inside</td>\n",
       "      <td>...</td>\n",
       "      <td>0</td>\n",
       "      <td>0</td>\n",
       "      <td>NaN</td>\n",
       "      <td>NaN</td>\n",
       "      <td>NaN</td>\n",
       "      <td>0</td>\n",
       "      <td>6</td>\n",
       "      <td>2009</td>\n",
       "      <td>WD</td>\n",
       "      <td>Normal</td>\n",
       "    </tr>\n",
       "    <tr>\n",
       "      <th>1263</th>\n",
       "      <td>50</td>\n",
       "      <td>RL</td>\n",
       "      <td>NaN</td>\n",
       "      <td>11250</td>\n",
       "      <td>Pave</td>\n",
       "      <td>NaN</td>\n",
       "      <td>Reg</td>\n",
       "      <td>Lvl</td>\n",
       "      <td>AllPub</td>\n",
       "      <td>Inside</td>\n",
       "      <td>...</td>\n",
       "      <td>0</td>\n",
       "      <td>0</td>\n",
       "      <td>NaN</td>\n",
       "      <td>NaN</td>\n",
       "      <td>NaN</td>\n",
       "      <td>0</td>\n",
       "      <td>11</td>\n",
       "      <td>2009</td>\n",
       "      <td>WD</td>\n",
       "      <td>Normal</td>\n",
       "    </tr>\n",
       "    <tr>\n",
       "      <th>1264</th>\n",
       "      <td>70</td>\n",
       "      <td>RL</td>\n",
       "      <td>60.0</td>\n",
       "      <td>13515</td>\n",
       "      <td>Pave</td>\n",
       "      <td>Pave</td>\n",
       "      <td>Reg</td>\n",
       "      <td>Lvl</td>\n",
       "      <td>AllPub</td>\n",
       "      <td>Inside</td>\n",
       "      <td>...</td>\n",
       "      <td>0</td>\n",
       "      <td>0</td>\n",
       "      <td>NaN</td>\n",
       "      <td>GdPrv</td>\n",
       "      <td>NaN</td>\n",
       "      <td>0</td>\n",
       "      <td>7</td>\n",
       "      <td>2007</td>\n",
       "      <td>WD</td>\n",
       "      <td>Normal</td>\n",
       "    </tr>\n",
       "    <tr>\n",
       "      <th>...</th>\n",
       "      <td>...</td>\n",
       "      <td>...</td>\n",
       "      <td>...</td>\n",
       "      <td>...</td>\n",
       "      <td>...</td>\n",
       "      <td>...</td>\n",
       "      <td>...</td>\n",
       "      <td>...</td>\n",
       "      <td>...</td>\n",
       "      <td>...</td>\n",
       "      <td>...</td>\n",
       "      <td>...</td>\n",
       "      <td>...</td>\n",
       "      <td>...</td>\n",
       "      <td>...</td>\n",
       "      <td>...</td>\n",
       "      <td>...</td>\n",
       "      <td>...</td>\n",
       "      <td>...</td>\n",
       "      <td>...</td>\n",
       "      <td>...</td>\n",
       "    </tr>\n",
       "    <tr>\n",
       "      <th>1456</th>\n",
       "      <td>60</td>\n",
       "      <td>RL</td>\n",
       "      <td>62.0</td>\n",
       "      <td>7917</td>\n",
       "      <td>Pave</td>\n",
       "      <td>NaN</td>\n",
       "      <td>Reg</td>\n",
       "      <td>Lvl</td>\n",
       "      <td>AllPub</td>\n",
       "      <td>Inside</td>\n",
       "      <td>...</td>\n",
       "      <td>0</td>\n",
       "      <td>0</td>\n",
       "      <td>NaN</td>\n",
       "      <td>NaN</td>\n",
       "      <td>NaN</td>\n",
       "      <td>0</td>\n",
       "      <td>8</td>\n",
       "      <td>2007</td>\n",
       "      <td>WD</td>\n",
       "      <td>Normal</td>\n",
       "    </tr>\n",
       "    <tr>\n",
       "      <th>1457</th>\n",
       "      <td>20</td>\n",
       "      <td>RL</td>\n",
       "      <td>85.0</td>\n",
       "      <td>13175</td>\n",
       "      <td>Pave</td>\n",
       "      <td>NaN</td>\n",
       "      <td>Reg</td>\n",
       "      <td>Lvl</td>\n",
       "      <td>AllPub</td>\n",
       "      <td>Inside</td>\n",
       "      <td>...</td>\n",
       "      <td>0</td>\n",
       "      <td>0</td>\n",
       "      <td>NaN</td>\n",
       "      <td>MnPrv</td>\n",
       "      <td>NaN</td>\n",
       "      <td>0</td>\n",
       "      <td>2</td>\n",
       "      <td>2010</td>\n",
       "      <td>WD</td>\n",
       "      <td>Normal</td>\n",
       "    </tr>\n",
       "    <tr>\n",
       "      <th>1458</th>\n",
       "      <td>70</td>\n",
       "      <td>RL</td>\n",
       "      <td>66.0</td>\n",
       "      <td>9042</td>\n",
       "      <td>Pave</td>\n",
       "      <td>NaN</td>\n",
       "      <td>Reg</td>\n",
       "      <td>Lvl</td>\n",
       "      <td>AllPub</td>\n",
       "      <td>Inside</td>\n",
       "      <td>...</td>\n",
       "      <td>0</td>\n",
       "      <td>0</td>\n",
       "      <td>NaN</td>\n",
       "      <td>GdPrv</td>\n",
       "      <td>Shed</td>\n",
       "      <td>2500</td>\n",
       "      <td>5</td>\n",
       "      <td>2010</td>\n",
       "      <td>WD</td>\n",
       "      <td>Normal</td>\n",
       "    </tr>\n",
       "    <tr>\n",
       "      <th>1459</th>\n",
       "      <td>20</td>\n",
       "      <td>RL</td>\n",
       "      <td>68.0</td>\n",
       "      <td>9717</td>\n",
       "      <td>Pave</td>\n",
       "      <td>NaN</td>\n",
       "      <td>Reg</td>\n",
       "      <td>Lvl</td>\n",
       "      <td>AllPub</td>\n",
       "      <td>Inside</td>\n",
       "      <td>...</td>\n",
       "      <td>0</td>\n",
       "      <td>0</td>\n",
       "      <td>NaN</td>\n",
       "      <td>NaN</td>\n",
       "      <td>NaN</td>\n",
       "      <td>0</td>\n",
       "      <td>4</td>\n",
       "      <td>2010</td>\n",
       "      <td>WD</td>\n",
       "      <td>Normal</td>\n",
       "    </tr>\n",
       "    <tr>\n",
       "      <th>1460</th>\n",
       "      <td>20</td>\n",
       "      <td>RL</td>\n",
       "      <td>75.0</td>\n",
       "      <td>9937</td>\n",
       "      <td>Pave</td>\n",
       "      <td>NaN</td>\n",
       "      <td>Reg</td>\n",
       "      <td>Lvl</td>\n",
       "      <td>AllPub</td>\n",
       "      <td>Inside</td>\n",
       "      <td>...</td>\n",
       "      <td>0</td>\n",
       "      <td>0</td>\n",
       "      <td>NaN</td>\n",
       "      <td>NaN</td>\n",
       "      <td>NaN</td>\n",
       "      <td>0</td>\n",
       "      <td>6</td>\n",
       "      <td>2008</td>\n",
       "      <td>WD</td>\n",
       "      <td>Normal</td>\n",
       "    </tr>\n",
       "  </tbody>\n",
       "</table>\n",
       "<p>201 rows × 79 columns</p>\n",
       "</div>"
      ],
      "text/plain": [
       "      MSSubClass MSZoning  LotFrontage  LotArea Street Alley LotShape  \\\n",
       "Id                                                                      \n",
       "1260          20       RL         65.0     9750   Pave   NaN      Reg   \n",
       "1261          60       RL          NaN    24682   Pave   NaN      IR3   \n",
       "1262          20       RL         80.0     9600   Pave   NaN      Reg   \n",
       "1263          50       RL          NaN    11250   Pave   NaN      Reg   \n",
       "1264          70       RL         60.0    13515   Pave  Pave      Reg   \n",
       "...          ...      ...          ...      ...    ...   ...      ...   \n",
       "1456          60       RL         62.0     7917   Pave   NaN      Reg   \n",
       "1457          20       RL         85.0    13175   Pave   NaN      Reg   \n",
       "1458          70       RL         66.0     9042   Pave   NaN      Reg   \n",
       "1459          20       RL         68.0     9717   Pave   NaN      Reg   \n",
       "1460          20       RL         75.0     9937   Pave   NaN      Reg   \n",
       "\n",
       "     LandContour Utilities LotConfig  ... ScreenPorch PoolArea PoolQC  Fence  \\\n",
       "Id                                    ...                                      \n",
       "1260         Lvl    AllPub       FR2  ...          80        0    NaN    NaN   \n",
       "1261         Lvl    AllPub   CulDSac  ...           0        0    NaN    NaN   \n",
       "1262         Lvl    AllPub    Inside  ...           0        0    NaN    NaN   \n",
       "1263         Lvl    AllPub    Inside  ...           0        0    NaN    NaN   \n",
       "1264         Lvl    AllPub    Inside  ...           0        0    NaN  GdPrv   \n",
       "...          ...       ...       ...  ...         ...      ...    ...    ...   \n",
       "1456         Lvl    AllPub    Inside  ...           0        0    NaN    NaN   \n",
       "1457         Lvl    AllPub    Inside  ...           0        0    NaN  MnPrv   \n",
       "1458         Lvl    AllPub    Inside  ...           0        0    NaN  GdPrv   \n",
       "1459         Lvl    AllPub    Inside  ...           0        0    NaN    NaN   \n",
       "1460         Lvl    AllPub    Inside  ...           0        0    NaN    NaN   \n",
       "\n",
       "     MiscFeature MiscVal  MoSold  YrSold  SaleType  SaleCondition  \n",
       "Id                                                                 \n",
       "1260         NaN       0       7    2008        WD         Normal  \n",
       "1261         NaN       0       6    2009        WD         Normal  \n",
       "1262         NaN       0       6    2009        WD         Normal  \n",
       "1263         NaN       0      11    2009        WD         Normal  \n",
       "1264         NaN       0       7    2007        WD         Normal  \n",
       "...          ...     ...     ...     ...       ...            ...  \n",
       "1456         NaN       0       8    2007        WD         Normal  \n",
       "1457         NaN       0       2    2010        WD         Normal  \n",
       "1458        Shed    2500       5    2010        WD         Normal  \n",
       "1459         NaN       0       4    2010        WD         Normal  \n",
       "1460         NaN       0       6    2008        WD         Normal  \n",
       "\n",
       "[201 rows x 79 columns]"
      ]
     },
     "execution_count": 3,
     "metadata": {},
     "output_type": "execute_result"
    }
   ],
   "source": [
    "test_df = pd.read_csv('test.csv', index_col='Id')\n",
    "test_df"
   ]
  },
  {
   "cell_type": "markdown",
   "metadata": {},
   "source": [
    "### EDA & Extracting Insights"
   ]
  },
  {
   "cell_type": "code",
   "execution_count": 4,
   "metadata": {},
   "outputs": [
    {
     "name": "stdout",
     "output_type": "stream",
     "text": [
      "<class 'pandas.core.frame.DataFrame'>\n",
      "Int64Index: 1259 entries, 1 to 1259\n",
      "Data columns (total 80 columns):\n",
      " #   Column         Non-Null Count  Dtype  \n",
      "---  ------         --------------  -----  \n",
      " 0   MSSubClass     1259 non-null   int64  \n",
      " 1   MSZoning       1259 non-null   object \n",
      " 2   LotFrontage    1041 non-null   float64\n",
      " 3   LotArea        1259 non-null   int64  \n",
      " 4   Street         1259 non-null   object \n",
      " 5   Alley          76 non-null     object \n",
      " 6   LotShape       1259 non-null   object \n",
      " 7   LandContour    1259 non-null   object \n",
      " 8   Utilities      1259 non-null   object \n",
      " 9   LotConfig      1259 non-null   object \n",
      " 10  LandSlope      1259 non-null   object \n",
      " 11  Neighborhood   1259 non-null   object \n",
      " 12  Condition1     1259 non-null   object \n",
      " 13  Condition2     1259 non-null   object \n",
      " 14  BldgType       1259 non-null   object \n",
      " 15  HouseStyle     1259 non-null   object \n",
      " 16  OverallQual    1259 non-null   int64  \n",
      " 17  OverallCond    1259 non-null   int64  \n",
      " 18  YearBuilt      1259 non-null   int64  \n",
      " 19  YearRemodAdd   1259 non-null   int64  \n",
      " 20  RoofStyle      1259 non-null   object \n",
      " 21  RoofMatl       1259 non-null   object \n",
      " 22  Exterior1st    1259 non-null   object \n",
      " 23  Exterior2nd    1259 non-null   object \n",
      " 24  MasVnrType     1252 non-null   object \n",
      " 25  MasVnrArea     1252 non-null   float64\n",
      " 26  ExterQual      1259 non-null   object \n",
      " 27  ExterCond      1259 non-null   object \n",
      " 28  Foundation     1259 non-null   object \n",
      " 29  BsmtQual       1224 non-null   object \n",
      " 30  BsmtCond       1224 non-null   object \n",
      " 31  BsmtExposure   1223 non-null   object \n",
      " 32  BsmtFinType1   1224 non-null   object \n",
      " 33  BsmtFinSF1     1259 non-null   int64  \n",
      " 34  BsmtFinType2   1223 non-null   object \n",
      " 35  BsmtFinSF2     1259 non-null   int64  \n",
      " 36  BsmtUnfSF      1259 non-null   int64  \n",
      " 37  TotalBsmtSF    1259 non-null   int64  \n",
      " 38  Heating        1259 non-null   object \n",
      " 39  HeatingQC      1259 non-null   object \n",
      " 40  CentralAir     1259 non-null   object \n",
      " 41  Electrical     1259 non-null   object \n",
      " 42  1stFlrSF       1259 non-null   int64  \n",
      " 43  2ndFlrSF       1259 non-null   int64  \n",
      " 44  LowQualFinSF   1259 non-null   int64  \n",
      " 45  GrLivArea      1259 non-null   int64  \n",
      " 46  BsmtFullBath   1259 non-null   int64  \n",
      " 47  BsmtHalfBath   1259 non-null   int64  \n",
      " 48  FullBath       1259 non-null   int64  \n",
      " 49  HalfBath       1259 non-null   int64  \n",
      " 50  BedroomAbvGr   1259 non-null   int64  \n",
      " 51  KitchenAbvGr   1259 non-null   int64  \n",
      " 52  KitchenQual    1259 non-null   object \n",
      " 53  TotRmsAbvGrd   1259 non-null   int64  \n",
      " 54  Functional     1259 non-null   object \n",
      " 55  Fireplaces     1259 non-null   int64  \n",
      " 56  FireplaceQu    660 non-null    object \n",
      " 57  GarageType     1188 non-null   object \n",
      " 58  GarageYrBlt    1188 non-null   float64\n",
      " 59  GarageFinish   1188 non-null   object \n",
      " 60  GarageCars     1259 non-null   int64  \n",
      " 61  GarageArea     1259 non-null   int64  \n",
      " 62  GarageQual     1188 non-null   object \n",
      " 63  GarageCond     1188 non-null   object \n",
      " 64  PavedDrive     1259 non-null   object \n",
      " 65  WoodDeckSF     1259 non-null   int64  \n",
      " 66  OpenPorchSF    1259 non-null   int64  \n",
      " 67  EnclosedPorch  1259 non-null   int64  \n",
      " 68  3SsnPorch      1259 non-null   int64  \n",
      " 69  ScreenPorch    1259 non-null   int64  \n",
      " 70  PoolArea       1259 non-null   int64  \n",
      " 71  PoolQC         4 non-null      object \n",
      " 72  Fence          240 non-null    object \n",
      " 73  MiscFeature    51 non-null     object \n",
      " 74  MiscVal        1259 non-null   int64  \n",
      " 75  MoSold         1259 non-null   int64  \n",
      " 76  YrSold         1259 non-null   int64  \n",
      " 77  SaleType       1259 non-null   object \n",
      " 78  SaleCondition  1259 non-null   object \n",
      " 79  SalePrice      1259 non-null   int64  \n",
      "dtypes: float64(3), int64(34), object(43)\n",
      "memory usage: 796.7+ KB\n"
     ]
    }
   ],
   "source": [
    "train_df.info()"
   ]
  },
  {
   "cell_type": "code",
   "execution_count": 5,
   "metadata": {},
   "outputs": [
    {
     "data": {
      "text/plain": [
       "MSSubClass         0\n",
       "MSZoning           0\n",
       "LotFrontage      218\n",
       "LotArea            0\n",
       "Street             0\n",
       "                ... \n",
       "MoSold             0\n",
       "YrSold             0\n",
       "SaleType           0\n",
       "SaleCondition      0\n",
       "SalePrice          0\n",
       "Length: 80, dtype: int64"
      ]
     },
     "execution_count": 5,
     "metadata": {},
     "output_type": "execute_result"
    }
   ],
   "source": [
    "# NANs check\n",
    "train_df.isnull().sum()"
   ]
  },
  {
   "cell_type": "code",
   "execution_count": 6,
   "metadata": {},
   "outputs": [
    {
     "data": {
      "text/plain": [
       "LotFrontage      218\n",
       "Alley           1183\n",
       "MasVnrType         7\n",
       "MasVnrArea         7\n",
       "BsmtQual          35\n",
       "BsmtCond          35\n",
       "BsmtExposure      36\n",
       "BsmtFinType1      35\n",
       "BsmtFinType2      36\n",
       "FireplaceQu      599\n",
       "GarageType        71\n",
       "GarageYrBlt       71\n",
       "GarageFinish      71\n",
       "GarageQual        71\n",
       "GarageCond        71\n",
       "PoolQC          1255\n",
       "Fence           1019\n",
       "MiscFeature     1208\n",
       "dtype: int64"
      ]
     },
     "execution_count": 6,
     "metadata": {},
     "output_type": "execute_result"
    }
   ],
   "source": [
    "# Only Columns with NANs check\n",
    "train_df.loc[:,train_df.isnull().any()].isnull().sum()"
   ]
  },
  {
   "cell_type": "markdown",
   "metadata": {},
   "source": [
    "#### Checking Highly filled NaNs columns"
   ]
  },
  {
   "cell_type": "code",
   "execution_count": 7,
   "metadata": {},
   "outputs": [
    {
     "data": {
      "text/html": [
       "<div>\n",
       "<style scoped>\n",
       "    .dataframe tbody tr th:only-of-type {\n",
       "        vertical-align: middle;\n",
       "    }\n",
       "\n",
       "    .dataframe tbody tr th {\n",
       "        vertical-align: top;\n",
       "    }\n",
       "\n",
       "    .dataframe thead th {\n",
       "        text-align: right;\n",
       "    }\n",
       "</style>\n",
       "<table border=\"1\" class=\"dataframe\">\n",
       "  <thead>\n",
       "    <tr style=\"text-align: right;\">\n",
       "      <th></th>\n",
       "      <th>PoolQC</th>\n",
       "      <th>SalePrice</th>\n",
       "    </tr>\n",
       "    <tr>\n",
       "      <th>Id</th>\n",
       "      <th></th>\n",
       "      <th></th>\n",
       "    </tr>\n",
       "  </thead>\n",
       "  <tbody>\n",
       "    <tr>\n",
       "      <th>198</th>\n",
       "      <td>Ex</td>\n",
       "      <td>235000</td>\n",
       "    </tr>\n",
       "    <tr>\n",
       "      <th>811</th>\n",
       "      <td>Fa</td>\n",
       "      <td>181000</td>\n",
       "    </tr>\n",
       "    <tr>\n",
       "      <th>1171</th>\n",
       "      <td>Gd</td>\n",
       "      <td>171000</td>\n",
       "    </tr>\n",
       "    <tr>\n",
       "      <th>1183</th>\n",
       "      <td>Ex</td>\n",
       "      <td>745000</td>\n",
       "    </tr>\n",
       "  </tbody>\n",
       "</table>\n",
       "</div>"
      ],
      "text/plain": [
       "     PoolQC  SalePrice\n",
       "Id                    \n",
       "198      Ex     235000\n",
       "811      Fa     181000\n",
       "1171     Gd     171000\n",
       "1183     Ex     745000"
      ]
     },
     "execution_count": 7,
     "metadata": {},
     "output_type": "execute_result"
    }
   ],
   "source": [
    "train_df[train_df['PoolQC'].notnull()][['PoolQC', 'SalePrice']]"
   ]
  },
  {
   "cell_type": "code",
   "execution_count": 8,
   "metadata": {},
   "outputs": [
    {
     "data": {
      "text/plain": [
       "MiscFeature\n",
       "Gar2    190000\n",
       "Othr    133000\n",
       "Shed    277000\n",
       "Name: SalePrice, dtype: int64"
      ]
     },
     "execution_count": 8,
     "metadata": {},
     "output_type": "execute_result"
    }
   ],
   "source": [
    "train_df[train_df['MiscFeature'].notnull()].groupby(['MiscFeature'])['SalePrice'].max()"
   ]
  },
  {
   "cell_type": "code",
   "execution_count": 9,
   "metadata": {},
   "outputs": [
    {
     "data": {
      "text/plain": [
       "MiscFeature\n",
       "Gar2    151500\n",
       "Othr     55000\n",
       "Shed     55993\n",
       "Name: SalePrice, dtype: int64"
      ]
     },
     "execution_count": 9,
     "metadata": {},
     "output_type": "execute_result"
    }
   ],
   "source": [
    "train_df[train_df['MiscFeature'].notnull()].groupby(['MiscFeature'])['SalePrice'].min()"
   ]
  },
  {
   "cell_type": "code",
   "execution_count": 10,
   "metadata": {},
   "outputs": [
    {
     "data": {
      "text/plain": [
       "Fence\n",
       "GdPrv    475000\n",
       "GdWo     289000\n",
       "MnPrv    745000\n",
       "MnWw     187000\n",
       "Name: SalePrice, dtype: int64"
      ]
     },
     "execution_count": 10,
     "metadata": {},
     "output_type": "execute_result"
    }
   ],
   "source": [
    "train_df[train_df['Fence'].notnull()].groupby(['Fence'])['SalePrice'].max()"
   ]
  },
  {
   "cell_type": "code",
   "execution_count": 11,
   "metadata": {},
   "outputs": [
    {
     "data": {
      "text/plain": [
       "Fence\n",
       "GdPrv    108000\n",
       "GdWo      34900\n",
       "MnPrv     40000\n",
       "MnWw     110000\n",
       "Name: SalePrice, dtype: int64"
      ]
     },
     "execution_count": 11,
     "metadata": {},
     "output_type": "execute_result"
    }
   ],
   "source": [
    "train_df[train_df['Fence'].notnull()].groupby(['Fence'])['SalePrice'].min()"
   ]
  },
  {
   "cell_type": "code",
   "execution_count": 12,
   "metadata": {},
   "outputs": [
    {
     "data": {
      "text/plain": [
       "Alley\n",
       "Grvl    178000\n",
       "Pave    265979\n",
       "Name: SalePrice, dtype: int64"
      ]
     },
     "execution_count": 12,
     "metadata": {},
     "output_type": "execute_result"
    }
   ],
   "source": [
    "train_df[train_df['Alley'].notnull()].groupby(['Alley'])['SalePrice'].max()"
   ]
  },
  {
   "cell_type": "code",
   "execution_count": 13,
   "metadata": {},
   "outputs": [
    {
     "data": {
      "text/plain": [
       "Alley\n",
       "Grvl    67000\n",
       "Pave    40000\n",
       "Name: SalePrice, dtype: int64"
      ]
     },
     "execution_count": 13,
     "metadata": {},
     "output_type": "execute_result"
    }
   ],
   "source": [
    "train_df[train_df['Alley'].notnull()].groupby(['Alley'])['SalePrice'].min()"
   ]
  },
  {
   "cell_type": "markdown",
   "metadata": {},
   "source": [
    "- Columns `Alley`, `PoolQC`, `Fence` and `MiscFeature` almost records are NaNs, we will drop it.\n",
    "- The rest will be imputed or dropna recording to nomber of NaNs and dtype."
   ]
  },
  {
   "cell_type": "code",
   "execution_count": 14,
   "metadata": {},
   "outputs": [
    {
     "data": {
      "text/html": [
       "<div>\n",
       "<style scoped>\n",
       "    .dataframe tbody tr th:only-of-type {\n",
       "        vertical-align: middle;\n",
       "    }\n",
       "\n",
       "    .dataframe tbody tr th {\n",
       "        vertical-align: top;\n",
       "    }\n",
       "\n",
       "    .dataframe thead th {\n",
       "        text-align: right;\n",
       "    }\n",
       "</style>\n",
       "<table border=\"1\" class=\"dataframe\">\n",
       "  <thead>\n",
       "    <tr style=\"text-align: right;\">\n",
       "      <th></th>\n",
       "      <th>MSSubClass</th>\n",
       "      <th>LotFrontage</th>\n",
       "      <th>LotArea</th>\n",
       "      <th>OverallQual</th>\n",
       "      <th>OverallCond</th>\n",
       "      <th>YearBuilt</th>\n",
       "      <th>YearRemodAdd</th>\n",
       "      <th>MasVnrArea</th>\n",
       "      <th>BsmtFinSF1</th>\n",
       "      <th>BsmtFinSF2</th>\n",
       "      <th>...</th>\n",
       "      <th>WoodDeckSF</th>\n",
       "      <th>OpenPorchSF</th>\n",
       "      <th>EnclosedPorch</th>\n",
       "      <th>3SsnPorch</th>\n",
       "      <th>ScreenPorch</th>\n",
       "      <th>PoolArea</th>\n",
       "      <th>MiscVal</th>\n",
       "      <th>MoSold</th>\n",
       "      <th>YrSold</th>\n",
       "      <th>SalePrice</th>\n",
       "    </tr>\n",
       "  </thead>\n",
       "  <tbody>\n",
       "    <tr>\n",
       "      <th>count</th>\n",
       "      <td>1259.000000</td>\n",
       "      <td>1041.000000</td>\n",
       "      <td>1259.000000</td>\n",
       "      <td>1259.000000</td>\n",
       "      <td>1259.000000</td>\n",
       "      <td>1259.000000</td>\n",
       "      <td>1259.000000</td>\n",
       "      <td>1252.000000</td>\n",
       "      <td>1259.000000</td>\n",
       "      <td>1259.000000</td>\n",
       "      <td>...</td>\n",
       "      <td>1259.000000</td>\n",
       "      <td>1259.000000</td>\n",
       "      <td>1259.000000</td>\n",
       "      <td>1259.000000</td>\n",
       "      <td>1259.000000</td>\n",
       "      <td>1259.000000</td>\n",
       "      <td>1259.000000</td>\n",
       "      <td>1259.000000</td>\n",
       "      <td>1259.000000</td>\n",
       "      <td>1259.000000</td>\n",
       "    </tr>\n",
       "    <tr>\n",
       "      <th>mean</th>\n",
       "      <td>56.914218</td>\n",
       "      <td>70.110471</td>\n",
       "      <td>10524.300238</td>\n",
       "      <td>6.103257</td>\n",
       "      <td>5.570294</td>\n",
       "      <td>1971.478157</td>\n",
       "      <td>1984.816521</td>\n",
       "      <td>103.133387</td>\n",
       "      <td>443.334392</td>\n",
       "      <td>45.725973</td>\n",
       "      <td>...</td>\n",
       "      <td>94.604448</td>\n",
       "      <td>46.150913</td>\n",
       "      <td>21.625099</td>\n",
       "      <td>3.482129</td>\n",
       "      <td>14.668785</td>\n",
       "      <td>1.819698</td>\n",
       "      <td>45.944400</td>\n",
       "      <td>6.315330</td>\n",
       "      <td>2007.799841</td>\n",
       "      <td>181144.812550</td>\n",
       "    </tr>\n",
       "    <tr>\n",
       "      <th>std</th>\n",
       "      <td>42.353617</td>\n",
       "      <td>23.522213</td>\n",
       "      <td>10391.598333</td>\n",
       "      <td>1.381394</td>\n",
       "      <td>1.119465</td>\n",
       "      <td>29.933659</td>\n",
       "      <td>20.617506</td>\n",
       "      <td>182.185126</td>\n",
       "      <td>439.025793</td>\n",
       "      <td>159.593598</td>\n",
       "      <td>...</td>\n",
       "      <td>123.939261</td>\n",
       "      <td>65.449317</td>\n",
       "      <td>60.920712</td>\n",
       "      <td>29.289552</td>\n",
       "      <td>54.093490</td>\n",
       "      <td>32.364185</td>\n",
       "      <td>525.688744</td>\n",
       "      <td>2.684202</td>\n",
       "      <td>1.324095</td>\n",
       "      <td>80588.024473</td>\n",
       "    </tr>\n",
       "    <tr>\n",
       "      <th>min</th>\n",
       "      <td>20.000000</td>\n",
       "      <td>21.000000</td>\n",
       "      <td>1300.000000</td>\n",
       "      <td>1.000000</td>\n",
       "      <td>1.000000</td>\n",
       "      <td>1875.000000</td>\n",
       "      <td>1950.000000</td>\n",
       "      <td>0.000000</td>\n",
       "      <td>0.000000</td>\n",
       "      <td>0.000000</td>\n",
       "      <td>...</td>\n",
       "      <td>0.000000</td>\n",
       "      <td>0.000000</td>\n",
       "      <td>0.000000</td>\n",
       "      <td>0.000000</td>\n",
       "      <td>0.000000</td>\n",
       "      <td>0.000000</td>\n",
       "      <td>0.000000</td>\n",
       "      <td>1.000000</td>\n",
       "      <td>2006.000000</td>\n",
       "      <td>34900.000000</td>\n",
       "    </tr>\n",
       "    <tr>\n",
       "      <th>25%</th>\n",
       "      <td>20.000000</td>\n",
       "      <td>59.000000</td>\n",
       "      <td>7590.000000</td>\n",
       "      <td>5.000000</td>\n",
       "      <td>5.000000</td>\n",
       "      <td>1954.000000</td>\n",
       "      <td>1966.500000</td>\n",
       "      <td>0.000000</td>\n",
       "      <td>0.000000</td>\n",
       "      <td>0.000000</td>\n",
       "      <td>...</td>\n",
       "      <td>0.000000</td>\n",
       "      <td>0.000000</td>\n",
       "      <td>0.000000</td>\n",
       "      <td>0.000000</td>\n",
       "      <td>0.000000</td>\n",
       "      <td>0.000000</td>\n",
       "      <td>0.000000</td>\n",
       "      <td>5.000000</td>\n",
       "      <td>2007.000000</td>\n",
       "      <td>129900.000000</td>\n",
       "    </tr>\n",
       "    <tr>\n",
       "      <th>50%</th>\n",
       "      <td>50.000000</td>\n",
       "      <td>70.000000</td>\n",
       "      <td>9452.000000</td>\n",
       "      <td>6.000000</td>\n",
       "      <td>5.000000</td>\n",
       "      <td>1973.000000</td>\n",
       "      <td>1993.000000</td>\n",
       "      <td>0.000000</td>\n",
       "      <td>385.000000</td>\n",
       "      <td>0.000000</td>\n",
       "      <td>...</td>\n",
       "      <td>0.000000</td>\n",
       "      <td>24.000000</td>\n",
       "      <td>0.000000</td>\n",
       "      <td>0.000000</td>\n",
       "      <td>0.000000</td>\n",
       "      <td>0.000000</td>\n",
       "      <td>0.000000</td>\n",
       "      <td>6.000000</td>\n",
       "      <td>2008.000000</td>\n",
       "      <td>163500.000000</td>\n",
       "    </tr>\n",
       "    <tr>\n",
       "      <th>75%</th>\n",
       "      <td>70.000000</td>\n",
       "      <td>80.000000</td>\n",
       "      <td>11611.000000</td>\n",
       "      <td>7.000000</td>\n",
       "      <td>6.000000</td>\n",
       "      <td>2000.000000</td>\n",
       "      <td>2004.000000</td>\n",
       "      <td>166.000000</td>\n",
       "      <td>712.000000</td>\n",
       "      <td>0.000000</td>\n",
       "      <td>...</td>\n",
       "      <td>168.000000</td>\n",
       "      <td>68.000000</td>\n",
       "      <td>0.000000</td>\n",
       "      <td>0.000000</td>\n",
       "      <td>0.000000</td>\n",
       "      <td>0.000000</td>\n",
       "      <td>0.000000</td>\n",
       "      <td>8.000000</td>\n",
       "      <td>2009.000000</td>\n",
       "      <td>213750.000000</td>\n",
       "    </tr>\n",
       "    <tr>\n",
       "      <th>max</th>\n",
       "      <td>190.000000</td>\n",
       "      <td>313.000000</td>\n",
       "      <td>215245.000000</td>\n",
       "      <td>10.000000</td>\n",
       "      <td>9.000000</td>\n",
       "      <td>2010.000000</td>\n",
       "      <td>2010.000000</td>\n",
       "      <td>1600.000000</td>\n",
       "      <td>2260.000000</td>\n",
       "      <td>1474.000000</td>\n",
       "      <td>...</td>\n",
       "      <td>857.000000</td>\n",
       "      <td>523.000000</td>\n",
       "      <td>552.000000</td>\n",
       "      <td>508.000000</td>\n",
       "      <td>410.000000</td>\n",
       "      <td>648.000000</td>\n",
       "      <td>15500.000000</td>\n",
       "      <td>12.000000</td>\n",
       "      <td>2010.000000</td>\n",
       "      <td>755000.000000</td>\n",
       "    </tr>\n",
       "  </tbody>\n",
       "</table>\n",
       "<p>8 rows × 37 columns</p>\n",
       "</div>"
      ],
      "text/plain": [
       "        MSSubClass  LotFrontage        LotArea  OverallQual  OverallCond  \\\n",
       "count  1259.000000  1041.000000    1259.000000  1259.000000  1259.000000   \n",
       "mean     56.914218    70.110471   10524.300238     6.103257     5.570294   \n",
       "std      42.353617    23.522213   10391.598333     1.381394     1.119465   \n",
       "min      20.000000    21.000000    1300.000000     1.000000     1.000000   \n",
       "25%      20.000000    59.000000    7590.000000     5.000000     5.000000   \n",
       "50%      50.000000    70.000000    9452.000000     6.000000     5.000000   \n",
       "75%      70.000000    80.000000   11611.000000     7.000000     6.000000   \n",
       "max     190.000000   313.000000  215245.000000    10.000000     9.000000   \n",
       "\n",
       "         YearBuilt  YearRemodAdd   MasVnrArea   BsmtFinSF1   BsmtFinSF2  ...  \\\n",
       "count  1259.000000   1259.000000  1252.000000  1259.000000  1259.000000  ...   \n",
       "mean   1971.478157   1984.816521   103.133387   443.334392    45.725973  ...   \n",
       "std      29.933659     20.617506   182.185126   439.025793   159.593598  ...   \n",
       "min    1875.000000   1950.000000     0.000000     0.000000     0.000000  ...   \n",
       "25%    1954.000000   1966.500000     0.000000     0.000000     0.000000  ...   \n",
       "50%    1973.000000   1993.000000     0.000000   385.000000     0.000000  ...   \n",
       "75%    2000.000000   2004.000000   166.000000   712.000000     0.000000  ...   \n",
       "max    2010.000000   2010.000000  1600.000000  2260.000000  1474.000000  ...   \n",
       "\n",
       "        WoodDeckSF  OpenPorchSF  EnclosedPorch    3SsnPorch  ScreenPorch  \\\n",
       "count  1259.000000  1259.000000    1259.000000  1259.000000  1259.000000   \n",
       "mean     94.604448    46.150913      21.625099     3.482129    14.668785   \n",
       "std     123.939261    65.449317      60.920712    29.289552    54.093490   \n",
       "min       0.000000     0.000000       0.000000     0.000000     0.000000   \n",
       "25%       0.000000     0.000000       0.000000     0.000000     0.000000   \n",
       "50%       0.000000    24.000000       0.000000     0.000000     0.000000   \n",
       "75%     168.000000    68.000000       0.000000     0.000000     0.000000   \n",
       "max     857.000000   523.000000     552.000000   508.000000   410.000000   \n",
       "\n",
       "          PoolArea       MiscVal       MoSold       YrSold      SalePrice  \n",
       "count  1259.000000   1259.000000  1259.000000  1259.000000    1259.000000  \n",
       "mean      1.819698     45.944400     6.315330  2007.799841  181144.812550  \n",
       "std      32.364185    525.688744     2.684202     1.324095   80588.024473  \n",
       "min       0.000000      0.000000     1.000000  2006.000000   34900.000000  \n",
       "25%       0.000000      0.000000     5.000000  2007.000000  129900.000000  \n",
       "50%       0.000000      0.000000     6.000000  2008.000000  163500.000000  \n",
       "75%       0.000000      0.000000     8.000000  2009.000000  213750.000000  \n",
       "max     648.000000  15500.000000    12.000000  2010.000000  755000.000000  \n",
       "\n",
       "[8 rows x 37 columns]"
      ]
     },
     "execution_count": 14,
     "metadata": {},
     "output_type": "execute_result"
    }
   ],
   "source": [
    "train_df.describe()"
   ]
  },
  {
   "cell_type": "code",
   "execution_count": 15,
   "metadata": {},
   "outputs": [
    {
     "data": {
      "text/html": [
       "<div>\n",
       "<style scoped>\n",
       "    .dataframe tbody tr th:only-of-type {\n",
       "        vertical-align: middle;\n",
       "    }\n",
       "\n",
       "    .dataframe tbody tr th {\n",
       "        vertical-align: top;\n",
       "    }\n",
       "\n",
       "    .dataframe thead th {\n",
       "        text-align: right;\n",
       "    }\n",
       "</style>\n",
       "<table border=\"1\" class=\"dataframe\">\n",
       "  <thead>\n",
       "    <tr style=\"text-align: right;\">\n",
       "      <th></th>\n",
       "      <th>MSSubClass</th>\n",
       "      <th>LotFrontage</th>\n",
       "      <th>LotArea</th>\n",
       "      <th>OverallQual</th>\n",
       "      <th>OverallCond</th>\n",
       "      <th>YearBuilt</th>\n",
       "      <th>YearRemodAdd</th>\n",
       "      <th>MasVnrArea</th>\n",
       "      <th>BsmtFinSF1</th>\n",
       "      <th>BsmtFinSF2</th>\n",
       "      <th>...</th>\n",
       "      <th>WoodDeckSF</th>\n",
       "      <th>OpenPorchSF</th>\n",
       "      <th>EnclosedPorch</th>\n",
       "      <th>3SsnPorch</th>\n",
       "      <th>ScreenPorch</th>\n",
       "      <th>PoolArea</th>\n",
       "      <th>MiscVal</th>\n",
       "      <th>MoSold</th>\n",
       "      <th>YrSold</th>\n",
       "      <th>SalePrice</th>\n",
       "    </tr>\n",
       "  </thead>\n",
       "  <tbody>\n",
       "    <tr>\n",
       "      <th>MSSubClass</th>\n",
       "      <td>1.000000</td>\n",
       "      <td>-0.397117</td>\n",
       "      <td>-0.124523</td>\n",
       "      <td>0.038126</td>\n",
       "      <td>-0.058921</td>\n",
       "      <td>0.030828</td>\n",
       "      <td>0.044212</td>\n",
       "      <td>0.026365</td>\n",
       "      <td>-0.068183</td>\n",
       "      <td>-0.048566</td>\n",
       "      <td>...</td>\n",
       "      <td>0.004691</td>\n",
       "      <td>-0.003911</td>\n",
       "      <td>-0.023596</td>\n",
       "      <td>-0.036815</td>\n",
       "      <td>-0.032764</td>\n",
       "      <td>0.000203</td>\n",
       "      <td>-0.009542</td>\n",
       "      <td>0.001958</td>\n",
       "      <td>-0.010881</td>\n",
       "      <td>-0.076628</td>\n",
       "    </tr>\n",
       "    <tr>\n",
       "      <th>LotFrontage</th>\n",
       "      <td>-0.397117</td>\n",
       "      <td>1.000000</td>\n",
       "      <td>0.390300</td>\n",
       "      <td>0.245102</td>\n",
       "      <td>-0.058688</td>\n",
       "      <td>0.112571</td>\n",
       "      <td>0.082321</td>\n",
       "      <td>0.170871</td>\n",
       "      <td>0.158104</td>\n",
       "      <td>0.062602</td>\n",
       "      <td>...</td>\n",
       "      <td>0.076873</td>\n",
       "      <td>0.142270</td>\n",
       "      <td>0.028764</td>\n",
       "      <td>0.070290</td>\n",
       "      <td>0.052953</td>\n",
       "      <td>0.128189</td>\n",
       "      <td>0.004415</td>\n",
       "      <td>0.019926</td>\n",
       "      <td>0.006987</td>\n",
       "      <td>0.378138</td>\n",
       "    </tr>\n",
       "    <tr>\n",
       "      <th>LotArea</th>\n",
       "      <td>-0.124523</td>\n",
       "      <td>0.390300</td>\n",
       "      <td>1.000000</td>\n",
       "      <td>0.097107</td>\n",
       "      <td>-0.004448</td>\n",
       "      <td>0.006597</td>\n",
       "      <td>0.011644</td>\n",
       "      <td>0.089085</td>\n",
       "      <td>0.190906</td>\n",
       "      <td>0.120436</td>\n",
       "      <td>...</td>\n",
       "      <td>0.173781</td>\n",
       "      <td>0.070516</td>\n",
       "      <td>-0.016449</td>\n",
       "      <td>0.013383</td>\n",
       "      <td>0.051514</td>\n",
       "      <td>0.023248</td>\n",
       "      <td>0.038711</td>\n",
       "      <td>0.006419</td>\n",
       "      <td>-0.020139</td>\n",
       "      <td>0.267146</td>\n",
       "    </tr>\n",
       "    <tr>\n",
       "      <th>OverallQual</th>\n",
       "      <td>0.038126</td>\n",
       "      <td>0.245102</td>\n",
       "      <td>0.097107</td>\n",
       "      <td>1.000000</td>\n",
       "      <td>-0.083344</td>\n",
       "      <td>0.569794</td>\n",
       "      <td>0.556333</td>\n",
       "      <td>0.410741</td>\n",
       "      <td>0.223098</td>\n",
       "      <td>-0.053877</td>\n",
       "      <td>...</td>\n",
       "      <td>0.233774</td>\n",
       "      <td>0.304890</td>\n",
       "      <td>-0.094715</td>\n",
       "      <td>0.018474</td>\n",
       "      <td>0.075551</td>\n",
       "      <td>0.053473</td>\n",
       "      <td>-0.038977</td>\n",
       "      <td>0.078894</td>\n",
       "      <td>-0.021286</td>\n",
       "      <td>0.790786</td>\n",
       "    </tr>\n",
       "    <tr>\n",
       "      <th>OverallCond</th>\n",
       "      <td>-0.058921</td>\n",
       "      <td>-0.058688</td>\n",
       "      <td>-0.004448</td>\n",
       "      <td>-0.083344</td>\n",
       "      <td>1.000000</td>\n",
       "      <td>-0.381242</td>\n",
       "      <td>0.081891</td>\n",
       "      <td>-0.126939</td>\n",
       "      <td>-0.042889</td>\n",
       "      <td>0.046174</td>\n",
       "      <td>...</td>\n",
       "      <td>-0.004177</td>\n",
       "      <td>-0.023493</td>\n",
       "      <td>0.072373</td>\n",
       "      <td>0.024191</td>\n",
       "      <td>0.045916</td>\n",
       "      <td>-0.013045</td>\n",
       "      <td>0.063002</td>\n",
       "      <td>-0.010689</td>\n",
       "      <td>0.030414</td>\n",
       "      <td>-0.083382</td>\n",
       "    </tr>\n",
       "    <tr>\n",
       "      <th>YearBuilt</th>\n",
       "      <td>0.030828</td>\n",
       "      <td>0.112571</td>\n",
       "      <td>0.006597</td>\n",
       "      <td>0.569794</td>\n",
       "      <td>-0.381242</td>\n",
       "      <td>1.000000</td>\n",
       "      <td>0.594038</td>\n",
       "      <td>0.316002</td>\n",
       "      <td>0.235523</td>\n",
       "      <td>-0.042714</td>\n",
       "      <td>...</td>\n",
       "      <td>0.233036</td>\n",
       "      <td>0.187761</td>\n",
       "      <td>-0.378061</td>\n",
       "      <td>0.026625</td>\n",
       "      <td>-0.034936</td>\n",
       "      <td>-0.007349</td>\n",
       "      <td>-0.032466</td>\n",
       "      <td>0.019304</td>\n",
       "      <td>0.014410</td>\n",
       "      <td>0.524407</td>\n",
       "    </tr>\n",
       "    <tr>\n",
       "      <th>YearRemodAdd</th>\n",
       "      <td>0.044212</td>\n",
       "      <td>0.082321</td>\n",
       "      <td>0.011644</td>\n",
       "      <td>0.556333</td>\n",
       "      <td>0.081891</td>\n",
       "      <td>0.594038</td>\n",
       "      <td>1.000000</td>\n",
       "      <td>0.184918</td>\n",
       "      <td>0.121526</td>\n",
       "      <td>-0.061302</td>\n",
       "      <td>...</td>\n",
       "      <td>0.215284</td>\n",
       "      <td>0.243421</td>\n",
       "      <td>-0.196151</td>\n",
       "      <td>0.036746</td>\n",
       "      <td>-0.023735</td>\n",
       "      <td>0.016141</td>\n",
       "      <td>-0.010992</td>\n",
       "      <td>0.031268</td>\n",
       "      <td>0.053221</td>\n",
       "      <td>0.512674</td>\n",
       "    </tr>\n",
       "    <tr>\n",
       "      <th>MasVnrArea</th>\n",
       "      <td>0.026365</td>\n",
       "      <td>0.170871</td>\n",
       "      <td>0.089085</td>\n",
       "      <td>0.410741</td>\n",
       "      <td>-0.126939</td>\n",
       "      <td>0.316002</td>\n",
       "      <td>0.184918</td>\n",
       "      <td>1.000000</td>\n",
       "      <td>0.253137</td>\n",
       "      <td>-0.063762</td>\n",
       "      <td>...</td>\n",
       "      <td>0.165032</td>\n",
       "      <td>0.116177</td>\n",
       "      <td>-0.103496</td>\n",
       "      <td>0.011902</td>\n",
       "      <td>0.086028</td>\n",
       "      <td>-0.023270</td>\n",
       "      <td>-0.030357</td>\n",
       "      <td>-0.003837</td>\n",
       "      <td>0.001436</td>\n",
       "      <td>0.483754</td>\n",
       "    </tr>\n",
       "    <tr>\n",
       "      <th>BsmtFinSF1</th>\n",
       "      <td>-0.068183</td>\n",
       "      <td>0.158104</td>\n",
       "      <td>0.190906</td>\n",
       "      <td>0.223098</td>\n",
       "      <td>-0.042889</td>\n",
       "      <td>0.235523</td>\n",
       "      <td>0.121526</td>\n",
       "      <td>0.253137</td>\n",
       "      <td>1.000000</td>\n",
       "      <td>-0.046444</td>\n",
       "      <td>...</td>\n",
       "      <td>0.208447</td>\n",
       "      <td>0.082063</td>\n",
       "      <td>-0.097119</td>\n",
       "      <td>0.017842</td>\n",
       "      <td>0.072006</td>\n",
       "      <td>0.078790</td>\n",
       "      <td>0.002993</td>\n",
       "      <td>-0.011076</td>\n",
       "      <td>0.007577</td>\n",
       "      <td>0.409673</td>\n",
       "    </tr>\n",
       "    <tr>\n",
       "      <th>BsmtFinSF2</th>\n",
       "      <td>-0.048566</td>\n",
       "      <td>0.062602</td>\n",
       "      <td>0.120436</td>\n",
       "      <td>-0.053877</td>\n",
       "      <td>0.046174</td>\n",
       "      <td>-0.042714</td>\n",
       "      <td>-0.061302</td>\n",
       "      <td>-0.063762</td>\n",
       "      <td>-0.046444</td>\n",
       "      <td>1.000000</td>\n",
       "      <td>...</td>\n",
       "      <td>0.065673</td>\n",
       "      <td>0.005176</td>\n",
       "      <td>0.031000</td>\n",
       "      <td>-0.033233</td>\n",
       "      <td>0.084689</td>\n",
       "      <td>0.035974</td>\n",
       "      <td>-0.000479</td>\n",
       "      <td>-0.013717</td>\n",
       "      <td>0.015374</td>\n",
       "      <td>0.000474</td>\n",
       "    </tr>\n",
       "    <tr>\n",
       "      <th>BsmtUnfSF</th>\n",
       "      <td>-0.141998</td>\n",
       "      <td>0.144712</td>\n",
       "      <td>-0.009771</td>\n",
       "      <td>0.312696</td>\n",
       "      <td>-0.139201</td>\n",
       "      <td>0.157881</td>\n",
       "      <td>0.183812</td>\n",
       "      <td>0.101299</td>\n",
       "      <td>-0.514475</td>\n",
       "      <td>-0.199820</td>\n",
       "      <td>...</td>\n",
       "      <td>-0.003151</td>\n",
       "      <td>0.125372</td>\n",
       "      <td>0.003457</td>\n",
       "      <td>0.012872</td>\n",
       "      <td>-0.006313</td>\n",
       "      <td>-0.040431</td>\n",
       "      <td>-0.027163</td>\n",
       "      <td>0.043573</td>\n",
       "      <td>-0.039794</td>\n",
       "      <td>0.207560</td>\n",
       "    </tr>\n",
       "    <tr>\n",
       "      <th>TotalBsmtSF</th>\n",
       "      <td>-0.237170</td>\n",
       "      <td>0.335394</td>\n",
       "      <td>0.233493</td>\n",
       "      <td>0.537320</td>\n",
       "      <td>-0.172232</td>\n",
       "      <td>0.393029</td>\n",
       "      <td>0.294682</td>\n",
       "      <td>0.344520</td>\n",
       "      <td>0.484407</td>\n",
       "      <td>0.120895</td>\n",
       "      <td>...</td>\n",
       "      <td>0.237937</td>\n",
       "      <td>0.217870</td>\n",
       "      <td>-0.085535</td>\n",
       "      <td>0.019401</td>\n",
       "      <td>0.100148</td>\n",
       "      <td>0.053234</td>\n",
       "      <td>-0.025393</td>\n",
       "      <td>0.028750</td>\n",
       "      <td>-0.027818</td>\n",
       "      <td>0.641946</td>\n",
       "    </tr>\n",
       "    <tr>\n",
       "      <th>1stFlrSF</th>\n",
       "      <td>-0.255475</td>\n",
       "      <td>0.429573</td>\n",
       "      <td>0.271434</td>\n",
       "      <td>0.464553</td>\n",
       "      <td>-0.165285</td>\n",
       "      <td>0.288842</td>\n",
       "      <td>0.235863</td>\n",
       "      <td>0.330541</td>\n",
       "      <td>0.420630</td>\n",
       "      <td>0.106610</td>\n",
       "      <td>...</td>\n",
       "      <td>0.229405</td>\n",
       "      <td>0.183766</td>\n",
       "      <td>-0.056604</td>\n",
       "      <td>0.030602</td>\n",
       "      <td>0.103743</td>\n",
       "      <td>0.057011</td>\n",
       "      <td>-0.026838</td>\n",
       "      <td>0.041105</td>\n",
       "      <td>-0.029189</td>\n",
       "      <td>0.617868</td>\n",
       "    </tr>\n",
       "    <tr>\n",
       "      <th>2ndFlrSF</th>\n",
       "      <td>0.306504</td>\n",
       "      <td>0.079917</td>\n",
       "      <td>0.050284</td>\n",
       "      <td>0.309279</td>\n",
       "      <td>0.033167</td>\n",
       "      <td>0.033306</td>\n",
       "      <td>0.161456</td>\n",
       "      <td>0.176142</td>\n",
       "      <td>-0.141313</td>\n",
       "      <td>-0.097414</td>\n",
       "      <td>...</td>\n",
       "      <td>0.094466</td>\n",
       "      <td>0.218237</td>\n",
       "      <td>0.062470</td>\n",
       "      <td>-0.014374</td>\n",
       "      <td>0.020668</td>\n",
       "      <td>0.059603</td>\n",
       "      <td>0.000913</td>\n",
       "      <td>0.048434</td>\n",
       "      <td>-0.034536</td>\n",
       "      <td>0.335212</td>\n",
       "    </tr>\n",
       "    <tr>\n",
       "      <th>LowQualFinSF</th>\n",
       "      <td>0.045522</td>\n",
       "      <td>0.046662</td>\n",
       "      <td>0.006925</td>\n",
       "      <td>-0.038920</td>\n",
       "      <td>0.023304</td>\n",
       "      <td>-0.187373</td>\n",
       "      <td>-0.073219</td>\n",
       "      <td>-0.069774</td>\n",
       "      <td>-0.065537</td>\n",
       "      <td>0.020279</td>\n",
       "      <td>...</td>\n",
       "      <td>-0.041806</td>\n",
       "      <td>0.023081</td>\n",
       "      <td>0.071324</td>\n",
       "      <td>-0.003854</td>\n",
       "      <td>0.034430</td>\n",
       "      <td>0.090012</td>\n",
       "      <td>-0.003678</td>\n",
       "      <td>-0.036145</td>\n",
       "      <td>-0.030252</td>\n",
       "      <td>-0.026166</td>\n",
       "    </tr>\n",
       "    <tr>\n",
       "      <th>GrLivArea</th>\n",
       "      <td>0.077398</td>\n",
       "      <td>0.383150</td>\n",
       "      <td>0.241856</td>\n",
       "      <td>0.598090</td>\n",
       "      <td>-0.090488</td>\n",
       "      <td>0.220969</td>\n",
       "      <td>0.302125</td>\n",
       "      <td>0.382704</td>\n",
       "      <td>0.181435</td>\n",
       "      <td>-0.002569</td>\n",
       "      <td>...</td>\n",
       "      <td>0.243734</td>\n",
       "      <td>0.321671</td>\n",
       "      <td>0.018599</td>\n",
       "      <td>0.009821</td>\n",
       "      <td>0.096812</td>\n",
       "      <td>0.101127</td>\n",
       "      <td>-0.019222</td>\n",
       "      <td>0.067540</td>\n",
       "      <td>-0.053616</td>\n",
       "      <td>0.733480</td>\n",
       "    </tr>\n",
       "    <tr>\n",
       "      <th>BsmtFullBath</th>\n",
       "      <td>0.023702</td>\n",
       "      <td>0.077108</td>\n",
       "      <td>0.155761</td>\n",
       "      <td>0.094544</td>\n",
       "      <td>-0.044130</td>\n",
       "      <td>0.165702</td>\n",
       "      <td>0.102382</td>\n",
       "      <td>0.077655</td>\n",
       "      <td>0.662639</td>\n",
       "      <td>0.148759</td>\n",
       "      <td>...</td>\n",
       "      <td>0.180573</td>\n",
       "      <td>0.064071</td>\n",
       "      <td>-0.046492</td>\n",
       "      <td>-0.001805</td>\n",
       "      <td>0.034925</td>\n",
       "      <td>0.062776</td>\n",
       "      <td>-0.023309</td>\n",
       "      <td>-0.018330</td>\n",
       "      <td>0.056775</td>\n",
       "      <td>0.223671</td>\n",
       "    </tr>\n",
       "    <tr>\n",
       "      <th>BsmtHalfBath</th>\n",
       "      <td>-0.006169</td>\n",
       "      <td>-0.003161</td>\n",
       "      <td>0.049930</td>\n",
       "      <td>-0.044297</td>\n",
       "      <td>0.129516</td>\n",
       "      <td>-0.050255</td>\n",
       "      <td>-0.009142</td>\n",
       "      <td>0.016012</td>\n",
       "      <td>0.061495</td>\n",
       "      <td>0.089955</td>\n",
       "      <td>...</td>\n",
       "      <td>0.045765</td>\n",
       "      <td>-0.028547</td>\n",
       "      <td>0.000986</td>\n",
       "      <td>0.042162</td>\n",
       "      <td>0.037163</td>\n",
       "      <td>0.037489</td>\n",
       "      <td>-0.006866</td>\n",
       "      <td>0.039957</td>\n",
       "      <td>-0.055876</td>\n",
       "      <td>-0.018857</td>\n",
       "    </tr>\n",
       "    <tr>\n",
       "      <th>FullBath</th>\n",
       "      <td>0.133017</td>\n",
       "      <td>0.213000</td>\n",
       "      <td>0.129285</td>\n",
       "      <td>0.555215</td>\n",
       "      <td>-0.198464</td>\n",
       "      <td>0.485409</td>\n",
       "      <td>0.440783</td>\n",
       "      <td>0.275623</td>\n",
       "      <td>0.056184</td>\n",
       "      <td>-0.067675</td>\n",
       "      <td>...</td>\n",
       "      <td>0.193089</td>\n",
       "      <td>0.246975</td>\n",
       "      <td>-0.112488</td>\n",
       "      <td>0.029489</td>\n",
       "      <td>-0.021716</td>\n",
       "      <td>0.015150</td>\n",
       "      <td>-0.026851</td>\n",
       "      <td>0.051439</td>\n",
       "      <td>-0.002268</td>\n",
       "      <td>0.566303</td>\n",
       "    </tr>\n",
       "    <tr>\n",
       "      <th>HalfBath</th>\n",
       "      <td>0.181627</td>\n",
       "      <td>0.041029</td>\n",
       "      <td>0.007830</td>\n",
       "      <td>0.285470</td>\n",
       "      <td>-0.060019</td>\n",
       "      <td>0.257610</td>\n",
       "      <td>0.200966</td>\n",
       "      <td>0.199677</td>\n",
       "      <td>0.005119</td>\n",
       "      <td>-0.042121</td>\n",
       "      <td>...</td>\n",
       "      <td>0.110511</td>\n",
       "      <td>0.231524</td>\n",
       "      <td>-0.102015</td>\n",
       "      <td>0.006728</td>\n",
       "      <td>0.084320</td>\n",
       "      <td>0.016080</td>\n",
       "      <td>0.002056</td>\n",
       "      <td>0.007884</td>\n",
       "      <td>-0.016459</td>\n",
       "      <td>0.298473</td>\n",
       "    </tr>\n",
       "    <tr>\n",
       "      <th>BedroomAbvGr</th>\n",
       "      <td>-0.021278</td>\n",
       "      <td>0.289597</td>\n",
       "      <td>0.112878</td>\n",
       "      <td>0.113908</td>\n",
       "      <td>0.003178</td>\n",
       "      <td>-0.050910</td>\n",
       "      <td>-0.028907</td>\n",
       "      <td>0.104774</td>\n",
       "      <td>-0.098893</td>\n",
       "      <td>-0.025806</td>\n",
       "      <td>...</td>\n",
       "      <td>0.048351</td>\n",
       "      <td>0.082341</td>\n",
       "      <td>0.045772</td>\n",
       "      <td>-0.019557</td>\n",
       "      <td>0.012626</td>\n",
       "      <td>0.041960</td>\n",
       "      <td>-0.008195</td>\n",
       "      <td>0.039819</td>\n",
       "      <td>-0.033851</td>\n",
       "      <td>0.170714</td>\n",
       "    </tr>\n",
       "    <tr>\n",
       "      <th>KitchenAbvGr</th>\n",
       "      <td>0.272842</td>\n",
       "      <td>-0.011720</td>\n",
       "      <td>-0.016560</td>\n",
       "      <td>-0.188754</td>\n",
       "      <td>-0.082645</td>\n",
       "      <td>-0.165798</td>\n",
       "      <td>-0.136440</td>\n",
       "      <td>-0.050228</td>\n",
       "      <td>-0.063617</td>\n",
       "      <td>-0.035328</td>\n",
       "      <td>...</td>\n",
       "      <td>-0.081226</td>\n",
       "      <td>-0.092585</td>\n",
       "      <td>0.024016</td>\n",
       "      <td>-0.024580</td>\n",
       "      <td>-0.049427</td>\n",
       "      <td>-0.011625</td>\n",
       "      <td>0.070939</td>\n",
       "      <td>0.031116</td>\n",
       "      <td>0.014817</td>\n",
       "      <td>-0.133655</td>\n",
       "    </tr>\n",
       "    <tr>\n",
       "      <th>TotRmsAbvGrd</th>\n",
       "      <td>0.042974</td>\n",
       "      <td>0.354284</td>\n",
       "      <td>0.177305</td>\n",
       "      <td>0.436375</td>\n",
       "      <td>-0.066667</td>\n",
       "      <td>0.122161</td>\n",
       "      <td>0.207268</td>\n",
       "      <td>0.280989</td>\n",
       "      <td>0.050293</td>\n",
       "      <td>-0.043176</td>\n",
       "      <td>...</td>\n",
       "      <td>0.169425</td>\n",
       "      <td>0.236732</td>\n",
       "      <td>0.002584</td>\n",
       "      <td>-0.020623</td>\n",
       "      <td>0.047315</td>\n",
       "      <td>0.022365</td>\n",
       "      <td>0.010971</td>\n",
       "      <td>0.040133</td>\n",
       "      <td>-0.047246</td>\n",
       "      <td>0.552707</td>\n",
       "    </tr>\n",
       "    <tr>\n",
       "      <th>Fireplaces</th>\n",
       "      <td>-0.033466</td>\n",
       "      <td>0.252134</td>\n",
       "      <td>0.263860</td>\n",
       "      <td>0.384657</td>\n",
       "      <td>-0.036815</td>\n",
       "      <td>0.146816</td>\n",
       "      <td>0.107915</td>\n",
       "      <td>0.247317</td>\n",
       "      <td>0.249514</td>\n",
       "      <td>0.058902</td>\n",
       "      <td>...</td>\n",
       "      <td>0.203903</td>\n",
       "      <td>0.160356</td>\n",
       "      <td>-0.008563</td>\n",
       "      <td>0.004405</td>\n",
       "      <td>0.173797</td>\n",
       "      <td>0.055642</td>\n",
       "      <td>-0.016181</td>\n",
       "      <td>0.055267</td>\n",
       "      <td>-0.044786</td>\n",
       "      <td>0.460081</td>\n",
       "    </tr>\n",
       "    <tr>\n",
       "      <th>GarageYrBlt</th>\n",
       "      <td>0.075443</td>\n",
       "      <td>0.062952</td>\n",
       "      <td>-0.032483</td>\n",
       "      <td>0.547631</td>\n",
       "      <td>-0.314817</td>\n",
       "      <td>0.841953</td>\n",
       "      <td>0.653402</td>\n",
       "      <td>0.256497</td>\n",
       "      <td>0.144944</td>\n",
       "      <td>-0.074037</td>\n",
       "      <td>...</td>\n",
       "      <td>0.227734</td>\n",
       "      <td>0.249373</td>\n",
       "      <td>-0.324863</td>\n",
       "      <td>0.020997</td>\n",
       "      <td>-0.048166</td>\n",
       "      <td>-0.025456</td>\n",
       "      <td>-0.024824</td>\n",
       "      <td>0.012245</td>\n",
       "      <td>0.031746</td>\n",
       "      <td>0.490973</td>\n",
       "    </tr>\n",
       "    <tr>\n",
       "      <th>GarageCars</th>\n",
       "      <td>-0.043084</td>\n",
       "      <td>0.316819</td>\n",
       "      <td>0.153345</td>\n",
       "      <td>0.611510</td>\n",
       "      <td>-0.188862</td>\n",
       "      <td>0.546753</td>\n",
       "      <td>0.429668</td>\n",
       "      <td>0.362282</td>\n",
       "      <td>0.248202</td>\n",
       "      <td>-0.020757</td>\n",
       "      <td>...</td>\n",
       "      <td>0.237094</td>\n",
       "      <td>0.213721</td>\n",
       "      <td>-0.148583</td>\n",
       "      <td>0.026703</td>\n",
       "      <td>0.061264</td>\n",
       "      <td>0.017459</td>\n",
       "      <td>-0.044159</td>\n",
       "      <td>0.055451</td>\n",
       "      <td>-0.036693</td>\n",
       "      <td>0.642079</td>\n",
       "    </tr>\n",
       "    <tr>\n",
       "      <th>GarageArea</th>\n",
       "      <td>-0.104279</td>\n",
       "      <td>0.339431</td>\n",
       "      <td>0.163802</td>\n",
       "      <td>0.558520</td>\n",
       "      <td>-0.154747</td>\n",
       "      <td>0.490776</td>\n",
       "      <td>0.372573</td>\n",
       "      <td>0.359539</td>\n",
       "      <td>0.295341</td>\n",
       "      <td>-0.000974</td>\n",
       "      <td>...</td>\n",
       "      <td>0.222872</td>\n",
       "      <td>0.228170</td>\n",
       "      <td>-0.125995</td>\n",
       "      <td>0.028728</td>\n",
       "      <td>0.065907</td>\n",
       "      <td>0.034384</td>\n",
       "      <td>-0.027386</td>\n",
       "      <td>0.043046</td>\n",
       "      <td>-0.027161</td>\n",
       "      <td>0.625499</td>\n",
       "    </tr>\n",
       "    <tr>\n",
       "      <th>WoodDeckSF</th>\n",
       "      <td>0.004691</td>\n",
       "      <td>0.076873</td>\n",
       "      <td>0.173781</td>\n",
       "      <td>0.233774</td>\n",
       "      <td>-0.004177</td>\n",
       "      <td>0.233036</td>\n",
       "      <td>0.215284</td>\n",
       "      <td>0.165032</td>\n",
       "      <td>0.208447</td>\n",
       "      <td>0.065673</td>\n",
       "      <td>...</td>\n",
       "      <td>1.000000</td>\n",
       "      <td>0.063533</td>\n",
       "      <td>-0.122629</td>\n",
       "      <td>-0.026559</td>\n",
       "      <td>-0.061845</td>\n",
       "      <td>0.033058</td>\n",
       "      <td>-0.004330</td>\n",
       "      <td>0.010294</td>\n",
       "      <td>0.029200</td>\n",
       "      <td>0.316402</td>\n",
       "    </tr>\n",
       "    <tr>\n",
       "      <th>OpenPorchSF</th>\n",
       "      <td>-0.003911</td>\n",
       "      <td>0.142270</td>\n",
       "      <td>0.070516</td>\n",
       "      <td>0.304890</td>\n",
       "      <td>-0.023493</td>\n",
       "      <td>0.187761</td>\n",
       "      <td>0.243421</td>\n",
       "      <td>0.116177</td>\n",
       "      <td>0.082063</td>\n",
       "      <td>0.005176</td>\n",
       "      <td>...</td>\n",
       "      <td>0.063533</td>\n",
       "      <td>1.000000</td>\n",
       "      <td>-0.084790</td>\n",
       "      <td>-0.012387</td>\n",
       "      <td>0.043445</td>\n",
       "      <td>-0.020359</td>\n",
       "      <td>-0.036994</td>\n",
       "      <td>0.078044</td>\n",
       "      <td>-0.056723</td>\n",
       "      <td>0.315975</td>\n",
       "    </tr>\n",
       "    <tr>\n",
       "      <th>EnclosedPorch</th>\n",
       "      <td>-0.023596</td>\n",
       "      <td>0.028764</td>\n",
       "      <td>-0.016449</td>\n",
       "      <td>-0.094715</td>\n",
       "      <td>0.072373</td>\n",
       "      <td>-0.378061</td>\n",
       "      <td>-0.196151</td>\n",
       "      <td>-0.103496</td>\n",
       "      <td>-0.097119</td>\n",
       "      <td>0.031000</td>\n",
       "      <td>...</td>\n",
       "      <td>-0.122629</td>\n",
       "      <td>-0.084790</td>\n",
       "      <td>1.000000</td>\n",
       "      <td>-0.036996</td>\n",
       "      <td>-0.080446</td>\n",
       "      <td>0.093972</td>\n",
       "      <td>0.023713</td>\n",
       "      <td>-0.024146</td>\n",
       "      <td>-0.007612</td>\n",
       "      <td>-0.118917</td>\n",
       "    </tr>\n",
       "    <tr>\n",
       "      <th>3SsnPorch</th>\n",
       "      <td>-0.036815</td>\n",
       "      <td>0.070290</td>\n",
       "      <td>0.013383</td>\n",
       "      <td>0.018474</td>\n",
       "      <td>0.024191</td>\n",
       "      <td>0.026625</td>\n",
       "      <td>0.036746</td>\n",
       "      <td>0.011902</td>\n",
       "      <td>0.017842</td>\n",
       "      <td>-0.033233</td>\n",
       "      <td>...</td>\n",
       "      <td>-0.026559</td>\n",
       "      <td>-0.012387</td>\n",
       "      <td>-0.036996</td>\n",
       "      <td>1.000000</td>\n",
       "      <td>-0.032265</td>\n",
       "      <td>-0.006690</td>\n",
       "      <td>0.001166</td>\n",
       "      <td>0.021320</td>\n",
       "      <td>0.032785</td>\n",
       "      <td>0.020845</td>\n",
       "    </tr>\n",
       "    <tr>\n",
       "      <th>ScreenPorch</th>\n",
       "      <td>-0.032764</td>\n",
       "      <td>0.052953</td>\n",
       "      <td>0.051514</td>\n",
       "      <td>0.075551</td>\n",
       "      <td>0.045916</td>\n",
       "      <td>-0.034936</td>\n",
       "      <td>-0.023735</td>\n",
       "      <td>0.086028</td>\n",
       "      <td>0.072006</td>\n",
       "      <td>0.084689</td>\n",
       "      <td>...</td>\n",
       "      <td>-0.061845</td>\n",
       "      <td>0.043445</td>\n",
       "      <td>-0.080446</td>\n",
       "      <td>-0.032265</td>\n",
       "      <td>1.000000</td>\n",
       "      <td>-0.015259</td>\n",
       "      <td>-0.000976</td>\n",
       "      <td>0.029960</td>\n",
       "      <td>0.010549</td>\n",
       "      <td>0.123616</td>\n",
       "    </tr>\n",
       "    <tr>\n",
       "      <th>PoolArea</th>\n",
       "      <td>0.000203</td>\n",
       "      <td>0.128189</td>\n",
       "      <td>0.023248</td>\n",
       "      <td>0.053473</td>\n",
       "      <td>-0.013045</td>\n",
       "      <td>-0.007349</td>\n",
       "      <td>0.016141</td>\n",
       "      <td>-0.023270</td>\n",
       "      <td>0.078790</td>\n",
       "      <td>0.035974</td>\n",
       "      <td>...</td>\n",
       "      <td>0.033058</td>\n",
       "      <td>-0.020359</td>\n",
       "      <td>0.093972</td>\n",
       "      <td>-0.006690</td>\n",
       "      <td>-0.015259</td>\n",
       "      <td>1.000000</td>\n",
       "      <td>-0.004918</td>\n",
       "      <td>-0.039964</td>\n",
       "      <td>-0.044824</td>\n",
       "      <td>0.101972</td>\n",
       "    </tr>\n",
       "    <tr>\n",
       "      <th>MiscVal</th>\n",
       "      <td>-0.009542</td>\n",
       "      <td>0.004415</td>\n",
       "      <td>0.038711</td>\n",
       "      <td>-0.038977</td>\n",
       "      <td>0.063002</td>\n",
       "      <td>-0.032466</td>\n",
       "      <td>-0.010992</td>\n",
       "      <td>-0.030357</td>\n",
       "      <td>0.002993</td>\n",
       "      <td>-0.000479</td>\n",
       "      <td>...</td>\n",
       "      <td>-0.004330</td>\n",
       "      <td>-0.036994</td>\n",
       "      <td>0.023713</td>\n",
       "      <td>0.001166</td>\n",
       "      <td>-0.000976</td>\n",
       "      <td>-0.004918</td>\n",
       "      <td>1.000000</td>\n",
       "      <td>-0.005639</td>\n",
       "      <td>0.004107</td>\n",
       "      <td>-0.031333</td>\n",
       "    </tr>\n",
       "    <tr>\n",
       "      <th>MoSold</th>\n",
       "      <td>0.001958</td>\n",
       "      <td>0.019926</td>\n",
       "      <td>0.006419</td>\n",
       "      <td>0.078894</td>\n",
       "      <td>-0.010689</td>\n",
       "      <td>0.019304</td>\n",
       "      <td>0.031268</td>\n",
       "      <td>-0.003837</td>\n",
       "      <td>-0.011076</td>\n",
       "      <td>-0.013717</td>\n",
       "      <td>...</td>\n",
       "      <td>0.010294</td>\n",
       "      <td>0.078044</td>\n",
       "      <td>-0.024146</td>\n",
       "      <td>0.021320</td>\n",
       "      <td>0.029960</td>\n",
       "      <td>-0.039964</td>\n",
       "      <td>-0.005639</td>\n",
       "      <td>1.000000</td>\n",
       "      <td>-0.140801</td>\n",
       "      <td>0.049208</td>\n",
       "    </tr>\n",
       "    <tr>\n",
       "      <th>YrSold</th>\n",
       "      <td>-0.010881</td>\n",
       "      <td>0.006987</td>\n",
       "      <td>-0.020139</td>\n",
       "      <td>-0.021286</td>\n",
       "      <td>0.030414</td>\n",
       "      <td>0.014410</td>\n",
       "      <td>0.053221</td>\n",
       "      <td>0.001436</td>\n",
       "      <td>0.007577</td>\n",
       "      <td>0.015374</td>\n",
       "      <td>...</td>\n",
       "      <td>0.029200</td>\n",
       "      <td>-0.056723</td>\n",
       "      <td>-0.007612</td>\n",
       "      <td>0.032785</td>\n",
       "      <td>0.010549</td>\n",
       "      <td>-0.044824</td>\n",
       "      <td>0.004107</td>\n",
       "      <td>-0.140801</td>\n",
       "      <td>1.000000</td>\n",
       "      <td>-0.036798</td>\n",
       "    </tr>\n",
       "    <tr>\n",
       "      <th>SalePrice</th>\n",
       "      <td>-0.076628</td>\n",
       "      <td>0.378138</td>\n",
       "      <td>0.267146</td>\n",
       "      <td>0.790786</td>\n",
       "      <td>-0.083382</td>\n",
       "      <td>0.524407</td>\n",
       "      <td>0.512674</td>\n",
       "      <td>0.483754</td>\n",
       "      <td>0.409673</td>\n",
       "      <td>0.000474</td>\n",
       "      <td>...</td>\n",
       "      <td>0.316402</td>\n",
       "      <td>0.315975</td>\n",
       "      <td>-0.118917</td>\n",
       "      <td>0.020845</td>\n",
       "      <td>0.123616</td>\n",
       "      <td>0.101972</td>\n",
       "      <td>-0.031333</td>\n",
       "      <td>0.049208</td>\n",
       "      <td>-0.036798</td>\n",
       "      <td>1.000000</td>\n",
       "    </tr>\n",
       "  </tbody>\n",
       "</table>\n",
       "<p>37 rows × 37 columns</p>\n",
       "</div>"
      ],
      "text/plain": [
       "               MSSubClass  LotFrontage   LotArea  OverallQual  OverallCond  \\\n",
       "MSSubClass       1.000000    -0.397117 -0.124523     0.038126    -0.058921   \n",
       "LotFrontage     -0.397117     1.000000  0.390300     0.245102    -0.058688   \n",
       "LotArea         -0.124523     0.390300  1.000000     0.097107    -0.004448   \n",
       "OverallQual      0.038126     0.245102  0.097107     1.000000    -0.083344   \n",
       "OverallCond     -0.058921    -0.058688 -0.004448    -0.083344     1.000000   \n",
       "YearBuilt        0.030828     0.112571  0.006597     0.569794    -0.381242   \n",
       "YearRemodAdd     0.044212     0.082321  0.011644     0.556333     0.081891   \n",
       "MasVnrArea       0.026365     0.170871  0.089085     0.410741    -0.126939   \n",
       "BsmtFinSF1      -0.068183     0.158104  0.190906     0.223098    -0.042889   \n",
       "BsmtFinSF2      -0.048566     0.062602  0.120436    -0.053877     0.046174   \n",
       "BsmtUnfSF       -0.141998     0.144712 -0.009771     0.312696    -0.139201   \n",
       "TotalBsmtSF     -0.237170     0.335394  0.233493     0.537320    -0.172232   \n",
       "1stFlrSF        -0.255475     0.429573  0.271434     0.464553    -0.165285   \n",
       "2ndFlrSF         0.306504     0.079917  0.050284     0.309279     0.033167   \n",
       "LowQualFinSF     0.045522     0.046662  0.006925    -0.038920     0.023304   \n",
       "GrLivArea        0.077398     0.383150  0.241856     0.598090    -0.090488   \n",
       "BsmtFullBath     0.023702     0.077108  0.155761     0.094544    -0.044130   \n",
       "BsmtHalfBath    -0.006169    -0.003161  0.049930    -0.044297     0.129516   \n",
       "FullBath         0.133017     0.213000  0.129285     0.555215    -0.198464   \n",
       "HalfBath         0.181627     0.041029  0.007830     0.285470    -0.060019   \n",
       "BedroomAbvGr    -0.021278     0.289597  0.112878     0.113908     0.003178   \n",
       "KitchenAbvGr     0.272842    -0.011720 -0.016560    -0.188754    -0.082645   \n",
       "TotRmsAbvGrd     0.042974     0.354284  0.177305     0.436375    -0.066667   \n",
       "Fireplaces      -0.033466     0.252134  0.263860     0.384657    -0.036815   \n",
       "GarageYrBlt      0.075443     0.062952 -0.032483     0.547631    -0.314817   \n",
       "GarageCars      -0.043084     0.316819  0.153345     0.611510    -0.188862   \n",
       "GarageArea      -0.104279     0.339431  0.163802     0.558520    -0.154747   \n",
       "WoodDeckSF       0.004691     0.076873  0.173781     0.233774    -0.004177   \n",
       "OpenPorchSF     -0.003911     0.142270  0.070516     0.304890    -0.023493   \n",
       "EnclosedPorch   -0.023596     0.028764 -0.016449    -0.094715     0.072373   \n",
       "3SsnPorch       -0.036815     0.070290  0.013383     0.018474     0.024191   \n",
       "ScreenPorch     -0.032764     0.052953  0.051514     0.075551     0.045916   \n",
       "PoolArea         0.000203     0.128189  0.023248     0.053473    -0.013045   \n",
       "MiscVal         -0.009542     0.004415  0.038711    -0.038977     0.063002   \n",
       "MoSold           0.001958     0.019926  0.006419     0.078894    -0.010689   \n",
       "YrSold          -0.010881     0.006987 -0.020139    -0.021286     0.030414   \n",
       "SalePrice       -0.076628     0.378138  0.267146     0.790786    -0.083382   \n",
       "\n",
       "               YearBuilt  YearRemodAdd  MasVnrArea  BsmtFinSF1  BsmtFinSF2  \\\n",
       "MSSubClass      0.030828      0.044212    0.026365   -0.068183   -0.048566   \n",
       "LotFrontage     0.112571      0.082321    0.170871    0.158104    0.062602   \n",
       "LotArea         0.006597      0.011644    0.089085    0.190906    0.120436   \n",
       "OverallQual     0.569794      0.556333    0.410741    0.223098   -0.053877   \n",
       "OverallCond    -0.381242      0.081891   -0.126939   -0.042889    0.046174   \n",
       "YearBuilt       1.000000      0.594038    0.316002    0.235523   -0.042714   \n",
       "YearRemodAdd    0.594038      1.000000    0.184918    0.121526   -0.061302   \n",
       "MasVnrArea      0.316002      0.184918    1.000000    0.253137   -0.063762   \n",
       "BsmtFinSF1      0.235523      0.121526    0.253137    1.000000   -0.046444   \n",
       "BsmtFinSF2     -0.042714     -0.061302   -0.063762   -0.046444    1.000000   \n",
       "BsmtUnfSF       0.157881      0.183812    0.101299   -0.514475   -0.199820   \n",
       "TotalBsmtSF     0.393029      0.294682    0.344520    0.484407    0.120895   \n",
       "1stFlrSF        0.288842      0.235863    0.330541    0.420630    0.106610   \n",
       "2ndFlrSF        0.033306      0.161456    0.176142   -0.141313   -0.097414   \n",
       "LowQualFinSF   -0.187373     -0.073219   -0.069774   -0.065537    0.020279   \n",
       "GrLivArea       0.220969      0.302125    0.382704    0.181435   -0.002569   \n",
       "BsmtFullBath    0.165702      0.102382    0.077655    0.662639    0.148759   \n",
       "BsmtHalfBath   -0.050255     -0.009142    0.016012    0.061495    0.089955   \n",
       "FullBath        0.485409      0.440783    0.275623    0.056184   -0.067675   \n",
       "HalfBath        0.257610      0.200966    0.199677    0.005119   -0.042121   \n",
       "BedroomAbvGr   -0.050910     -0.028907    0.104774   -0.098893   -0.025806   \n",
       "KitchenAbvGr   -0.165798     -0.136440   -0.050228   -0.063617   -0.035328   \n",
       "TotRmsAbvGrd    0.122161      0.207268    0.280989    0.050293   -0.043176   \n",
       "Fireplaces      0.146816      0.107915    0.247317    0.249514    0.058902   \n",
       "GarageYrBlt     0.841953      0.653402    0.256497    0.144944   -0.074037   \n",
       "GarageCars      0.546753      0.429668    0.362282    0.248202   -0.020757   \n",
       "GarageArea      0.490776      0.372573    0.359539    0.295341   -0.000974   \n",
       "WoodDeckSF      0.233036      0.215284    0.165032    0.208447    0.065673   \n",
       "OpenPorchSF     0.187761      0.243421    0.116177    0.082063    0.005176   \n",
       "EnclosedPorch  -0.378061     -0.196151   -0.103496   -0.097119    0.031000   \n",
       "3SsnPorch       0.026625      0.036746    0.011902    0.017842   -0.033233   \n",
       "ScreenPorch    -0.034936     -0.023735    0.086028    0.072006    0.084689   \n",
       "PoolArea       -0.007349      0.016141   -0.023270    0.078790    0.035974   \n",
       "MiscVal        -0.032466     -0.010992   -0.030357    0.002993   -0.000479   \n",
       "MoSold          0.019304      0.031268   -0.003837   -0.011076   -0.013717   \n",
       "YrSold          0.014410      0.053221    0.001436    0.007577    0.015374   \n",
       "SalePrice       0.524407      0.512674    0.483754    0.409673    0.000474   \n",
       "\n",
       "               ...  WoodDeckSF  OpenPorchSF  EnclosedPorch  3SsnPorch  \\\n",
       "MSSubClass     ...    0.004691    -0.003911      -0.023596  -0.036815   \n",
       "LotFrontage    ...    0.076873     0.142270       0.028764   0.070290   \n",
       "LotArea        ...    0.173781     0.070516      -0.016449   0.013383   \n",
       "OverallQual    ...    0.233774     0.304890      -0.094715   0.018474   \n",
       "OverallCond    ...   -0.004177    -0.023493       0.072373   0.024191   \n",
       "YearBuilt      ...    0.233036     0.187761      -0.378061   0.026625   \n",
       "YearRemodAdd   ...    0.215284     0.243421      -0.196151   0.036746   \n",
       "MasVnrArea     ...    0.165032     0.116177      -0.103496   0.011902   \n",
       "BsmtFinSF1     ...    0.208447     0.082063      -0.097119   0.017842   \n",
       "BsmtFinSF2     ...    0.065673     0.005176       0.031000  -0.033233   \n",
       "BsmtUnfSF      ...   -0.003151     0.125372       0.003457   0.012872   \n",
       "TotalBsmtSF    ...    0.237937     0.217870      -0.085535   0.019401   \n",
       "1stFlrSF       ...    0.229405     0.183766      -0.056604   0.030602   \n",
       "2ndFlrSF       ...    0.094466     0.218237       0.062470  -0.014374   \n",
       "LowQualFinSF   ...   -0.041806     0.023081       0.071324  -0.003854   \n",
       "GrLivArea      ...    0.243734     0.321671       0.018599   0.009821   \n",
       "BsmtFullBath   ...    0.180573     0.064071      -0.046492  -0.001805   \n",
       "BsmtHalfBath   ...    0.045765    -0.028547       0.000986   0.042162   \n",
       "FullBath       ...    0.193089     0.246975      -0.112488   0.029489   \n",
       "HalfBath       ...    0.110511     0.231524      -0.102015   0.006728   \n",
       "BedroomAbvGr   ...    0.048351     0.082341       0.045772  -0.019557   \n",
       "KitchenAbvGr   ...   -0.081226    -0.092585       0.024016  -0.024580   \n",
       "TotRmsAbvGrd   ...    0.169425     0.236732       0.002584  -0.020623   \n",
       "Fireplaces     ...    0.203903     0.160356      -0.008563   0.004405   \n",
       "GarageYrBlt    ...    0.227734     0.249373      -0.324863   0.020997   \n",
       "GarageCars     ...    0.237094     0.213721      -0.148583   0.026703   \n",
       "GarageArea     ...    0.222872     0.228170      -0.125995   0.028728   \n",
       "WoodDeckSF     ...    1.000000     0.063533      -0.122629  -0.026559   \n",
       "OpenPorchSF    ...    0.063533     1.000000      -0.084790  -0.012387   \n",
       "EnclosedPorch  ...   -0.122629    -0.084790       1.000000  -0.036996   \n",
       "3SsnPorch      ...   -0.026559    -0.012387      -0.036996   1.000000   \n",
       "ScreenPorch    ...   -0.061845     0.043445      -0.080446  -0.032265   \n",
       "PoolArea       ...    0.033058    -0.020359       0.093972  -0.006690   \n",
       "MiscVal        ...   -0.004330    -0.036994       0.023713   0.001166   \n",
       "MoSold         ...    0.010294     0.078044      -0.024146   0.021320   \n",
       "YrSold         ...    0.029200    -0.056723      -0.007612   0.032785   \n",
       "SalePrice      ...    0.316402     0.315975      -0.118917   0.020845   \n",
       "\n",
       "               ScreenPorch  PoolArea   MiscVal    MoSold    YrSold  SalePrice  \n",
       "MSSubClass       -0.032764  0.000203 -0.009542  0.001958 -0.010881  -0.076628  \n",
       "LotFrontage       0.052953  0.128189  0.004415  0.019926  0.006987   0.378138  \n",
       "LotArea           0.051514  0.023248  0.038711  0.006419 -0.020139   0.267146  \n",
       "OverallQual       0.075551  0.053473 -0.038977  0.078894 -0.021286   0.790786  \n",
       "OverallCond       0.045916 -0.013045  0.063002 -0.010689  0.030414  -0.083382  \n",
       "YearBuilt        -0.034936 -0.007349 -0.032466  0.019304  0.014410   0.524407  \n",
       "YearRemodAdd     -0.023735  0.016141 -0.010992  0.031268  0.053221   0.512674  \n",
       "MasVnrArea        0.086028 -0.023270 -0.030357 -0.003837  0.001436   0.483754  \n",
       "BsmtFinSF1        0.072006  0.078790  0.002993 -0.011076  0.007577   0.409673  \n",
       "BsmtFinSF2        0.084689  0.035974 -0.000479 -0.013717  0.015374   0.000474  \n",
       "BsmtUnfSF        -0.006313 -0.040431 -0.027163  0.043573 -0.039794   0.207560  \n",
       "TotalBsmtSF       0.100148  0.053234 -0.025393  0.028750 -0.027818   0.641946  \n",
       "1stFlrSF          0.103743  0.057011 -0.026838  0.041105 -0.029189   0.617868  \n",
       "2ndFlrSF          0.020668  0.059603  0.000913  0.048434 -0.034536   0.335212  \n",
       "LowQualFinSF      0.034430  0.090012 -0.003678 -0.036145 -0.030252  -0.026166  \n",
       "GrLivArea         0.096812  0.101127 -0.019222  0.067540 -0.053616   0.733480  \n",
       "BsmtFullBath      0.034925  0.062776 -0.023309 -0.018330  0.056775   0.223671  \n",
       "BsmtHalfBath      0.037163  0.037489 -0.006866  0.039957 -0.055876  -0.018857  \n",
       "FullBath         -0.021716  0.015150 -0.026851  0.051439 -0.002268   0.566303  \n",
       "HalfBath          0.084320  0.016080  0.002056  0.007884 -0.016459   0.298473  \n",
       "BedroomAbvGr      0.012626  0.041960 -0.008195  0.039819 -0.033851   0.170714  \n",
       "KitchenAbvGr     -0.049427 -0.011625  0.070939  0.031116  0.014817  -0.133655  \n",
       "TotRmsAbvGrd      0.047315  0.022365  0.010971  0.040133 -0.047246   0.552707  \n",
       "Fireplaces        0.173797  0.055642 -0.016181  0.055267 -0.044786   0.460081  \n",
       "GarageYrBlt      -0.048166 -0.025456 -0.024824  0.012245  0.031746   0.490973  \n",
       "GarageCars        0.061264  0.017459 -0.044159  0.055451 -0.036693   0.642079  \n",
       "GarageArea        0.065907  0.034384 -0.027386  0.043046 -0.027161   0.625499  \n",
       "WoodDeckSF       -0.061845  0.033058 -0.004330  0.010294  0.029200   0.316402  \n",
       "OpenPorchSF       0.043445 -0.020359 -0.036994  0.078044 -0.056723   0.315975  \n",
       "EnclosedPorch    -0.080446  0.093972  0.023713 -0.024146 -0.007612  -0.118917  \n",
       "3SsnPorch        -0.032265 -0.006690  0.001166  0.021320  0.032785   0.020845  \n",
       "ScreenPorch       1.000000 -0.015259 -0.000976  0.029960  0.010549   0.123616  \n",
       "PoolArea         -0.015259  1.000000 -0.004918 -0.039964 -0.044824   0.101972  \n",
       "MiscVal          -0.000976 -0.004918  1.000000 -0.005639  0.004107  -0.031333  \n",
       "MoSold            0.029960 -0.039964 -0.005639  1.000000 -0.140801   0.049208  \n",
       "YrSold            0.010549 -0.044824  0.004107 -0.140801  1.000000  -0.036798  \n",
       "SalePrice         0.123616  0.101972 -0.031333  0.049208 -0.036798   1.000000  \n",
       "\n",
       "[37 rows x 37 columns]"
      ]
     },
     "execution_count": 15,
     "metadata": {},
     "output_type": "execute_result"
    }
   ],
   "source": [
    "train_df.corr()"
   ]
  },
  {
   "cell_type": "code",
   "execution_count": 16,
   "metadata": {},
   "outputs": [
    {
     "data": {
      "text/plain": [
       "MSSubClass          20.0\n",
       "LotFrontage         21.0\n",
       "LotArea           1300.0\n",
       "OverallQual          1.0\n",
       "OverallCond          1.0\n",
       "YearBuilt         1875.0\n",
       "YearRemodAdd      1950.0\n",
       "MasVnrArea           0.0\n",
       "BsmtFinSF1           0.0\n",
       "BsmtFinSF2           0.0\n",
       "BsmtUnfSF            0.0\n",
       "TotalBsmtSF          0.0\n",
       "1stFlrSF           334.0\n",
       "2ndFlrSF             0.0\n",
       "LowQualFinSF         0.0\n",
       "GrLivArea          334.0\n",
       "BsmtFullBath         0.0\n",
       "BsmtHalfBath         0.0\n",
       "FullBath             0.0\n",
       "HalfBath             0.0\n",
       "BedroomAbvGr         0.0\n",
       "KitchenAbvGr         0.0\n",
       "TotRmsAbvGrd         2.0\n",
       "Fireplaces           0.0\n",
       "GarageYrBlt       1900.0\n",
       "GarageCars           0.0\n",
       "GarageArea           0.0\n",
       "WoodDeckSF           0.0\n",
       "OpenPorchSF          0.0\n",
       "EnclosedPorch        0.0\n",
       "3SsnPorch            0.0\n",
       "ScreenPorch          0.0\n",
       "PoolArea             0.0\n",
       "MiscVal              0.0\n",
       "MoSold               1.0\n",
       "YrSold            2006.0\n",
       "SalePrice        34900.0\n",
       "Name: min, dtype: float64"
      ]
     },
     "execution_count": 16,
     "metadata": {},
     "output_type": "execute_result"
    }
   ],
   "source": [
    "train_df.describe().loc['min']"
   ]
  },
  {
   "cell_type": "code",
   "execution_count": 17,
   "metadata": {
    "scrolled": false
   },
   "outputs": [
    {
     "data": {
      "image/png": "[encoded data removed]",
      "text/plain": [
       "<Figure size 864x864 with 2 Axes>"
      ]
     },
     "metadata": {
      "needs_background": "light"
     },
     "output_type": "display_data"
    }
   ],
   "source": [
    "plt.figure(figsize=(12,12));\n",
    "sns.heatmap(train_df.corr());"
   ]
  },
  {
   "cell_type": "markdown",
   "metadata": {},
   "source": [
    "- No strong correlation above 95% between columns, so we must deal with them all without drop any of them."
   ]
  },
  {
   "cell_type": "code",
   "execution_count": 18,
   "metadata": {
    "scrolled": false
   },
   "outputs": [
    {
     "data": {
      "image/png": "[encoded data removed]",
      "text/plain": [
       "<Figure size 576x576 with 1 Axes>"
      ]
     },
     "metadata": {
      "needs_background": "light"
     },
     "output_type": "display_data"
    }
   ],
   "source": [
    "plt.figure(figsize=(8,8));\n",
    "train_df['SalePrice'].hist(bins=100);\n",
    "plt.title('Sale Prices of Houses');"
   ]
  },
  {
   "cell_type": "code",
   "execution_count": 19,
   "metadata": {},
   "outputs": [
    {
     "data": {
      "text/plain": [
       "count      1259.000000\n",
       "mean     181144.812550\n",
       "std       80588.024473\n",
       "min       34900.000000\n",
       "25%      129900.000000\n",
       "50%      163500.000000\n",
       "75%      213750.000000\n",
       "max      755000.000000\n",
       "Name: SalePrice, dtype: float64"
      ]
     },
     "execution_count": 19,
     "metadata": {},
     "output_type": "execute_result"
    }
   ],
   "source": [
    "train_df['SalePrice'].describe()"
   ]
  },
  {
   "cell_type": "markdown",
   "metadata": {},
   "source": [
    "- `Most` Sale Prices in the range from 100K to 200K\n",
    "- `Min` Sale Price abount 35K and `Max` Sale Price about 750K\n",
    "- `Mean` Sale Price about 180K"
   ]
  },
  {
   "cell_type": "code",
   "execution_count": 20,
   "metadata": {},
   "outputs": [
    {
     "data": {
      "image/png": "[encoded data removed]",
      "text/plain": [
       "<Figure size 432x288 with 1 Axes>"
      ]
     },
     "metadata": {
      "needs_background": "light"
     },
     "output_type": "display_data"
    }
   ],
   "source": [
    "train_df['MSZoning'].value_counts().plot(kind='barh')\n",
    "plt.title('Zoning Classification Of The Sale');"
   ]
  },
  {
   "cell_type": "markdown",
   "metadata": {},
   "source": [
    "- Most `Zoning Classification` of sale is RL [Residential Low Density\n",
    "]"
   ]
  },
  {
   "cell_type": "code",
   "execution_count": 21,
   "metadata": {},
   "outputs": [
    {
     "data": {
      "text/plain": [
       "Pave    1253\n",
       "Grvl       6\n",
       "Name: Street, dtype: int64"
      ]
     },
     "execution_count": 21,
     "metadata": {},
     "output_type": "execute_result"
    }
   ],
   "source": [
    "train_df['Street'].value_counts()"
   ]
  },
  {
   "cell_type": "code",
   "execution_count": 22,
   "metadata": {},
   "outputs": [
    {
     "data": {
      "text/html": [
       "<div>\n",
       "<style scoped>\n",
       "    .dataframe tbody tr th:only-of-type {\n",
       "        vertical-align: middle;\n",
       "    }\n",
       "\n",
       "    .dataframe tbody tr th {\n",
       "        vertical-align: top;\n",
       "    }\n",
       "\n",
       "    .dataframe thead th {\n",
       "        text-align: right;\n",
       "    }\n",
       "</style>\n",
       "<table border=\"1\" class=\"dataframe\">\n",
       "  <thead>\n",
       "    <tr style=\"text-align: right;\">\n",
       "      <th></th>\n",
       "      <th>MSSubClass</th>\n",
       "      <th>MSZoning</th>\n",
       "      <th>LotFrontage</th>\n",
       "      <th>LotArea</th>\n",
       "      <th>Street</th>\n",
       "      <th>Alley</th>\n",
       "      <th>LotShape</th>\n",
       "      <th>LandContour</th>\n",
       "      <th>Utilities</th>\n",
       "      <th>LotConfig</th>\n",
       "      <th>...</th>\n",
       "      <th>PoolArea</th>\n",
       "      <th>PoolQC</th>\n",
       "      <th>Fence</th>\n",
       "      <th>MiscFeature</th>\n",
       "      <th>MiscVal</th>\n",
       "      <th>MoSold</th>\n",
       "      <th>YrSold</th>\n",
       "      <th>SaleType</th>\n",
       "      <th>SaleCondition</th>\n",
       "      <th>SalePrice</th>\n",
       "    </tr>\n",
       "    <tr>\n",
       "      <th>Id</th>\n",
       "      <th></th>\n",
       "      <th></th>\n",
       "      <th></th>\n",
       "      <th></th>\n",
       "      <th></th>\n",
       "      <th></th>\n",
       "      <th></th>\n",
       "      <th></th>\n",
       "      <th></th>\n",
       "      <th></th>\n",
       "      <th></th>\n",
       "      <th></th>\n",
       "      <th></th>\n",
       "      <th></th>\n",
       "      <th></th>\n",
       "      <th></th>\n",
       "      <th></th>\n",
       "      <th></th>\n",
       "      <th></th>\n",
       "      <th></th>\n",
       "      <th></th>\n",
       "    </tr>\n",
       "  </thead>\n",
       "  <tbody>\n",
       "    <tr>\n",
       "      <th>53</th>\n",
       "      <td>90</td>\n",
       "      <td>RM</td>\n",
       "      <td>110.0</td>\n",
       "      <td>8472</td>\n",
       "      <td>Grvl</td>\n",
       "      <td>NaN</td>\n",
       "      <td>IR2</td>\n",
       "      <td>Bnk</td>\n",
       "      <td>AllPub</td>\n",
       "      <td>Corner</td>\n",
       "      <td>...</td>\n",
       "      <td>0</td>\n",
       "      <td>NaN</td>\n",
       "      <td>NaN</td>\n",
       "      <td>NaN</td>\n",
       "      <td>0</td>\n",
       "      <td>5</td>\n",
       "      <td>2010</td>\n",
       "      <td>WD</td>\n",
       "      <td>Normal</td>\n",
       "      <td>110000</td>\n",
       "    </tr>\n",
       "    <tr>\n",
       "      <th>336</th>\n",
       "      <td>190</td>\n",
       "      <td>RL</td>\n",
       "      <td>NaN</td>\n",
       "      <td>164660</td>\n",
       "      <td>Grvl</td>\n",
       "      <td>NaN</td>\n",
       "      <td>IR1</td>\n",
       "      <td>HLS</td>\n",
       "      <td>AllPub</td>\n",
       "      <td>Corner</td>\n",
       "      <td>...</td>\n",
       "      <td>0</td>\n",
       "      <td>NaN</td>\n",
       "      <td>NaN</td>\n",
       "      <td>Shed</td>\n",
       "      <td>700</td>\n",
       "      <td>8</td>\n",
       "      <td>2008</td>\n",
       "      <td>WD</td>\n",
       "      <td>Normal</td>\n",
       "      <td>228950</td>\n",
       "    </tr>\n",
       "    <tr>\n",
       "      <th>583</th>\n",
       "      <td>90</td>\n",
       "      <td>RL</td>\n",
       "      <td>81.0</td>\n",
       "      <td>11841</td>\n",
       "      <td>Grvl</td>\n",
       "      <td>NaN</td>\n",
       "      <td>Reg</td>\n",
       "      <td>Lvl</td>\n",
       "      <td>AllPub</td>\n",
       "      <td>Inside</td>\n",
       "      <td>...</td>\n",
       "      <td>0</td>\n",
       "      <td>NaN</td>\n",
       "      <td>NaN</td>\n",
       "      <td>NaN</td>\n",
       "      <td>0</td>\n",
       "      <td>5</td>\n",
       "      <td>2007</td>\n",
       "      <td>WD</td>\n",
       "      <td>Normal</td>\n",
       "      <td>118500</td>\n",
       "    </tr>\n",
       "    <tr>\n",
       "      <th>813</th>\n",
       "      <td>20</td>\n",
       "      <td>C (all)</td>\n",
       "      <td>66.0</td>\n",
       "      <td>8712</td>\n",
       "      <td>Grvl</td>\n",
       "      <td>NaN</td>\n",
       "      <td>Reg</td>\n",
       "      <td>Bnk</td>\n",
       "      <td>AllPub</td>\n",
       "      <td>Inside</td>\n",
       "      <td>...</td>\n",
       "      <td>0</td>\n",
       "      <td>NaN</td>\n",
       "      <td>NaN</td>\n",
       "      <td>Shed</td>\n",
       "      <td>54</td>\n",
       "      <td>6</td>\n",
       "      <td>2010</td>\n",
       "      <td>WD</td>\n",
       "      <td>Alloca</td>\n",
       "      <td>55993</td>\n",
       "    </tr>\n",
       "    <tr>\n",
       "      <th>1062</th>\n",
       "      <td>30</td>\n",
       "      <td>C (all)</td>\n",
       "      <td>120.0</td>\n",
       "      <td>18000</td>\n",
       "      <td>Grvl</td>\n",
       "      <td>NaN</td>\n",
       "      <td>Reg</td>\n",
       "      <td>Low</td>\n",
       "      <td>AllPub</td>\n",
       "      <td>Inside</td>\n",
       "      <td>...</td>\n",
       "      <td>0</td>\n",
       "      <td>NaN</td>\n",
       "      <td>NaN</td>\n",
       "      <td>Shed</td>\n",
       "      <td>560</td>\n",
       "      <td>8</td>\n",
       "      <td>2008</td>\n",
       "      <td>ConLD</td>\n",
       "      <td>Normal</td>\n",
       "      <td>81000</td>\n",
       "    </tr>\n",
       "    <tr>\n",
       "      <th>1185</th>\n",
       "      <td>20</td>\n",
       "      <td>RL</td>\n",
       "      <td>50.0</td>\n",
       "      <td>35133</td>\n",
       "      <td>Grvl</td>\n",
       "      <td>NaN</td>\n",
       "      <td>Reg</td>\n",
       "      <td>Lvl</td>\n",
       "      <td>AllPub</td>\n",
       "      <td>Inside</td>\n",
       "      <td>...</td>\n",
       "      <td>0</td>\n",
       "      <td>NaN</td>\n",
       "      <td>NaN</td>\n",
       "      <td>NaN</td>\n",
       "      <td>0</td>\n",
       "      <td>5</td>\n",
       "      <td>2007</td>\n",
       "      <td>WD</td>\n",
       "      <td>Normal</td>\n",
       "      <td>186700</td>\n",
       "    </tr>\n",
       "  </tbody>\n",
       "</table>\n",
       "<p>6 rows × 80 columns</p>\n",
       "</div>"
      ],
      "text/plain": [
       "      MSSubClass MSZoning  LotFrontage  LotArea Street Alley LotShape  \\\n",
       "Id                                                                      \n",
       "53            90       RM        110.0     8472   Grvl   NaN      IR2   \n",
       "336          190       RL          NaN   164660   Grvl   NaN      IR1   \n",
       "583           90       RL         81.0    11841   Grvl   NaN      Reg   \n",
       "813           20  C (all)         66.0     8712   Grvl   NaN      Reg   \n",
       "1062          30  C (all)        120.0    18000   Grvl   NaN      Reg   \n",
       "1185          20       RL         50.0    35133   Grvl   NaN      Reg   \n",
       "\n",
       "     LandContour Utilities LotConfig  ... PoolArea PoolQC Fence MiscFeature  \\\n",
       "Id                                    ...                                     \n",
       "53           Bnk    AllPub    Corner  ...        0    NaN   NaN         NaN   \n",
       "336          HLS    AllPub    Corner  ...        0    NaN   NaN        Shed   \n",
       "583          Lvl    AllPub    Inside  ...        0    NaN   NaN         NaN   \n",
       "813          Bnk    AllPub    Inside  ...        0    NaN   NaN        Shed   \n",
       "1062         Low    AllPub    Inside  ...        0    NaN   NaN        Shed   \n",
       "1185         Lvl    AllPub    Inside  ...        0    NaN   NaN         NaN   \n",
       "\n",
       "     MiscVal MoSold  YrSold  SaleType  SaleCondition  SalePrice  \n",
       "Id                                                               \n",
       "53         0      5    2010        WD         Normal     110000  \n",
       "336      700      8    2008        WD         Normal     228950  \n",
       "583        0      5    2007        WD         Normal     118500  \n",
       "813       54      6    2010        WD         Alloca      55993  \n",
       "1062     560      8    2008     ConLD         Normal      81000  \n",
       "1185       0      5    2007        WD         Normal     186700  \n",
       "\n",
       "[6 rows x 80 columns]"
      ]
     },
     "execution_count": 22,
     "metadata": {},
     "output_type": "execute_result"
    }
   ],
   "source": [
    "train_df[train_df['Street'] == 'Grvl']"
   ]
  },
  {
   "cell_type": "markdown",
   "metadata": {},
   "source": [
    "- Almost all the houses are `Paved` access from road\n",
    "- This feature won't be so effective if houses price prediction, we will `drop it`."
   ]
  },
  {
   "cell_type": "code",
   "execution_count": 23,
   "metadata": {},
   "outputs": [
    {
     "data": {
      "text/plain": [
       "AllPub    1258\n",
       "NoSeWa       1\n",
       "Name: Utilities, dtype: int64"
      ]
     },
     "execution_count": 23,
     "metadata": {},
     "output_type": "execute_result"
    }
   ],
   "source": [
    "train_df['Utilities'].value_counts()"
   ]
  },
  {
   "cell_type": "code",
   "execution_count": 24,
   "metadata": {},
   "outputs": [
    {
     "data": {
      "text/html": [
       "<div>\n",
       "<style scoped>\n",
       "    .dataframe tbody tr th:only-of-type {\n",
       "        vertical-align: middle;\n",
       "    }\n",
       "\n",
       "    .dataframe tbody tr th {\n",
       "        vertical-align: top;\n",
       "    }\n",
       "\n",
       "    .dataframe thead th {\n",
       "        text-align: right;\n",
       "    }\n",
       "</style>\n",
       "<table border=\"1\" class=\"dataframe\">\n",
       "  <thead>\n",
       "    <tr style=\"text-align: right;\">\n",
       "      <th></th>\n",
       "      <th>MSSubClass</th>\n",
       "      <th>MSZoning</th>\n",
       "      <th>LotFrontage</th>\n",
       "      <th>LotArea</th>\n",
       "      <th>Street</th>\n",
       "      <th>Alley</th>\n",
       "      <th>LotShape</th>\n",
       "      <th>LandContour</th>\n",
       "      <th>Utilities</th>\n",
       "      <th>LotConfig</th>\n",
       "      <th>...</th>\n",
       "      <th>PoolArea</th>\n",
       "      <th>PoolQC</th>\n",
       "      <th>Fence</th>\n",
       "      <th>MiscFeature</th>\n",
       "      <th>MiscVal</th>\n",
       "      <th>MoSold</th>\n",
       "      <th>YrSold</th>\n",
       "      <th>SaleType</th>\n",
       "      <th>SaleCondition</th>\n",
       "      <th>SalePrice</th>\n",
       "    </tr>\n",
       "    <tr>\n",
       "      <th>Id</th>\n",
       "      <th></th>\n",
       "      <th></th>\n",
       "      <th></th>\n",
       "      <th></th>\n",
       "      <th></th>\n",
       "      <th></th>\n",
       "      <th></th>\n",
       "      <th></th>\n",
       "      <th></th>\n",
       "      <th></th>\n",
       "      <th></th>\n",
       "      <th></th>\n",
       "      <th></th>\n",
       "      <th></th>\n",
       "      <th></th>\n",
       "      <th></th>\n",
       "      <th></th>\n",
       "      <th></th>\n",
       "      <th></th>\n",
       "      <th></th>\n",
       "      <th></th>\n",
       "    </tr>\n",
       "  </thead>\n",
       "  <tbody>\n",
       "    <tr>\n",
       "      <th>945</th>\n",
       "      <td>20</td>\n",
       "      <td>RL</td>\n",
       "      <td>NaN</td>\n",
       "      <td>14375</td>\n",
       "      <td>Pave</td>\n",
       "      <td>NaN</td>\n",
       "      <td>IR1</td>\n",
       "      <td>Lvl</td>\n",
       "      <td>NoSeWa</td>\n",
       "      <td>CulDSac</td>\n",
       "      <td>...</td>\n",
       "      <td>0</td>\n",
       "      <td>NaN</td>\n",
       "      <td>NaN</td>\n",
       "      <td>NaN</td>\n",
       "      <td>0</td>\n",
       "      <td>1</td>\n",
       "      <td>2009</td>\n",
       "      <td>COD</td>\n",
       "      <td>Abnorml</td>\n",
       "      <td>137500</td>\n",
       "    </tr>\n",
       "  </tbody>\n",
       "</table>\n",
       "<p>1 rows × 80 columns</p>\n",
       "</div>"
      ],
      "text/plain": [
       "     MSSubClass MSZoning  LotFrontage  LotArea Street Alley LotShape  \\\n",
       "Id                                                                     \n",
       "945          20       RL          NaN    14375   Pave   NaN      IR1   \n",
       "\n",
       "    LandContour Utilities LotConfig  ... PoolArea PoolQC Fence MiscFeature  \\\n",
       "Id                                   ...                                     \n",
       "945         Lvl    NoSeWa   CulDSac  ...        0    NaN   NaN         NaN   \n",
       "\n",
       "    MiscVal MoSold  YrSold  SaleType  SaleCondition  SalePrice  \n",
       "Id                                                              \n",
       "945       0      1    2009       COD        Abnorml     137500  \n",
       "\n",
       "[1 rows x 80 columns]"
      ]
     },
     "execution_count": 24,
     "metadata": {},
     "output_type": "execute_result"
    }
   ],
   "source": [
    "train_df[train_df['Utilities'] == 'NoSeWa']"
   ]
  },
  {
   "cell_type": "markdown",
   "metadata": {},
   "source": [
    "- `All houses` except just 1 of 1259 houses were sold with `all public utilities`\n",
    "- This feature won't be so effective if houses price prediction, we will `drop it`."
   ]
  },
  {
   "cell_type": "code",
   "execution_count": 25,
   "metadata": {},
   "outputs": [
    {
     "data": {
      "image/png": "[encoded data removed]",
      "text/plain": [
       "<Figure size 576x576 with 1 Axes>"
      ]
     },
     "metadata": {
      "needs_background": "light"
     },
     "output_type": "display_data"
    }
   ],
   "source": [
    "plt.figure(figsize=(8,8));\n",
    "train_df['Neighborhood'].value_counts().plot(kind='barh');\n",
    "plt.title('Neighborhood where Houses were Sold');"
   ]
  },
  {
   "cell_type": "markdown",
   "metadata": {},
   "source": [
    "- Most of the homes were sold in North Ames Neighborhood.\n",
    "- This feature will play a vital role in price prediction."
   ]
  },
  {
   "cell_type": "code",
   "execution_count": 26,
   "metadata": {},
   "outputs": [
    {
     "data": {
      "image/png": "[encoded data removed]",
      "text/plain": [
       "<Figure size 432x288 with 1 Axes>"
      ]
     },
     "metadata": {
      "needs_background": "light"
     },
     "output_type": "display_data"
    }
   ],
   "source": [
    "train_df['BldgType'].value_counts().plot(kind='barh');\n",
    "plt.title('Type of Dwelling');"
   ]
  },
  {
   "cell_type": "markdown",
   "metadata": {},
   "source": [
    "- Most houses were sold for `Single-family Detached`."
   ]
  },
  {
   "cell_type": "code",
   "execution_count": 27,
   "metadata": {},
   "outputs": [
    {
     "data": {
      "image/png": "[encoded data removed]",
      "text/plain": [
       "<Figure size 432x288 with 1 Axes>"
      ]
     },
     "metadata": {
      "needs_background": "light"
     },
     "output_type": "display_data"
    }
   ],
   "source": [
    "train_df['OverallQual'].value_counts(sort=False).plot(kind='barh');\n",
    "plt.title('Rate of Overall Material and Finish of The Houses');"
   ]
  },
  {
   "cell_type": "code",
   "execution_count": 28,
   "metadata": {},
   "outputs": [
    {
     "data": {
      "image/png": "[encoded data removed]",
      "text/plain": [
       "<Figure size 432x288 with 1 Axes>"
      ]
     },
     "metadata": {
      "needs_background": "light"
     },
     "output_type": "display_data"
    }
   ],
   "source": [
    "train_df['OverallCond'].value_counts(sort=False).plot(kind='barh');\n",
    "plt.title('Rate of Overall Condition of The Houses');"
   ]
  },
  {
   "cell_type": "code",
   "execution_count": 29,
   "metadata": {},
   "outputs": [
    {
     "data": {
      "image/png": "[encoded data removed]",
      "text/plain": [
       "<Figure size 432x288 with 1 Axes>"
      ]
     },
     "metadata": {
      "needs_background": "light"
     },
     "output_type": "display_data"
    }
   ],
   "source": [
    "train_df['Foundation'].value_counts().plot(kind='barh');\n",
    "plt.title('Type of Foundation of The Houses');"
   ]
  },
  {
   "cell_type": "code",
   "execution_count": 30,
   "metadata": {
    "scrolled": true
   },
   "outputs": [
    {
     "data": {
      "image/png": "[encoded data removed]",
      "text/plain": [
       "<Figure size 432x288 with 1 Axes>"
      ]
     },
     "metadata": {
      "needs_background": "light"
     },
     "output_type": "display_data"
    }
   ],
   "source": [
    "train_df['HeatingQC'].value_counts().plot(kind='barh');\n",
    "plt.title('Heating Quality and Condition');"
   ]
  },
  {
   "cell_type": "markdown",
   "metadata": {},
   "source": [
    "- Most of the homes were sold with rate of Overall Material and Finish from `5 to 7`, Overall Condition of `5 and above 5`.\n",
    "- The most sold houses were `Poured Contrete` and `Cinder Block` foundations.\n",
    "- Almost `all houses` had `Heating Quality and Condition` and most of them were `Exceelent`\n",
    "- This feature will be important in price prediction."
   ]
  },
  {
   "cell_type": "code",
   "execution_count": 31,
   "metadata": {},
   "outputs": [
    {
     "data": {
      "image/png": "[encoded data removed]",
      "text/plain": [
       "<Figure size 432x288 with 1 Axes>"
      ]
     },
     "metadata": {
      "needs_background": "light"
     },
     "output_type": "display_data"
    }
   ],
   "source": [
    "train_df.groupby(['YearBuilt'])['SalePrice'].mean().plot();\n",
    "plt.title('Yeas of Built VS Mean Sale Price');"
   ]
  },
  {
   "cell_type": "code",
   "execution_count": 32,
   "metadata": {},
   "outputs": [
    {
     "data": {
      "text/plain": [
       "YearBuilt\n",
       "1875     94000.00\n",
       "1880    200619.75\n",
       "1882    168000.00\n",
       "1885    100000.00\n",
       "1890    142200.00\n",
       "1892    475000.00\n",
       "1893    325000.00\n",
       "1898    106000.00\n",
       "1900    112492.60\n",
       "1904    157500.00\n",
       "Name: SalePrice, dtype: float64"
      ]
     },
     "execution_count": 32,
     "metadata": {},
     "output_type": "execute_result"
    }
   ],
   "source": [
    "train_df.groupby(['YearBuilt'])['SalePrice'].mean().head(10)"
   ]
  },
  {
   "cell_type": "markdown",
   "metadata": {},
   "source": [
    "- `Modern houses` are sold with `High Prices` compared with old ones\n",
    "- Only houses built in `1892 and 1893` were sold with `High Prices` even more than modrn ones, these houses must worth that."
   ]
  },
  {
   "cell_type": "code",
   "execution_count": 33,
   "metadata": {},
   "outputs": [
    {
     "data": {
      "image/png": "[encoded data removed]",
      "text/plain": [
       "<Figure size 720x1080 with 1 Axes>"
      ]
     },
     "metadata": {
      "needs_background": "light"
     },
     "output_type": "display_data"
    }
   ],
   "source": [
    "plt.figure(figsize=(10,15));\n",
    "train_df.groupby(['YrSold'])['MoSold'].value_counts(sort=False).plot(kind='barh');\n",
    "plt.title('Time of Sale');"
   ]
  },
  {
   "cell_type": "markdown",
   "metadata": {},
   "source": [
    "- Houses sales increase in months `5 to 7` (End of Spring and Beginning of Summer)"
   ]
  },
  {
   "cell_type": "markdown",
   "metadata": {},
   "source": [
    "### Model 1  Pre-Processing"
   ]
  },
  {
   "cell_type": "markdown",
   "metadata": {},
   "source": [
    "### Model 1  Pre-Processing"
   ]
  },
  {
   "cell_type": "code",
   "execution_count": 34,
   "metadata": {},
   "outputs": [],
   "source": [
    "# Drop Almost NaNs and One Catagory columns\n",
    "train_df = train_df.drop(['Alley','PoolQC', 'Fence', 'MiscFeature', 'Utilities', 'Street'], axis=1)\n",
    "test_df = test_df.drop(['Alley', 'PoolQC', 'Fence', 'MiscFeature', 'Utilities', 'Street'], axis=1)"
   ]
  },
  {
   "cell_type": "code",
   "execution_count": 35,
   "metadata": {},
   "outputs": [
    {
     "name": "stdout",
     "output_type": "stream",
     "text": [
      "(1259, 74)\n",
      "(201, 73)\n"
     ]
    }
   ],
   "source": [
    "print(train_df.shape)\n",
    "print(test_df.shape)"
   ]
  },
  {
   "cell_type": "code",
   "execution_count": 36,
   "metadata": {},
   "outputs": [],
   "source": [
    "# OneHot Enconding Catagorical columns\n",
    "Encoded_train = pd.get_dummies(train_df)\n",
    "Encoded_test = pd.get_dummies(test_df)"
   ]
  },
  {
   "cell_type": "code",
   "execution_count": 37,
   "metadata": {},
   "outputs": [
    {
     "name": "stdout",
     "output_type": "stream",
     "text": [
      "(1259, 267)\n",
      "(201, 229)\n"
     ]
    }
   ],
   "source": [
    "print(Encoded_train.shape)\n",
    "print(Encoded_test.shape)"
   ]
  },
  {
   "cell_type": "code",
   "execution_count": 38,
   "metadata": {},
   "outputs": [],
   "source": [
    "# Align two dataframes\n",
    "train1, test1 = Encoded_train.align(Encoded_test, join='right', axis=1)"
   ]
  },
  {
   "cell_type": "code",
   "execution_count": 39,
   "metadata": {
    "scrolled": true
   },
   "outputs": [
    {
     "name": "stdout",
     "output_type": "stream",
     "text": [
      "(1259, 229)\n",
      "(201, 229)\n"
     ]
    }
   ],
   "source": [
    "print(train1.shape)\n",
    "print(test1.shape)"
   ]
  },
  {
   "cell_type": "code",
   "execution_count": 40,
   "metadata": {},
   "outputs": [
    {
     "data": {
      "text/plain": [
       "RoofMatl_ClyTile      1259\n",
       "RoofMatl_Roll         1259\n",
       "Exterior1st_CBlock    1259\n",
       "Exterior2nd_CBlock    1259\n",
       "Heating_Floor         1259\n",
       "dtype: int64"
      ]
     },
     "execution_count": 40,
     "metadata": {},
     "output_type": "execute_result"
    }
   ],
   "source": [
    "train1.loc[:, train1.isnull().all()].isnull().sum()"
   ]
  },
  {
   "cell_type": "code",
   "execution_count": 41,
   "metadata": {},
   "outputs": [],
   "source": [
    "# Drop all NaNs columns\n",
    "train1 = train1.drop(['RoofMatl_ClyTile', 'RoofMatl_Roll', 'Exterior1st_CBlock', 'Exterior2nd_CBlock', 'Heating_Floor'], axis=1)\n",
    "test1 = test1.drop(['RoofMatl_ClyTile', 'RoofMatl_Roll', 'Exterior1st_CBlock', 'Exterior2nd_CBlock', 'Heating_Floor'], axis=1)"
   ]
  },
  {
   "cell_type": "code",
   "execution_count": 42,
   "metadata": {},
   "outputs": [
    {
     "name": "stdout",
     "output_type": "stream",
     "text": [
      "(1259, 224)\n",
      "(201, 224)\n"
     ]
    }
   ],
   "source": [
    "print(train1.shape)\n",
    "print(test1.shape)"
   ]
  },
  {
   "cell_type": "code",
   "execution_count": 43,
   "metadata": {},
   "outputs": [
    {
     "name": "stdout",
     "output_type": "stream",
     "text": [
      "[ True  True  True  True  True  True  True  True  True  True  True  True\n",
      "  True  True  True  True  True  True  True  True  True  True  True  True\n",
      "  True  True  True  True  True  True  True  True  True  True  True  True\n",
      "  True  True  True  True  True  True  True  True  True  True  True  True\n",
      "  True  True  True  True  True  True  True  True  True  True  True  True\n",
      "  True  True  True  True  True  True  True  True  True  True  True  True\n",
      "  True  True  True  True  True  True  True  True  True  True  True  True\n",
      "  True  True  True  True  True  True  True  True  True  True  True  True\n",
      "  True  True  True  True  True  True  True  True  True  True  True  True\n",
      "  True  True  True  True  True  True  True  True  True  True  True  True\n",
      "  True  True  True  True  True  True  True  True  True  True  True  True\n",
      "  True  True  True  True  True  True  True  True  True  True  True  True\n",
      "  True  True  True  True  True  True  True  True  True  True  True  True\n",
      "  True  True  True  True  True  True  True  True  True  True  True  True\n",
      "  True  True  True  True  True  True  True  True  True  True  True  True\n",
      "  True  True  True  True  True  True  True  True  True  True  True  True\n",
      "  True  True  True  True  True  True  True  True  True  True  True  True\n",
      "  True  True  True  True  True  True  True  True  True  True  True  True\n",
      "  True  True  True  True  True  True  True  True]\n"
     ]
    }
   ],
   "source": [
    "print(train1.columns == test1.columns)"
   ]
  },
  {
   "cell_type": "code",
   "execution_count": 44,
   "metadata": {},
   "outputs": [],
   "source": [
    "# x & y\n",
    "x = train1\n",
    "y = np.log(train_df['SalePrice'])"
   ]
  },
  {
   "cell_type": "code",
   "execution_count": 45,
   "metadata": {},
   "outputs": [
    {
     "name": "stdout",
     "output_type": "stream",
     "text": [
      "(1259, 224)\n",
      "(1259,)\n"
     ]
    }
   ],
   "source": [
    "print(x.shape)\n",
    "print(y.shape)"
   ]
  },
  {
   "cell_type": "markdown",
   "metadata": {},
   "source": [
    "- we will stop preprocessing tell here and start spliting so that we prevent `Data Leakage` between train and valid data sets."
   ]
  },
  {
   "cell_type": "markdown",
   "metadata": {},
   "source": [
    "### Spliting Train and Validation Data Sets"
   ]
  },
  {
   "cell_type": "code",
   "execution_count": 46,
   "metadata": {},
   "outputs": [],
   "source": [
    "from sklearn.model_selection import train_test_split"
   ]
  },
  {
   "cell_type": "code",
   "execution_count": 47,
   "metadata": {},
   "outputs": [],
   "source": [
    "x_train, x_valid, y_train, y_valid = train_test_split(x, y, test_size = 0.2, random_state = 42)"
   ]
  },
  {
   "cell_type": "code",
   "execution_count": 48,
   "metadata": {},
   "outputs": [
    {
     "name": "stderr",
     "output_type": "stream",
     "text": [
      "C:\\Users\\Wssam\\anaconda3\\lib\\site-packages\\pandas\\core\\series.py:4517: SettingWithCopyWarning: \n",
      "A value is trying to be set on a copy of a slice from a DataFrame\n",
      "\n",
      "See the caveats in the documentation: https://pandas.pydata.org/pandas-docs/stable/user_guide/indexing.html#returning-a-view-versus-a-copy\n",
      "  return super().fillna(\n"
     ]
    }
   ],
   "source": [
    "# Fill NaNs records with mean values\n",
    "x_train.fillna(x_train.mean(), axis=0, inplace=True)\n",
    "x_valid.fillna(x_valid.mean(), axis=0, inplace=True)\n",
    "# test1.fillna(test1.mean(), axis=0, inplace=True)"
   ]
  },
  {
   "cell_type": "markdown",
   "metadata": {},
   "source": [
    "### Model 1"
   ]
  },
  {
   "cell_type": "code",
   "execution_count": 49,
   "metadata": {},
   "outputs": [],
   "source": [
    "from sklearn.linear_model import LinearRegression\n",
    "from sklearn.metrics import mean_squared_error\n",
    "from sklearn.metrics import r2_score"
   ]
  },
  {
   "cell_type": "code",
   "execution_count": 50,
   "metadata": {},
   "outputs": [
    {
     "name": "stdout",
     "output_type": "stream",
     "text": [
      "R2 Score =  0.897422644994231\n",
      "RMSE =  22745.62434912109\n"
     ]
    }
   ],
   "source": [
    "model1 = LinearRegression().fit(x_train, y_train)\n",
    "x_valid_predicted = model1.predict(x_valid)\n",
    "print('R2 Score = ', r2_score(y_valid, x_valid_predicted))\n",
    "print('RMSE = ', np.sqrt(mean_squared_error(np.exp(y_valid), np.exp(x_valid_predicted))))"
   ]
  },
  {
   "cell_type": "markdown",
   "metadata": {},
   "source": [
    "### Re-Model 1 Using Different Catagorize Encoding Method"
   ]
  },
  {
   "cell_type": "code",
   "execution_count": 51,
   "metadata": {},
   "outputs": [
    {
     "name": "stdout",
     "output_type": "stream",
     "text": [
      "(1259, 74)\n",
      "(201, 73)\n"
     ]
    }
   ],
   "source": [
    "print(train_df.shape)\n",
    "print(test_df.shape)"
   ]
  },
  {
   "cell_type": "code",
   "execution_count": 52,
   "metadata": {},
   "outputs": [
    {
     "data": {
      "text/plain": [
       "['MSZoning',\n",
       " 'LotShape',\n",
       " 'LandContour',\n",
       " 'LotConfig',\n",
       " 'LandSlope',\n",
       " 'Neighborhood',\n",
       " 'Condition1',\n",
       " 'Condition2',\n",
       " 'BldgType',\n",
       " 'HouseStyle',\n",
       " 'RoofStyle',\n",
       " 'RoofMatl',\n",
       " 'Exterior1st',\n",
       " 'Exterior2nd',\n",
       " 'MasVnrType',\n",
       " 'ExterQual',\n",
       " 'ExterCond',\n",
       " 'Foundation',\n",
       " 'BsmtQual',\n",
       " 'BsmtCond',\n",
       " 'BsmtExposure',\n",
       " 'BsmtFinType1',\n",
       " 'BsmtFinType2',\n",
       " 'Heating',\n",
       " 'HeatingQC',\n",
       " 'CentralAir',\n",
       " 'Electrical',\n",
       " 'KitchenQual',\n",
       " 'Functional',\n",
       " 'FireplaceQu',\n",
       " 'GarageType',\n",
       " 'GarageFinish',\n",
       " 'GarageQual',\n",
       " 'GarageCond',\n",
       " 'PavedDrive',\n",
       " 'SaleType',\n",
       " 'SaleCondition']"
      ]
     },
     "execution_count": 52,
     "metadata": {},
     "output_type": "execute_result"
    }
   ],
   "source": [
    "catagories = list(train_df.select_dtypes(include='object').columns)\n",
    "catagories"
   ]
  },
  {
   "cell_type": "code",
   "execution_count": 53,
   "metadata": {},
   "outputs": [],
   "source": [
    "# Label Enconding Catagorical columns\n",
    "train_df_copy = train_df.copy()\n",
    "test_df_copy = test_df.copy()\n",
    "\n",
    "for col in catagories:\n",
    "    train_df_copy[col] = pd.factorize(train_df_copy[col])[0].reshape(-1, 1)\n",
    "    test_df_copy[col] = pd.factorize(test_df_copy[col])[0].reshape(-1, 1)"
   ]
  },
  {
   "cell_type": "code",
   "execution_count": 54,
   "metadata": {
    "scrolled": true
   },
   "outputs": [
    {
     "name": "stdout",
     "output_type": "stream",
     "text": [
      "(1259, 74)\n",
      "(201, 73)\n"
     ]
    }
   ],
   "source": [
    "print(train_df_copy.shape)\n",
    "print(test_df_copy.shape)"
   ]
  },
  {
   "cell_type": "code",
   "execution_count": 55,
   "metadata": {},
   "outputs": [
    {
     "data": {
      "text/plain": [
       "LotFrontage    218\n",
       "MasVnrArea       7\n",
       "GarageYrBlt     71\n",
       "dtype: int64"
      ]
     },
     "execution_count": 55,
     "metadata": {},
     "output_type": "execute_result"
    }
   ],
   "source": [
    "train_df_copy.loc[:, train_df_copy.isnull().any()].isnull().sum()"
   ]
  },
  {
   "cell_type": "code",
   "execution_count": 56,
   "metadata": {},
   "outputs": [
    {
     "data": {
      "text/plain": [
       "LotFrontage    41\n",
       "MasVnrArea      1\n",
       "GarageYrBlt    10\n",
       "dtype: int64"
      ]
     },
     "execution_count": 56,
     "metadata": {},
     "output_type": "execute_result"
    }
   ],
   "source": [
    "test_df_copy.loc[:, test_df_copy.isnull().any()].isnull().sum()"
   ]
  },
  {
   "cell_type": "code",
   "execution_count": 57,
   "metadata": {},
   "outputs": [],
   "source": [
    "# Filling NaNs Columns\n",
    "train_df_copy.fillna(train_df_copy.median(), axis=0, inplace=True)\n",
    "test_df_copy.fillna(test_df_copy.median(), axis=0, inplace=True)"
   ]
  },
  {
   "cell_type": "code",
   "execution_count": 58,
   "metadata": {},
   "outputs": [],
   "source": [
    "# x & y\n",
    "x = train_df_copy.drop('SalePrice', axis=1)\n",
    "y = np.log(train_df_copy['SalePrice'])"
   ]
  },
  {
   "cell_type": "code",
   "execution_count": 59,
   "metadata": {
    "scrolled": true
   },
   "outputs": [
    {
     "name": "stdout",
     "output_type": "stream",
     "text": [
      "(1259, 73)\n",
      "(1259,)\n"
     ]
    }
   ],
   "source": [
    "print(x.shape)\n",
    "print(y.shape)"
   ]
  },
  {
   "cell_type": "code",
   "execution_count": 60,
   "metadata": {},
   "outputs": [],
   "source": [
    "x_train1, x_valid1, y_train1, y_valid1 = train_test_split(x, y, test_size = 0.2, random_state = 42)"
   ]
  },
  {
   "cell_type": "code",
   "execution_count": 61,
   "metadata": {},
   "outputs": [
    {
     "name": "stdout",
     "output_type": "stream",
     "text": [
      "R2 Score =  0.8865880052757406\n",
      "RMSE =  24292.996815558956\n"
     ]
    }
   ],
   "source": [
    "model1 = LinearRegression().fit(x_train1, y_train1)\n",
    "x_valid1_predicted = model1.predict(x_valid1)\n",
    "print('R2 Score = ', r2_score(y_valid1, x_valid1_predicted))\n",
    "print('RMSE = ', np.sqrt(mean_squared_error(np.exp(y_valid1), np.exp(x_valid1_predicted))))"
   ]
  },
  {
   "cell_type": "markdown",
   "metadata": {},
   "source": [
    "- Both scores and RMSE are somwhow close, but using `OneHotEncoding is better`."
   ]
  },
  {
   "cell_type": "markdown",
   "metadata": {},
   "source": [
    "### Model 2  Pre-Processing\n",
    "- Modeling using the valuable features out of EDA\n",
    "    - LotArea: Lot size in square feet\n",
    "    - Neighborhood: Physical locations within Ames city limits\n",
    "    - OverallQual: Rates the overall material and finish of the house\n",
    "    - OverallCond: Rates the overall condition of the house\n",
    "    - YearBuilt: Original construction date\n",
    "    - Foundation: Type of foundation\n",
    "    - HeatingQC: Heating quality and condition\n",
    "    - 1stFlrSF: First Floor square feet\n",
    "    - 2ndFlrSF: Second floor square feet\n",
    "    - Fireplaces: Number of fireplaces\n",
    "    - GarageArea: Size of garage in square feet\n",
    "    - TotRmsAbvGrd: Total rooms above grade\n",
    "    - MoSold: Month Sold (MM)\n",
    "    - YrSold: Year Sold (YYYY)\n",
    "    - YearBuilt: Original construction date"
   ]
  },
  {
   "cell_type": "code",
   "execution_count": 62,
   "metadata": {},
   "outputs": [],
   "source": [
    "valuable_features = ['LotArea', 'Neighborhood', 'OverallQual', 'OverallCond', 'YearBuilt', 'Foundation', '1stFlrSF', '2ndFlrSF', 'GarageArea', 'TotRmsAbvGrd', 'MoSold', 'YrSold', 'YearBuilt']\n",
    "valuable_train = train_df[valuable_features]\n",
    "valuable_test = test_df[valuable_features]"
   ]
  },
  {
   "cell_type": "code",
   "execution_count": 63,
   "metadata": {},
   "outputs": [
    {
     "name": "stdout",
     "output_type": "stream",
     "text": [
      "<class 'pandas.core.frame.DataFrame'>\n",
      "Int64Index: 1259 entries, 1 to 1259\n",
      "Data columns (total 13 columns):\n",
      " #   Column        Non-Null Count  Dtype \n",
      "---  ------        --------------  ----- \n",
      " 0   LotArea       1259 non-null   int64 \n",
      " 1   Neighborhood  1259 non-null   object\n",
      " 2   OverallQual   1259 non-null   int64 \n",
      " 3   OverallCond   1259 non-null   int64 \n",
      " 4   YearBuilt     1259 non-null   int64 \n",
      " 5   Foundation    1259 non-null   object\n",
      " 6   1stFlrSF      1259 non-null   int64 \n",
      " 7   2ndFlrSF      1259 non-null   int64 \n",
      " 8   GarageArea    1259 non-null   int64 \n",
      " 9   TotRmsAbvGrd  1259 non-null   int64 \n",
      " 10  MoSold        1259 non-null   int64 \n",
      " 11  YrSold        1259 non-null   int64 \n",
      " 12  YearBuilt     1259 non-null   int64 \n",
      "dtypes: int64(11), object(2)\n",
      "memory usage: 137.7+ KB\n"
     ]
    }
   ],
   "source": [
    "valuable_train.info()"
   ]
  },
  {
   "cell_type": "code",
   "execution_count": 64,
   "metadata": {},
   "outputs": [
    {
     "name": "stdout",
     "output_type": "stream",
     "text": [
      "<class 'pandas.core.frame.DataFrame'>\n",
      "Int64Index: 201 entries, 1260 to 1460\n",
      "Data columns (total 13 columns):\n",
      " #   Column        Non-Null Count  Dtype \n",
      "---  ------        --------------  ----- \n",
      " 0   LotArea       201 non-null    int64 \n",
      " 1   Neighborhood  201 non-null    object\n",
      " 2   OverallQual   201 non-null    int64 \n",
      " 3   OverallCond   201 non-null    int64 \n",
      " 4   YearBuilt     201 non-null    int64 \n",
      " 5   Foundation    201 non-null    object\n",
      " 6   1stFlrSF      201 non-null    int64 \n",
      " 7   2ndFlrSF      201 non-null    int64 \n",
      " 8   GarageArea    201 non-null    int64 \n",
      " 9   TotRmsAbvGrd  201 non-null    int64 \n",
      " 10  MoSold        201 non-null    int64 \n",
      " 11  YrSold        201 non-null    int64 \n",
      " 12  YearBuilt     201 non-null    int64 \n",
      "dtypes: int64(11), object(2)\n",
      "memory usage: 22.0+ KB\n"
     ]
    }
   ],
   "source": [
    "valuable_test.info()"
   ]
  },
  {
   "cell_type": "code",
   "execution_count": 65,
   "metadata": {},
   "outputs": [
    {
     "name": "stdout",
     "output_type": "stream",
     "text": [
      "(1259, 42)\n",
      "(201, 39)\n"
     ]
    }
   ],
   "source": [
    "# OneHot Enconding Catagorical columns\n",
    "Encoded_train2 = pd.get_dummies(valuable_train)\n",
    "Encoded_test2 = pd.get_dummies(valuable_test)\n",
    "\n",
    "print(Encoded_train2.shape)\n",
    "print(Encoded_test2.shape)"
   ]
  },
  {
   "cell_type": "code",
   "execution_count": 66,
   "metadata": {},
   "outputs": [
    {
     "name": "stdout",
     "output_type": "stream",
     "text": [
      "(1259, 41)\n",
      "(201, 41)\n"
     ]
    }
   ],
   "source": [
    "# Align two dataframes\n",
    "train2, test2 = Encoded_train2.align(Encoded_test2, join='right', axis=1)\n",
    "\n",
    "print(train2.shape)\n",
    "print(test2.shape)"
   ]
  },
  {
   "cell_type": "code",
   "execution_count": 67,
   "metadata": {},
   "outputs": [
    {
     "name": "stdout",
     "output_type": "stream",
     "text": [
      "0\n",
      "0\n"
     ]
    }
   ],
   "source": [
    "print(train2.isnull().sum().sum())\n",
    "print(test2.isnull().sum().sum())"
   ]
  },
  {
   "cell_type": "code",
   "execution_count": 68,
   "metadata": {},
   "outputs": [],
   "source": [
    "x2 = train2\n",
    "y = np.log(train_df['SalePrice'])"
   ]
  },
  {
   "cell_type": "markdown",
   "metadata": {},
   "source": [
    "### Spliting Train and Validation Data Sets"
   ]
  },
  {
   "cell_type": "code",
   "execution_count": 69,
   "metadata": {},
   "outputs": [],
   "source": [
    "x_train2, x_valid2, y_train2, y_valid2 = train_test_split(x2, y, test_size = 0.2, random_state = 42)"
   ]
  },
  {
   "cell_type": "markdown",
   "metadata": {},
   "source": [
    "### Model 2"
   ]
  },
  {
   "cell_type": "code",
   "execution_count": 70,
   "metadata": {},
   "outputs": [
    {
     "name": "stdout",
     "output_type": "stream",
     "text": [
      "R2 Score =  0.8998240934342123\n",
      "RMSE =  22557.790298387787\n"
     ]
    }
   ],
   "source": [
    "model2 = LinearRegression().fit(x_train2, y_train2)\n",
    "x_valid2_predicted = model2.predict(x_valid2)\n",
    "print('R2 Score = ', r2_score(y_valid2, x_valid2_predicted))\n",
    "print('RMSE = ', np.sqrt(mean_squared_error(np.exp(y_valid2), np.exp(x_valid2_predicted))))"
   ]
  },
  {
   "cell_type": "markdown",
   "metadata": {},
   "source": [
    "### Model 3  Pre-Processing\n",
    "- Modeling using only Areas features, Place and Number of Rooms \n",
    "    - LotArea: Lot size in square feet\n",
    "    - Neighborhood: Physical locations within Ames city limits\n",
    "    - BsmtFinSF1: Type 1 finished square feet\n",
    "    - BsmtFinSF2: Type 2 finished square feet\n",
    "    - TotalBsmtSF: Total square feet of basement area\n",
    "    - GrLivArea: Above grade (ground) living area square feet\n",
    "    - 1stFlrSF: First Floor square feet\n",
    "    - 2ndFlrSF: Second floor square feet\n",
    "    - FullBath: Full bathrooms above grade\n",
    "    - TotRmsAbvGrd: Total rooms above grade (does not include bathrooms)"
   ]
  },
  {
   "cell_type": "code",
   "execution_count": 71,
   "metadata": {},
   "outputs": [],
   "source": [
    "new_valuable_features = ['LotArea', 'Neighborhood', 'BsmtFinSF1', 'BsmtFinSF2', 'TotalBsmtSF', '1stFlrSF', '2ndFlrSF', 'FullBath', 'TotRmsAbvGrd', 'GrLivArea']\n",
    "new_valuable_train = train_df[new_valuable_features]\n",
    "new_valuable_test = test_df[new_valuable_features]"
   ]
  },
  {
   "cell_type": "code",
   "execution_count": 72,
   "metadata": {},
   "outputs": [
    {
     "name": "stdout",
     "output_type": "stream",
     "text": [
      "<class 'pandas.core.frame.DataFrame'>\n",
      "Int64Index: 1259 entries, 1 to 1259\n",
      "Data columns (total 10 columns):\n",
      " #   Column        Non-Null Count  Dtype \n",
      "---  ------        --------------  ----- \n",
      " 0   LotArea       1259 non-null   int64 \n",
      " 1   Neighborhood  1259 non-null   object\n",
      " 2   BsmtFinSF1    1259 non-null   int64 \n",
      " 3   BsmtFinSF2    1259 non-null   int64 \n",
      " 4   TotalBsmtSF   1259 non-null   int64 \n",
      " 5   1stFlrSF      1259 non-null   int64 \n",
      " 6   2ndFlrSF      1259 non-null   int64 \n",
      " 7   FullBath      1259 non-null   int64 \n",
      " 8   TotRmsAbvGrd  1259 non-null   int64 \n",
      " 9   GrLivArea     1259 non-null   int64 \n",
      "dtypes: int64(9), object(1)\n",
      "memory usage: 108.2+ KB\n"
     ]
    }
   ],
   "source": [
    "new_valuable_train.info()"
   ]
  },
  {
   "cell_type": "code",
   "execution_count": 73,
   "metadata": {},
   "outputs": [
    {
     "name": "stdout",
     "output_type": "stream",
     "text": [
      "<class 'pandas.core.frame.DataFrame'>\n",
      "Int64Index: 201 entries, 1260 to 1460\n",
      "Data columns (total 10 columns):\n",
      " #   Column        Non-Null Count  Dtype \n",
      "---  ------        --------------  ----- \n",
      " 0   LotArea       201 non-null    int64 \n",
      " 1   Neighborhood  201 non-null    object\n",
      " 2   BsmtFinSF1    201 non-null    int64 \n",
      " 3   BsmtFinSF2    201 non-null    int64 \n",
      " 4   TotalBsmtSF   201 non-null    int64 \n",
      " 5   1stFlrSF      201 non-null    int64 \n",
      " 6   2ndFlrSF      201 non-null    int64 \n",
      " 7   FullBath      201 non-null    int64 \n",
      " 8   TotRmsAbvGrd  201 non-null    int64 \n",
      " 9   GrLivArea     201 non-null    int64 \n",
      "dtypes: int64(9), object(1)\n",
      "memory usage: 17.3+ KB\n"
     ]
    }
   ],
   "source": [
    "new_valuable_test.info()"
   ]
  },
  {
   "cell_type": "code",
   "execution_count": 74,
   "metadata": {},
   "outputs": [
    {
     "name": "stdout",
     "output_type": "stream",
     "text": [
      "(1259, 34)\n",
      "(201, 32)\n"
     ]
    }
   ],
   "source": [
    "# OneHot Enconding Catagorical columns\n",
    "Encoded_train3 = pd.get_dummies(new_valuable_train)\n",
    "Encoded_test3 = pd.get_dummies(new_valuable_test)\n",
    "\n",
    "print(Encoded_train3.shape)\n",
    "print(Encoded_test3.shape)"
   ]
  },
  {
   "cell_type": "code",
   "execution_count": 75,
   "metadata": {},
   "outputs": [
    {
     "name": "stdout",
     "output_type": "stream",
     "text": [
      "(1259, 32)\n",
      "(201, 32)\n"
     ]
    }
   ],
   "source": [
    "# Align two dataframes\n",
    "train3, test3 = Encoded_train3.align(Encoded_test3, join='right', axis=1)\n",
    "\n",
    "print(train3.shape)\n",
    "print(test3.shape)"
   ]
  },
  {
   "cell_type": "code",
   "execution_count": 76,
   "metadata": {},
   "outputs": [
    {
     "name": "stdout",
     "output_type": "stream",
     "text": [
      "0\n",
      "0\n"
     ]
    }
   ],
   "source": [
    "print(train3.isnull().sum().sum())\n",
    "print(test3.isnull().sum().sum())"
   ]
  },
  {
   "cell_type": "code",
   "execution_count": 77,
   "metadata": {},
   "outputs": [],
   "source": [
    "x3 = train3\n",
    "y = np.log(train_df['SalePrice'])"
   ]
  },
  {
   "cell_type": "markdown",
   "metadata": {},
   "source": [
    "### Spliting Train and Validation Data Sets"
   ]
  },
  {
   "cell_type": "code",
   "execution_count": 78,
   "metadata": {},
   "outputs": [],
   "source": [
    "x_train3, x_valid3, y_train3, y_valid3 = train_test_split(x3, y, test_size = 0.2, random_state = 42)"
   ]
  },
  {
   "cell_type": "markdown",
   "metadata": {},
   "source": [
    "### Model 3"
   ]
  },
  {
   "cell_type": "code",
   "execution_count": 79,
   "metadata": {},
   "outputs": [
    {
     "name": "stdout",
     "output_type": "stream",
     "text": [
      "R2 Score =  0.8444754618496886\n",
      "RMSE =  28510.697948459954\n"
     ]
    }
   ],
   "source": [
    "model3 = LinearRegression().fit(x_train3, y_train3)\n",
    "x_valid3_predicted = model3.predict(x_valid3)\n",
    "print('R2 Score = ', r2_score(y_valid3, x_valid3_predicted))\n",
    "print('RMSE = ', np.sqrt(mean_squared_error(np.exp(y_valid3), np.exp(x_valid3_predicted))))"
   ]
  },
  {
   "cell_type": "markdown",
   "metadata": {},
   "source": [
    "- Then the `best Model` is the `second one`"
   ]
  },
  {
   "cell_type": "markdown",
   "metadata": {},
   "source": [
    "### Test Prediction"
   ]
  },
  {
   "cell_type": "code",
   "execution_count": 83,
   "metadata": {},
   "outputs": [],
   "source": [
    "test_prediction = model2.predict(test2)\n",
    "test_prediction = np.exp(test_prediction)"
   ]
  },
  {
   "cell_type": "code",
   "execution_count": 84,
   "metadata": {},
   "outputs": [],
   "source": [
    "final_Output = pd.DataFrame({'Id': test2.index,'SalePrice': test_prediction})"
   ]
  },
  {
   "cell_type": "code",
   "execution_count": 85,
   "metadata": {},
   "outputs": [],
   "source": [
    "final_Output.to_csv('submission.csv', index=False)"
   ]
  }
 ],
 "metadata": {
  "kernelspec": {
   "display_name": "Python 3",
   "language": "python",
   "name": "python3"
  },
  "language_info": {
   "codemirror_mode": {
    "name": "ipython",
    "version": 3
   },
   "file_extension": ".py",
   "mimetype": "text/x-python",
   "name": "python",
   "nbconvert_exporter": "python",
   "pygments_lexer": "ipython3",
   "version": "3.8.5"
  }
 },
 "nbformat": 4,
 "nbformat_minor": 4
}
