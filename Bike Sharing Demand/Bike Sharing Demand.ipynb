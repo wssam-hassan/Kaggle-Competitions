{
 "cells": [
  {
   "cell_type": "markdown",
   "metadata": {},
   "source": [
    "### Imports & Load Data"
   ]
  },
  {
   "cell_type": "code",
   "execution_count": 1,
   "metadata": {},
   "outputs": [],
   "source": [
    "import numpy as np\n",
    "import pandas as pd\n",
    "%matplotlib inline\n",
    "import matplotlib.pyplot as plt\n",
    "import seaborn as sns"
   ]
  },
  {
   "cell_type": "code",
   "execution_count": 2,
   "metadata": {},
   "outputs": [],
   "source": [
    "train_df = pd.read_csv('bike sharing demand/train.csv')\n",
    "test_df = pd.read_csv('bike sharing demand/test.csv')"
   ]
  },
  {
   "cell_type": "markdown",
   "metadata": {},
   "source": [
    "### EDA & Visuals"
   ]
  },
  {
   "cell_type": "code",
   "execution_count": 3,
   "metadata": {},
   "outputs": [
    {
     "data": {
      "text/html": [
       "<div>\n",
       "<style scoped>\n",
       "    .dataframe tbody tr th:only-of-type {\n",
       "        vertical-align: middle;\n",
       "    }\n",
       "\n",
       "    .dataframe tbody tr th {\n",
       "        vertical-align: top;\n",
       "    }\n",
       "\n",
       "    .dataframe thead th {\n",
       "        text-align: right;\n",
       "    }\n",
       "</style>\n",
       "<table border=\"1\" class=\"dataframe\">\n",
       "  <thead>\n",
       "    <tr style=\"text-align: right;\">\n",
       "      <th></th>\n",
       "      <th>datetime</th>\n",
       "      <th>season</th>\n",
       "      <th>holiday</th>\n",
       "      <th>workingday</th>\n",
       "      <th>weather</th>\n",
       "      <th>temp</th>\n",
       "      <th>atemp</th>\n",
       "      <th>humidity</th>\n",
       "      <th>windspeed</th>\n",
       "      <th>casual</th>\n",
       "      <th>registered</th>\n",
       "      <th>count</th>\n",
       "    </tr>\n",
       "  </thead>\n",
       "  <tbody>\n",
       "    <tr>\n",
       "      <th>0</th>\n",
       "      <td>2011-01-01 00:00:00</td>\n",
       "      <td>1</td>\n",
       "      <td>0</td>\n",
       "      <td>0</td>\n",
       "      <td>1</td>\n",
       "      <td>9.84</td>\n",
       "      <td>14.395</td>\n",
       "      <td>81</td>\n",
       "      <td>0.0</td>\n",
       "      <td>3</td>\n",
       "      <td>13</td>\n",
       "      <td>16</td>\n",
       "    </tr>\n",
       "    <tr>\n",
       "      <th>1</th>\n",
       "      <td>2011-01-01 01:00:00</td>\n",
       "      <td>1</td>\n",
       "      <td>0</td>\n",
       "      <td>0</td>\n",
       "      <td>1</td>\n",
       "      <td>9.02</td>\n",
       "      <td>13.635</td>\n",
       "      <td>80</td>\n",
       "      <td>0.0</td>\n",
       "      <td>8</td>\n",
       "      <td>32</td>\n",
       "      <td>40</td>\n",
       "    </tr>\n",
       "    <tr>\n",
       "      <th>2</th>\n",
       "      <td>2011-01-01 02:00:00</td>\n",
       "      <td>1</td>\n",
       "      <td>0</td>\n",
       "      <td>0</td>\n",
       "      <td>1</td>\n",
       "      <td>9.02</td>\n",
       "      <td>13.635</td>\n",
       "      <td>80</td>\n",
       "      <td>0.0</td>\n",
       "      <td>5</td>\n",
       "      <td>27</td>\n",
       "      <td>32</td>\n",
       "    </tr>\n",
       "    <tr>\n",
       "      <th>3</th>\n",
       "      <td>2011-01-01 03:00:00</td>\n",
       "      <td>1</td>\n",
       "      <td>0</td>\n",
       "      <td>0</td>\n",
       "      <td>1</td>\n",
       "      <td>9.84</td>\n",
       "      <td>14.395</td>\n",
       "      <td>75</td>\n",
       "      <td>0.0</td>\n",
       "      <td>3</td>\n",
       "      <td>10</td>\n",
       "      <td>13</td>\n",
       "    </tr>\n",
       "    <tr>\n",
       "      <th>4</th>\n",
       "      <td>2011-01-01 04:00:00</td>\n",
       "      <td>1</td>\n",
       "      <td>0</td>\n",
       "      <td>0</td>\n",
       "      <td>1</td>\n",
       "      <td>9.84</td>\n",
       "      <td>14.395</td>\n",
       "      <td>75</td>\n",
       "      <td>0.0</td>\n",
       "      <td>0</td>\n",
       "      <td>1</td>\n",
       "      <td>1</td>\n",
       "    </tr>\n",
       "  </tbody>\n",
       "</table>\n",
       "</div>"
      ],
      "text/plain": [
       "              datetime  season  holiday  workingday  weather  temp   atemp  \\\n",
       "0  2011-01-01 00:00:00       1        0           0        1  9.84  14.395   \n",
       "1  2011-01-01 01:00:00       1        0           0        1  9.02  13.635   \n",
       "2  2011-01-01 02:00:00       1        0           0        1  9.02  13.635   \n",
       "3  2011-01-01 03:00:00       1        0           0        1  9.84  14.395   \n",
       "4  2011-01-01 04:00:00       1        0           0        1  9.84  14.395   \n",
       "\n",
       "   humidity  windspeed  casual  registered  count  \n",
       "0        81        0.0       3          13     16  \n",
       "1        80        0.0       8          32     40  \n",
       "2        80        0.0       5          27     32  \n",
       "3        75        0.0       3          10     13  \n",
       "4        75        0.0       0           1      1  "
      ]
     },
     "execution_count": 3,
     "metadata": {},
     "output_type": "execute_result"
    }
   ],
   "source": [
    "train_df.head()"
   ]
  },
  {
   "cell_type": "code",
   "execution_count": 4,
   "metadata": {},
   "outputs": [
    {
     "name": "stdout",
     "output_type": "stream",
     "text": [
      "<class 'pandas.core.frame.DataFrame'>\n",
      "RangeIndex: 10886 entries, 0 to 10885\n",
      "Data columns (total 12 columns):\n",
      " #   Column      Non-Null Count  Dtype  \n",
      "---  ------      --------------  -----  \n",
      " 0   datetime    10886 non-null  object \n",
      " 1   season      10886 non-null  int64  \n",
      " 2   holiday     10886 non-null  int64  \n",
      " 3   workingday  10886 non-null  int64  \n",
      " 4   weather     10886 non-null  int64  \n",
      " 5   temp        10886 non-null  float64\n",
      " 6   atemp       10886 non-null  float64\n",
      " 7   humidity    10886 non-null  int64  \n",
      " 8   windspeed   10886 non-null  float64\n",
      " 9   casual      10886 non-null  int64  \n",
      " 10  registered  10886 non-null  int64  \n",
      " 11  count       10886 non-null  int64  \n",
      "dtypes: float64(3), int64(8), object(1)\n",
      "memory usage: 1020.7+ KB\n"
     ]
    }
   ],
   "source": [
    "train_df.info()"
   ]
  },
  {
   "cell_type": "code",
   "execution_count": 5,
   "metadata": {},
   "outputs": [
    {
     "data": {
      "text/html": [
       "<div>\n",
       "<style scoped>\n",
       "    .dataframe tbody tr th:only-of-type {\n",
       "        vertical-align: middle;\n",
       "    }\n",
       "\n",
       "    .dataframe tbody tr th {\n",
       "        vertical-align: top;\n",
       "    }\n",
       "\n",
       "    .dataframe thead th {\n",
       "        text-align: right;\n",
       "    }\n",
       "</style>\n",
       "<table border=\"1\" class=\"dataframe\">\n",
       "  <thead>\n",
       "    <tr style=\"text-align: right;\">\n",
       "      <th></th>\n",
       "      <th>datetime</th>\n",
       "      <th>season</th>\n",
       "      <th>holiday</th>\n",
       "      <th>workingday</th>\n",
       "      <th>weather</th>\n",
       "      <th>temp</th>\n",
       "      <th>atemp</th>\n",
       "      <th>humidity</th>\n",
       "      <th>windspeed</th>\n",
       "    </tr>\n",
       "  </thead>\n",
       "  <tbody>\n",
       "    <tr>\n",
       "      <th>0</th>\n",
       "      <td>2011-01-20 00:00:00</td>\n",
       "      <td>1</td>\n",
       "      <td>0</td>\n",
       "      <td>1</td>\n",
       "      <td>1</td>\n",
       "      <td>10.66</td>\n",
       "      <td>11.365</td>\n",
       "      <td>56</td>\n",
       "      <td>26.0027</td>\n",
       "    </tr>\n",
       "    <tr>\n",
       "      <th>1</th>\n",
       "      <td>2011-01-20 01:00:00</td>\n",
       "      <td>1</td>\n",
       "      <td>0</td>\n",
       "      <td>1</td>\n",
       "      <td>1</td>\n",
       "      <td>10.66</td>\n",
       "      <td>13.635</td>\n",
       "      <td>56</td>\n",
       "      <td>0.0000</td>\n",
       "    </tr>\n",
       "    <tr>\n",
       "      <th>2</th>\n",
       "      <td>2011-01-20 02:00:00</td>\n",
       "      <td>1</td>\n",
       "      <td>0</td>\n",
       "      <td>1</td>\n",
       "      <td>1</td>\n",
       "      <td>10.66</td>\n",
       "      <td>13.635</td>\n",
       "      <td>56</td>\n",
       "      <td>0.0000</td>\n",
       "    </tr>\n",
       "    <tr>\n",
       "      <th>3</th>\n",
       "      <td>2011-01-20 03:00:00</td>\n",
       "      <td>1</td>\n",
       "      <td>0</td>\n",
       "      <td>1</td>\n",
       "      <td>1</td>\n",
       "      <td>10.66</td>\n",
       "      <td>12.880</td>\n",
       "      <td>56</td>\n",
       "      <td>11.0014</td>\n",
       "    </tr>\n",
       "    <tr>\n",
       "      <th>4</th>\n",
       "      <td>2011-01-20 04:00:00</td>\n",
       "      <td>1</td>\n",
       "      <td>0</td>\n",
       "      <td>1</td>\n",
       "      <td>1</td>\n",
       "      <td>10.66</td>\n",
       "      <td>12.880</td>\n",
       "      <td>56</td>\n",
       "      <td>11.0014</td>\n",
       "    </tr>\n",
       "  </tbody>\n",
       "</table>\n",
       "</div>"
      ],
      "text/plain": [
       "              datetime  season  holiday  workingday  weather   temp   atemp  \\\n",
       "0  2011-01-20 00:00:00       1        0           1        1  10.66  11.365   \n",
       "1  2011-01-20 01:00:00       1        0           1        1  10.66  13.635   \n",
       "2  2011-01-20 02:00:00       1        0           1        1  10.66  13.635   \n",
       "3  2011-01-20 03:00:00       1        0           1        1  10.66  12.880   \n",
       "4  2011-01-20 04:00:00       1        0           1        1  10.66  12.880   \n",
       "\n",
       "   humidity  windspeed  \n",
       "0        56    26.0027  \n",
       "1        56     0.0000  \n",
       "2        56     0.0000  \n",
       "3        56    11.0014  \n",
       "4        56    11.0014  "
      ]
     },
     "execution_count": 5,
     "metadata": {},
     "output_type": "execute_result"
    }
   ],
   "source": [
    "test_df.head()"
   ]
  },
  {
   "cell_type": "code",
   "execution_count": 6,
   "metadata": {},
   "outputs": [
    {
     "name": "stdout",
     "output_type": "stream",
     "text": [
      "<class 'pandas.core.frame.DataFrame'>\n",
      "RangeIndex: 6493 entries, 0 to 6492\n",
      "Data columns (total 9 columns):\n",
      " #   Column      Non-Null Count  Dtype  \n",
      "---  ------      --------------  -----  \n",
      " 0   datetime    6493 non-null   object \n",
      " 1   season      6493 non-null   int64  \n",
      " 2   holiday     6493 non-null   int64  \n",
      " 3   workingday  6493 non-null   int64  \n",
      " 4   weather     6493 non-null   int64  \n",
      " 5   temp        6493 non-null   float64\n",
      " 6   atemp       6493 non-null   float64\n",
      " 7   humidity    6493 non-null   int64  \n",
      " 8   windspeed   6493 non-null   float64\n",
      "dtypes: float64(3), int64(5), object(1)\n",
      "memory usage: 456.7+ KB\n"
     ]
    }
   ],
   "source": [
    "test_df.info()"
   ]
  },
  {
   "cell_type": "code",
   "execution_count": 7,
   "metadata": {},
   "outputs": [
    {
     "data": {
      "text/plain": [
       "datetime      0\n",
       "season        0\n",
       "holiday       0\n",
       "workingday    0\n",
       "weather       0\n",
       "temp          0\n",
       "atemp         0\n",
       "humidity      0\n",
       "windspeed     0\n",
       "casual        0\n",
       "registered    0\n",
       "count         0\n",
       "dtype: int64"
      ]
     },
     "execution_count": 7,
     "metadata": {},
     "output_type": "execute_result"
    }
   ],
   "source": [
    "# NANs check\n",
    "train_df.isnull().sum()"
   ]
  },
  {
   "cell_type": "code",
   "execution_count": 8,
   "metadata": {},
   "outputs": [
    {
     "data": {
      "text/plain": [
       "datetime      0\n",
       "season        0\n",
       "holiday       0\n",
       "workingday    0\n",
       "weather       0\n",
       "temp          0\n",
       "atemp         0\n",
       "humidity      0\n",
       "windspeed     0\n",
       "dtype: int64"
      ]
     },
     "execution_count": 8,
     "metadata": {},
     "output_type": "execute_result"
    }
   ],
   "source": [
    "test_df.isnull().sum()"
   ]
  },
  {
   "cell_type": "markdown",
   "metadata": {},
   "source": [
    "- There's `no NaNs`"
   ]
  },
  {
   "cell_type": "code",
   "execution_count": 9,
   "metadata": {},
   "outputs": [
    {
     "data": {
      "text/plain": [
       "0"
      ]
     },
     "execution_count": 9,
     "metadata": {},
     "output_type": "execute_result"
    }
   ],
   "source": [
    "# Duplicates check\n",
    "train_df.duplicated().sum()"
   ]
  },
  {
   "cell_type": "code",
   "execution_count": 10,
   "metadata": {},
   "outputs": [
    {
     "data": {
      "text/plain": [
       "0"
      ]
     },
     "execution_count": 10,
     "metadata": {},
     "output_type": "execute_result"
    }
   ],
   "source": [
    "test_df.duplicated().sum()"
   ]
  },
  {
   "cell_type": "markdown",
   "metadata": {},
   "source": [
    "- There's `no duplicates`"
   ]
  },
  {
   "cell_type": "code",
   "execution_count": 44,
   "metadata": {},
   "outputs": [
    {
     "data": {
      "text/html": [
       "<div>\n",
       "<style scoped>\n",
       "    .dataframe tbody tr th:only-of-type {\n",
       "        vertical-align: middle;\n",
       "    }\n",
       "\n",
       "    .dataframe tbody tr th {\n",
       "        vertical-align: top;\n",
       "    }\n",
       "\n",
       "    .dataframe thead th {\n",
       "        text-align: right;\n",
       "    }\n",
       "</style>\n",
       "<table border=\"1\" class=\"dataframe\">\n",
       "  <thead>\n",
       "    <tr style=\"text-align: right;\">\n",
       "      <th></th>\n",
       "      <th>holiday</th>\n",
       "      <th>workingday</th>\n",
       "      <th>weather</th>\n",
       "      <th>temp</th>\n",
       "      <th>humidity</th>\n",
       "      <th>windspeed</th>\n",
       "      <th>casual</th>\n",
       "      <th>registered</th>\n",
       "      <th>count</th>\n",
       "      <th>year</th>\n",
       "      <th>month</th>\n",
       "      <th>day</th>\n",
       "      <th>hour</th>\n",
       "      <th>day-of-week</th>\n",
       "      <th>week_end</th>\n",
       "      <th>rush_hour</th>\n",
       "      <th>sleepy_hour</th>\n",
       "      <th>improper_humidity</th>\n",
       "    </tr>\n",
       "  </thead>\n",
       "  <tbody>\n",
       "    <tr>\n",
       "      <th>count</th>\n",
       "      <td>10886.000000</td>\n",
       "      <td>10886.000000</td>\n",
       "      <td>10886.000000</td>\n",
       "      <td>10886.00000</td>\n",
       "      <td>10886.000000</td>\n",
       "      <td>10886.000000</td>\n",
       "      <td>10886.000000</td>\n",
       "      <td>10886.000000</td>\n",
       "      <td>10886.000000</td>\n",
       "      <td>10886.000000</td>\n",
       "      <td>10886.000000</td>\n",
       "      <td>10886.000000</td>\n",
       "      <td>10886.000000</td>\n",
       "      <td>10886.000000</td>\n",
       "      <td>10886.000000</td>\n",
       "      <td>10886.000000</td>\n",
       "      <td>10886.000000</td>\n",
       "      <td>10886.000000</td>\n",
       "    </tr>\n",
       "    <tr>\n",
       "      <th>mean</th>\n",
       "      <td>0.028569</td>\n",
       "      <td>0.680875</td>\n",
       "      <td>1.418427</td>\n",
       "      <td>20.23086</td>\n",
       "      <td>61.886460</td>\n",
       "      <td>12.799395</td>\n",
       "      <td>36.021955</td>\n",
       "      <td>155.552177</td>\n",
       "      <td>191.574132</td>\n",
       "      <td>2011.501929</td>\n",
       "      <td>6.521495</td>\n",
       "      <td>9.992559</td>\n",
       "      <td>11.541613</td>\n",
       "      <td>2.980066</td>\n",
       "      <td>0.290557</td>\n",
       "      <td>0.125574</td>\n",
       "      <td>0.246555</td>\n",
       "      <td>0.354768</td>\n",
       "    </tr>\n",
       "    <tr>\n",
       "      <th>std</th>\n",
       "      <td>0.166599</td>\n",
       "      <td>0.466159</td>\n",
       "      <td>0.633839</td>\n",
       "      <td>7.79159</td>\n",
       "      <td>19.245033</td>\n",
       "      <td>8.164537</td>\n",
       "      <td>49.960477</td>\n",
       "      <td>151.039033</td>\n",
       "      <td>181.144454</td>\n",
       "      <td>0.500019</td>\n",
       "      <td>3.444373</td>\n",
       "      <td>5.476608</td>\n",
       "      <td>6.915838</td>\n",
       "      <td>2.002357</td>\n",
       "      <td>0.454040</td>\n",
       "      <td>0.331384</td>\n",
       "      <td>0.431025</td>\n",
       "      <td>0.478465</td>\n",
       "    </tr>\n",
       "    <tr>\n",
       "      <th>min</th>\n",
       "      <td>0.000000</td>\n",
       "      <td>0.000000</td>\n",
       "      <td>1.000000</td>\n",
       "      <td>0.82000</td>\n",
       "      <td>0.000000</td>\n",
       "      <td>0.000000</td>\n",
       "      <td>0.000000</td>\n",
       "      <td>0.000000</td>\n",
       "      <td>1.000000</td>\n",
       "      <td>2011.000000</td>\n",
       "      <td>1.000000</td>\n",
       "      <td>1.000000</td>\n",
       "      <td>0.000000</td>\n",
       "      <td>0.000000</td>\n",
       "      <td>0.000000</td>\n",
       "      <td>0.000000</td>\n",
       "      <td>0.000000</td>\n",
       "      <td>0.000000</td>\n",
       "    </tr>\n",
       "    <tr>\n",
       "      <th>25%</th>\n",
       "      <td>0.000000</td>\n",
       "      <td>0.000000</td>\n",
       "      <td>1.000000</td>\n",
       "      <td>13.94000</td>\n",
       "      <td>47.000000</td>\n",
       "      <td>7.001500</td>\n",
       "      <td>4.000000</td>\n",
       "      <td>36.000000</td>\n",
       "      <td>42.000000</td>\n",
       "      <td>2011.000000</td>\n",
       "      <td>4.000000</td>\n",
       "      <td>5.000000</td>\n",
       "      <td>6.000000</td>\n",
       "      <td>1.000000</td>\n",
       "      <td>0.000000</td>\n",
       "      <td>0.000000</td>\n",
       "      <td>0.000000</td>\n",
       "      <td>0.000000</td>\n",
       "    </tr>\n",
       "    <tr>\n",
       "      <th>50%</th>\n",
       "      <td>0.000000</td>\n",
       "      <td>1.000000</td>\n",
       "      <td>1.000000</td>\n",
       "      <td>20.50000</td>\n",
       "      <td>62.000000</td>\n",
       "      <td>12.998000</td>\n",
       "      <td>17.000000</td>\n",
       "      <td>118.000000</td>\n",
       "      <td>145.000000</td>\n",
       "      <td>2012.000000</td>\n",
       "      <td>7.000000</td>\n",
       "      <td>10.000000</td>\n",
       "      <td>12.000000</td>\n",
       "      <td>3.000000</td>\n",
       "      <td>0.000000</td>\n",
       "      <td>0.000000</td>\n",
       "      <td>0.000000</td>\n",
       "      <td>0.000000</td>\n",
       "    </tr>\n",
       "    <tr>\n",
       "      <th>75%</th>\n",
       "      <td>0.000000</td>\n",
       "      <td>1.000000</td>\n",
       "      <td>2.000000</td>\n",
       "      <td>26.24000</td>\n",
       "      <td>77.000000</td>\n",
       "      <td>16.997900</td>\n",
       "      <td>49.000000</td>\n",
       "      <td>222.000000</td>\n",
       "      <td>284.000000</td>\n",
       "      <td>2012.000000</td>\n",
       "      <td>10.000000</td>\n",
       "      <td>15.000000</td>\n",
       "      <td>18.000000</td>\n",
       "      <td>5.000000</td>\n",
       "      <td>1.000000</td>\n",
       "      <td>0.000000</td>\n",
       "      <td>0.000000</td>\n",
       "      <td>1.000000</td>\n",
       "    </tr>\n",
       "    <tr>\n",
       "      <th>max</th>\n",
       "      <td>1.000000</td>\n",
       "      <td>1.000000</td>\n",
       "      <td>4.000000</td>\n",
       "      <td>41.00000</td>\n",
       "      <td>100.000000</td>\n",
       "      <td>56.996900</td>\n",
       "      <td>367.000000</td>\n",
       "      <td>886.000000</td>\n",
       "      <td>977.000000</td>\n",
       "      <td>2012.000000</td>\n",
       "      <td>12.000000</td>\n",
       "      <td>19.000000</td>\n",
       "      <td>23.000000</td>\n",
       "      <td>6.000000</td>\n",
       "      <td>1.000000</td>\n",
       "      <td>1.000000</td>\n",
       "      <td>1.000000</td>\n",
       "      <td>1.000000</td>\n",
       "    </tr>\n",
       "  </tbody>\n",
       "</table>\n",
       "</div>"
      ],
      "text/plain": [
       "            holiday    workingday       weather         temp      humidity  \\\n",
       "count  10886.000000  10886.000000  10886.000000  10886.00000  10886.000000   \n",
       "mean       0.028569      0.680875      1.418427     20.23086     61.886460   \n",
       "std        0.166599      0.466159      0.633839      7.79159     19.245033   \n",
       "min        0.000000      0.000000      1.000000      0.82000      0.000000   \n",
       "25%        0.000000      0.000000      1.000000     13.94000     47.000000   \n",
       "50%        0.000000      1.000000      1.000000     20.50000     62.000000   \n",
       "75%        0.000000      1.000000      2.000000     26.24000     77.000000   \n",
       "max        1.000000      1.000000      4.000000     41.00000    100.000000   \n",
       "\n",
       "          windspeed        casual    registered         count          year  \\\n",
       "count  10886.000000  10886.000000  10886.000000  10886.000000  10886.000000   \n",
       "mean      12.799395     36.021955    155.552177    191.574132   2011.501929   \n",
       "std        8.164537     49.960477    151.039033    181.144454      0.500019   \n",
       "min        0.000000      0.000000      0.000000      1.000000   2011.000000   \n",
       "25%        7.001500      4.000000     36.000000     42.000000   2011.000000   \n",
       "50%       12.998000     17.000000    118.000000    145.000000   2012.000000   \n",
       "75%       16.997900     49.000000    222.000000    284.000000   2012.000000   \n",
       "max       56.996900    367.000000    886.000000    977.000000   2012.000000   \n",
       "\n",
       "              month           day          hour   day-of-week      week_end  \\\n",
       "count  10886.000000  10886.000000  10886.000000  10886.000000  10886.000000   \n",
       "mean       6.521495      9.992559     11.541613      2.980066      0.290557   \n",
       "std        3.444373      5.476608      6.915838      2.002357      0.454040   \n",
       "min        1.000000      1.000000      0.000000      0.000000      0.000000   \n",
       "25%        4.000000      5.000000      6.000000      1.000000      0.000000   \n",
       "50%        7.000000     10.000000     12.000000      3.000000      0.000000   \n",
       "75%       10.000000     15.000000     18.000000      5.000000      1.000000   \n",
       "max       12.000000     19.000000     23.000000      6.000000      1.000000   \n",
       "\n",
       "          rush_hour   sleepy_hour  improper_humidity  \n",
       "count  10886.000000  10886.000000       10886.000000  \n",
       "mean       0.125574      0.246555           0.354768  \n",
       "std        0.331384      0.431025           0.478465  \n",
       "min        0.000000      0.000000           0.000000  \n",
       "25%        0.000000      0.000000           0.000000  \n",
       "50%        0.000000      0.000000           0.000000  \n",
       "75%        0.000000      0.000000           1.000000  \n",
       "max        1.000000      1.000000           1.000000  "
      ]
     },
     "execution_count": 44,
     "metadata": {},
     "output_type": "execute_result"
    }
   ],
   "source": [
    "# Datasets statistics\n",
    "train_df.describe()"
   ]
  },
  {
   "cell_type": "code",
   "execution_count": 61,
   "metadata": {},
   "outputs": [
    {
     "data": {
      "image/png": "[encoded data removed]",
      "text/plain": [
       "<Figure size 576x432 with 1 Axes>"
      ]
     },
     "metadata": {
      "needs_background": "light"
     },
     "output_type": "display_data"
    }
   ],
   "source": [
    "# box plotting casual, registed and count\n",
    "plt.figure(figsize=(8, 6))\n",
    "plt.boxplot([train_df['casual'], train_df['registered'], train_df['count']]);"
   ]
  },
  {
   "cell_type": "code",
   "execution_count": 63,
   "metadata": {},
   "outputs": [
    {
     "data": {
      "image/png": "[encoded data removed]",
      "text/plain": [
       "<Figure size 432x288 with 1 Axes>"
      ]
     },
     "metadata": {
      "needs_background": "light"
     },
     "output_type": "display_data"
    }
   ],
   "source": [
    "plt.boxplot([np.log1p(train_df['casual']), np.log1p(train_df['registered']), np.log1p(train_df['count'])]);"
   ]
  },
  {
   "cell_type": "markdown",
   "metadata": {},
   "source": [
    "- Using log 1 positive with casual and registed columns will affect well in modeling as almost no outliers."
   ]
  },
  {
   "cell_type": "code",
   "execution_count": 11,
   "metadata": {},
   "outputs": [],
   "source": [
    "# Extracting year, month, day, hour from datetime feature\n",
    "\n",
    "train_df['datetime'] = pd.to_datetime(train_df['datetime'], format='%Y-%m-%d %H')\n",
    "test_df['datetime'] = pd.to_datetime(test_df['datetime'], format='%Y-%m-%d %H')\n",
    "\n",
    "train_df['year'] = train_df['datetime'].dt.year\n",
    "test_df['year'] = test_df['datetime'].dt.year\n",
    "\n",
    "train_df['month'] = train_df['datetime'].dt.month\n",
    "test_df['month'] = test_df['datetime'].dt.month\n",
    "\n",
    "train_df['day'] = train_df['datetime'].dt.day\n",
    "test_df['day'] = test_df['datetime'].dt.day\n",
    "\n",
    "train_df['hour'] = train_df['datetime'].dt.hour\n",
    "test_df['hour'] = test_df['datetime'].dt.hour\n",
    "\n",
    "train_df['day-of-week'] = train_df['datetime'].dt.day_name()\n",
    "test_df['day-of-week'] = test_df['datetime'].dt.day_name()"
   ]
  },
  {
   "cell_type": "code",
   "execution_count": 12,
   "metadata": {},
   "outputs": [
    {
     "data": {
      "image/png": "[encoded data removed]",
      "text/plain": [
       "<Figure size 1008x864 with 2 Axes>"
      ]
     },
     "metadata": {
      "needs_background": "light"
     },
     "output_type": "display_data"
    }
   ],
   "source": [
    "# feature correlation\n",
    "plt.figure(figsize=(14, 12))\n",
    "sns.heatmap(train_df.corr());"
   ]
  },
  {
   "cell_type": "code",
   "execution_count": 13,
   "metadata": {},
   "outputs": [
    {
     "data": {
      "text/html": [
       "<div>\n",
       "<style scoped>\n",
       "    .dataframe tbody tr th:only-of-type {\n",
       "        vertical-align: middle;\n",
       "    }\n",
       "\n",
       "    .dataframe tbody tr th {\n",
       "        vertical-align: top;\n",
       "    }\n",
       "\n",
       "    .dataframe thead th {\n",
       "        text-align: right;\n",
       "    }\n",
       "</style>\n",
       "<table border=\"1\" class=\"dataframe\">\n",
       "  <thead>\n",
       "    <tr style=\"text-align: right;\">\n",
       "      <th></th>\n",
       "      <th>season</th>\n",
       "      <th>holiday</th>\n",
       "      <th>workingday</th>\n",
       "      <th>weather</th>\n",
       "      <th>temp</th>\n",
       "      <th>atemp</th>\n",
       "      <th>humidity</th>\n",
       "      <th>windspeed</th>\n",
       "      <th>casual</th>\n",
       "      <th>registered</th>\n",
       "      <th>count</th>\n",
       "      <th>year</th>\n",
       "      <th>month</th>\n",
       "      <th>day</th>\n",
       "      <th>hour</th>\n",
       "    </tr>\n",
       "  </thead>\n",
       "  <tbody>\n",
       "    <tr>\n",
       "      <th>season</th>\n",
       "      <td>1.000000</td>\n",
       "      <td>0.029368</td>\n",
       "      <td>-0.008126</td>\n",
       "      <td>0.008879</td>\n",
       "      <td>0.258689</td>\n",
       "      <td>0.264744</td>\n",
       "      <td>0.190610</td>\n",
       "      <td>-0.147121</td>\n",
       "      <td>0.096758</td>\n",
       "      <td>0.164011</td>\n",
       "      <td>0.163439</td>\n",
       "      <td>-0.004797</td>\n",
       "      <td>0.971524</td>\n",
       "      <td>0.001729</td>\n",
       "      <td>-0.006546</td>\n",
       "    </tr>\n",
       "    <tr>\n",
       "      <th>holiday</th>\n",
       "      <td>0.029368</td>\n",
       "      <td>1.000000</td>\n",
       "      <td>-0.250491</td>\n",
       "      <td>-0.007074</td>\n",
       "      <td>0.000295</td>\n",
       "      <td>-0.005215</td>\n",
       "      <td>0.001929</td>\n",
       "      <td>0.008409</td>\n",
       "      <td>0.043799</td>\n",
       "      <td>-0.020956</td>\n",
       "      <td>-0.005393</td>\n",
       "      <td>0.012021</td>\n",
       "      <td>0.001731</td>\n",
       "      <td>-0.015877</td>\n",
       "      <td>-0.000354</td>\n",
       "    </tr>\n",
       "    <tr>\n",
       "      <th>workingday</th>\n",
       "      <td>-0.008126</td>\n",
       "      <td>-0.250491</td>\n",
       "      <td>1.000000</td>\n",
       "      <td>0.033772</td>\n",
       "      <td>0.029966</td>\n",
       "      <td>0.024660</td>\n",
       "      <td>-0.010880</td>\n",
       "      <td>0.013373</td>\n",
       "      <td>-0.319111</td>\n",
       "      <td>0.119460</td>\n",
       "      <td>0.011594</td>\n",
       "      <td>-0.002482</td>\n",
       "      <td>-0.003394</td>\n",
       "      <td>0.009829</td>\n",
       "      <td>0.002780</td>\n",
       "    </tr>\n",
       "    <tr>\n",
       "      <th>weather</th>\n",
       "      <td>0.008879</td>\n",
       "      <td>-0.007074</td>\n",
       "      <td>0.033772</td>\n",
       "      <td>1.000000</td>\n",
       "      <td>-0.055035</td>\n",
       "      <td>-0.055376</td>\n",
       "      <td>0.406244</td>\n",
       "      <td>0.007261</td>\n",
       "      <td>-0.135918</td>\n",
       "      <td>-0.109340</td>\n",
       "      <td>-0.128655</td>\n",
       "      <td>-0.012548</td>\n",
       "      <td>0.012144</td>\n",
       "      <td>-0.007890</td>\n",
       "      <td>-0.022740</td>\n",
       "    </tr>\n",
       "    <tr>\n",
       "      <th>temp</th>\n",
       "      <td>0.258689</td>\n",
       "      <td>0.000295</td>\n",
       "      <td>0.029966</td>\n",
       "      <td>-0.055035</td>\n",
       "      <td>1.000000</td>\n",
       "      <td>0.984948</td>\n",
       "      <td>-0.064949</td>\n",
       "      <td>-0.017852</td>\n",
       "      <td>0.467097</td>\n",
       "      <td>0.318571</td>\n",
       "      <td>0.394454</td>\n",
       "      <td>0.061226</td>\n",
       "      <td>0.257589</td>\n",
       "      <td>0.015551</td>\n",
       "      <td>0.145430</td>\n",
       "    </tr>\n",
       "    <tr>\n",
       "      <th>atemp</th>\n",
       "      <td>0.264744</td>\n",
       "      <td>-0.005215</td>\n",
       "      <td>0.024660</td>\n",
       "      <td>-0.055376</td>\n",
       "      <td>0.984948</td>\n",
       "      <td>1.000000</td>\n",
       "      <td>-0.043536</td>\n",
       "      <td>-0.057473</td>\n",
       "      <td>0.462067</td>\n",
       "      <td>0.314635</td>\n",
       "      <td>0.389784</td>\n",
       "      <td>0.058540</td>\n",
       "      <td>0.264173</td>\n",
       "      <td>0.011866</td>\n",
       "      <td>0.140343</td>\n",
       "    </tr>\n",
       "    <tr>\n",
       "      <th>humidity</th>\n",
       "      <td>0.190610</td>\n",
       "      <td>0.001929</td>\n",
       "      <td>-0.010880</td>\n",
       "      <td>0.406244</td>\n",
       "      <td>-0.064949</td>\n",
       "      <td>-0.043536</td>\n",
       "      <td>1.000000</td>\n",
       "      <td>-0.318607</td>\n",
       "      <td>-0.348187</td>\n",
       "      <td>-0.265458</td>\n",
       "      <td>-0.317371</td>\n",
       "      <td>-0.078606</td>\n",
       "      <td>0.204537</td>\n",
       "      <td>-0.011335</td>\n",
       "      <td>-0.278011</td>\n",
       "    </tr>\n",
       "    <tr>\n",
       "      <th>windspeed</th>\n",
       "      <td>-0.147121</td>\n",
       "      <td>0.008409</td>\n",
       "      <td>0.013373</td>\n",
       "      <td>0.007261</td>\n",
       "      <td>-0.017852</td>\n",
       "      <td>-0.057473</td>\n",
       "      <td>-0.318607</td>\n",
       "      <td>1.000000</td>\n",
       "      <td>0.092276</td>\n",
       "      <td>0.091052</td>\n",
       "      <td>0.101369</td>\n",
       "      <td>-0.015221</td>\n",
       "      <td>-0.150192</td>\n",
       "      <td>0.036157</td>\n",
       "      <td>0.146631</td>\n",
       "    </tr>\n",
       "    <tr>\n",
       "      <th>casual</th>\n",
       "      <td>0.096758</td>\n",
       "      <td>0.043799</td>\n",
       "      <td>-0.319111</td>\n",
       "      <td>-0.135918</td>\n",
       "      <td>0.467097</td>\n",
       "      <td>0.462067</td>\n",
       "      <td>-0.348187</td>\n",
       "      <td>0.092276</td>\n",
       "      <td>1.000000</td>\n",
       "      <td>0.497250</td>\n",
       "      <td>0.690414</td>\n",
       "      <td>0.145241</td>\n",
       "      <td>0.092722</td>\n",
       "      <td>0.014109</td>\n",
       "      <td>0.302045</td>\n",
       "    </tr>\n",
       "    <tr>\n",
       "      <th>registered</th>\n",
       "      <td>0.164011</td>\n",
       "      <td>-0.020956</td>\n",
       "      <td>0.119460</td>\n",
       "      <td>-0.109340</td>\n",
       "      <td>0.318571</td>\n",
       "      <td>0.314635</td>\n",
       "      <td>-0.265458</td>\n",
       "      <td>0.091052</td>\n",
       "      <td>0.497250</td>\n",
       "      <td>1.000000</td>\n",
       "      <td>0.970948</td>\n",
       "      <td>0.264265</td>\n",
       "      <td>0.169451</td>\n",
       "      <td>0.019111</td>\n",
       "      <td>0.380540</td>\n",
       "    </tr>\n",
       "    <tr>\n",
       "      <th>count</th>\n",
       "      <td>0.163439</td>\n",
       "      <td>-0.005393</td>\n",
       "      <td>0.011594</td>\n",
       "      <td>-0.128655</td>\n",
       "      <td>0.394454</td>\n",
       "      <td>0.389784</td>\n",
       "      <td>-0.317371</td>\n",
       "      <td>0.101369</td>\n",
       "      <td>0.690414</td>\n",
       "      <td>0.970948</td>\n",
       "      <td>1.000000</td>\n",
       "      <td>0.260403</td>\n",
       "      <td>0.166862</td>\n",
       "      <td>0.019826</td>\n",
       "      <td>0.400601</td>\n",
       "    </tr>\n",
       "    <tr>\n",
       "      <th>year</th>\n",
       "      <td>-0.004797</td>\n",
       "      <td>0.012021</td>\n",
       "      <td>-0.002482</td>\n",
       "      <td>-0.012548</td>\n",
       "      <td>0.061226</td>\n",
       "      <td>0.058540</td>\n",
       "      <td>-0.078606</td>\n",
       "      <td>-0.015221</td>\n",
       "      <td>0.145241</td>\n",
       "      <td>0.264265</td>\n",
       "      <td>0.260403</td>\n",
       "      <td>1.000000</td>\n",
       "      <td>-0.004932</td>\n",
       "      <td>0.001800</td>\n",
       "      <td>-0.004234</td>\n",
       "    </tr>\n",
       "    <tr>\n",
       "      <th>month</th>\n",
       "      <td>0.971524</td>\n",
       "      <td>0.001731</td>\n",
       "      <td>-0.003394</td>\n",
       "      <td>0.012144</td>\n",
       "      <td>0.257589</td>\n",
       "      <td>0.264173</td>\n",
       "      <td>0.204537</td>\n",
       "      <td>-0.150192</td>\n",
       "      <td>0.092722</td>\n",
       "      <td>0.169451</td>\n",
       "      <td>0.166862</td>\n",
       "      <td>-0.004932</td>\n",
       "      <td>1.000000</td>\n",
       "      <td>0.001974</td>\n",
       "      <td>-0.006818</td>\n",
       "    </tr>\n",
       "    <tr>\n",
       "      <th>day</th>\n",
       "      <td>0.001729</td>\n",
       "      <td>-0.015877</td>\n",
       "      <td>0.009829</td>\n",
       "      <td>-0.007890</td>\n",
       "      <td>0.015551</td>\n",
       "      <td>0.011866</td>\n",
       "      <td>-0.011335</td>\n",
       "      <td>0.036157</td>\n",
       "      <td>0.014109</td>\n",
       "      <td>0.019111</td>\n",
       "      <td>0.019826</td>\n",
       "      <td>0.001800</td>\n",
       "      <td>0.001974</td>\n",
       "      <td>1.000000</td>\n",
       "      <td>0.001132</td>\n",
       "    </tr>\n",
       "    <tr>\n",
       "      <th>hour</th>\n",
       "      <td>-0.006546</td>\n",
       "      <td>-0.000354</td>\n",
       "      <td>0.002780</td>\n",
       "      <td>-0.022740</td>\n",
       "      <td>0.145430</td>\n",
       "      <td>0.140343</td>\n",
       "      <td>-0.278011</td>\n",
       "      <td>0.146631</td>\n",
       "      <td>0.302045</td>\n",
       "      <td>0.380540</td>\n",
       "      <td>0.400601</td>\n",
       "      <td>-0.004234</td>\n",
       "      <td>-0.006818</td>\n",
       "      <td>0.001132</td>\n",
       "      <td>1.000000</td>\n",
       "    </tr>\n",
       "  </tbody>\n",
       "</table>\n",
       "</div>"
      ],
      "text/plain": [
       "              season   holiday  workingday   weather      temp     atemp  \\\n",
       "season      1.000000  0.029368   -0.008126  0.008879  0.258689  0.264744   \n",
       "holiday     0.029368  1.000000   -0.250491 -0.007074  0.000295 -0.005215   \n",
       "workingday -0.008126 -0.250491    1.000000  0.033772  0.029966  0.024660   \n",
       "weather     0.008879 -0.007074    0.033772  1.000000 -0.055035 -0.055376   \n",
       "temp        0.258689  0.000295    0.029966 -0.055035  1.000000  0.984948   \n",
       "atemp       0.264744 -0.005215    0.024660 -0.055376  0.984948  1.000000   \n",
       "humidity    0.190610  0.001929   -0.010880  0.406244 -0.064949 -0.043536   \n",
       "windspeed  -0.147121  0.008409    0.013373  0.007261 -0.017852 -0.057473   \n",
       "casual      0.096758  0.043799   -0.319111 -0.135918  0.467097  0.462067   \n",
       "registered  0.164011 -0.020956    0.119460 -0.109340  0.318571  0.314635   \n",
       "count       0.163439 -0.005393    0.011594 -0.128655  0.394454  0.389784   \n",
       "year       -0.004797  0.012021   -0.002482 -0.012548  0.061226  0.058540   \n",
       "month       0.971524  0.001731   -0.003394  0.012144  0.257589  0.264173   \n",
       "day         0.001729 -0.015877    0.009829 -0.007890  0.015551  0.011866   \n",
       "hour       -0.006546 -0.000354    0.002780 -0.022740  0.145430  0.140343   \n",
       "\n",
       "            humidity  windspeed    casual  registered     count      year  \\\n",
       "season      0.190610  -0.147121  0.096758    0.164011  0.163439 -0.004797   \n",
       "holiday     0.001929   0.008409  0.043799   -0.020956 -0.005393  0.012021   \n",
       "workingday -0.010880   0.013373 -0.319111    0.119460  0.011594 -0.002482   \n",
       "weather     0.406244   0.007261 -0.135918   -0.109340 -0.128655 -0.012548   \n",
       "temp       -0.064949  -0.017852  0.467097    0.318571  0.394454  0.061226   \n",
       "atemp      -0.043536  -0.057473  0.462067    0.314635  0.389784  0.058540   \n",
       "humidity    1.000000  -0.318607 -0.348187   -0.265458 -0.317371 -0.078606   \n",
       "windspeed  -0.318607   1.000000  0.092276    0.091052  0.101369 -0.015221   \n",
       "casual     -0.348187   0.092276  1.000000    0.497250  0.690414  0.145241   \n",
       "registered -0.265458   0.091052  0.497250    1.000000  0.970948  0.264265   \n",
       "count      -0.317371   0.101369  0.690414    0.970948  1.000000  0.260403   \n",
       "year       -0.078606  -0.015221  0.145241    0.264265  0.260403  1.000000   \n",
       "month       0.204537  -0.150192  0.092722    0.169451  0.166862 -0.004932   \n",
       "day        -0.011335   0.036157  0.014109    0.019111  0.019826  0.001800   \n",
       "hour       -0.278011   0.146631  0.302045    0.380540  0.400601 -0.004234   \n",
       "\n",
       "               month       day      hour  \n",
       "season      0.971524  0.001729 -0.006546  \n",
       "holiday     0.001731 -0.015877 -0.000354  \n",
       "workingday -0.003394  0.009829  0.002780  \n",
       "weather     0.012144 -0.007890 -0.022740  \n",
       "temp        0.257589  0.015551  0.145430  \n",
       "atemp       0.264173  0.011866  0.140343  \n",
       "humidity    0.204537 -0.011335 -0.278011  \n",
       "windspeed  -0.150192  0.036157  0.146631  \n",
       "casual      0.092722  0.014109  0.302045  \n",
       "registered  0.169451  0.019111  0.380540  \n",
       "count       0.166862  0.019826  0.400601  \n",
       "year       -0.004932  0.001800 -0.004234  \n",
       "month       1.000000  0.001974 -0.006818  \n",
       "day         0.001974  1.000000  0.001132  \n",
       "hour       -0.006818  0.001132  1.000000  "
      ]
     },
     "execution_count": 13,
     "metadata": {},
     "output_type": "execute_result"
    }
   ],
   "source": [
    "train_df.corr()"
   ]
  },
  {
   "cell_type": "markdown",
   "metadata": {},
   "source": [
    "- Theres `high collinearity` between:\n",
    "    - `temp` and `atemp`, so we can drop one of them\n",
    "    - `season` and `month`, so we can drop one of them"
   ]
  },
  {
   "cell_type": "code",
   "execution_count": 14,
   "metadata": {},
   "outputs": [
    {
     "data": {
      "image/png": "[encoded data removed]",
      "text/plain": [
       "<Figure size 576x432 with 1 Axes>"
      ]
     },
     "metadata": {
      "needs_background": "light"
     },
     "output_type": "display_data"
    }
   ],
   "source": [
    "# Check mean of bike rented per days of week\n",
    "plt.figure(figsize=(8,6))\n",
    "train_df.groupby('day-of-week')['casual'].mean().plot(kind='barh', color='crimson', width=0.3,  position=0);\n",
    "train_df.groupby('day-of-week')['registered'].mean().plot(kind='barh', color='cornflowerblue', width=0.3, position=1);\n",
    "plt.title('Mean of Bikes Rented over Week Days');"
   ]
  },
  {
   "cell_type": "markdown",
   "metadata": {},
   "source": [
    "- We can notice that `weekend (Saturday and Monday)` has significant difference in mean rents even in casual or registerd ones."
   ]
  },
  {
   "cell_type": "code",
   "execution_count": 15,
   "metadata": {},
   "outputs": [
    {
     "data": {
      "image/png": "[encoded data removed]",
      "text/plain": [
       "<Figure size 576x432 with 1 Axes>"
      ]
     },
     "metadata": {
      "needs_background": "light"
     },
     "output_type": "display_data"
    }
   ],
   "source": [
    "# Check mean of bike rented per months\n",
    "plt.figure(figsize=(8,6))\n",
    "train_df.groupby('month')['casual'].mean().plot(kind='barh', color='crimson', width=0.3,  position=0);\n",
    "train_df.groupby('month')['registered'].mean().plot(kind='barh', color='cornflowerblue', width=0.3, position=1);\n",
    "plt.title('Mean of Bikes Rented over Months');"
   ]
  },
  {
   "cell_type": "markdown",
   "metadata": {},
   "source": [
    "- Mean rents significantly `decreases in January and February`, and `highly increases between May to October`."
   ]
  },
  {
   "cell_type": "code",
   "execution_count": 16,
   "metadata": {},
   "outputs": [
    {
     "data": {
      "image/png": "[encoded data removed]",
      "text/plain": [
       "<Figure size 432x288 with 1 Axes>"
      ]
     },
     "metadata": {
      "needs_background": "light"
     },
     "output_type": "display_data"
    }
   ],
   "source": [
    "# Check mean of bike rented per year\n",
    "train_df.groupby('year')['casual'].mean().plot(kind='barh', color='crimson', width=0.3,  position=0);\n",
    "train_df.groupby('year')['registered'].mean().plot(kind='barh', color='cornflowerblue', width=0.3, position=1);\n",
    "plt.title('Mean of Bikes Rented over Years');"
   ]
  },
  {
   "cell_type": "markdown",
   "metadata": {},
   "source": [
    "- Mean rents in `2012 is higher than 2011`"
   ]
  },
  {
   "cell_type": "code",
   "execution_count": 17,
   "metadata": {},
   "outputs": [
    {
     "data": {
      "image/png": "[encoded data removed]",
      "text/plain": [
       "<Figure size 576x432 with 1 Axes>"
      ]
     },
     "metadata": {
      "needs_background": "light"
     },
     "output_type": "display_data"
    }
   ],
   "source": [
    "# Check mean of bike rented Over times\n",
    "plt.figure(figsize=(8,6))\n",
    "train_df.groupby(['year', 'month'])['casual'].mean().plot(color='crimson');\n",
    "train_df.groupby(['year', 'month'])['registered'].mean().plot(color='cornflowerblue');\n",
    "plt.title('Mean of Bikes Rented over Times');"
   ]
  },
  {
   "cell_type": "markdown",
   "metadata": {},
   "source": [
    "- We notice that over time during year the mean rents differs, so the feature of year and month will affect well in model."
   ]
  },
  {
   "cell_type": "code",
   "execution_count": 18,
   "metadata": {},
   "outputs": [
    {
     "data": {
      "image/png": "[encoded data removed]",
      "text/plain": [
       "<Figure size 720x576 with 1 Axes>"
      ]
     },
     "metadata": {
      "needs_background": "light"
     },
     "output_type": "display_data"
    }
   ],
   "source": [
    "# Check mean of bike rented per hour\n",
    "plt.figure(figsize=(10, 8))\n",
    "train_df.groupby('hour')['casual'].mean().plot(kind='barh', color='crimson', width=0.3,  position=0);\n",
    "train_df.groupby('hour')['registered'].mean().plot(kind='barh', color='cornflowerblue', width=0.3, position=1);\n",
    "plt.title('Mean of Bikes Rented over Hours');"
   ]
  },
  {
   "cell_type": "markdown",
   "metadata": {},
   "source": [
    "- Mean of rents significantly `decreases at midnight till the dawn`\n",
    "- Registed rents`highly increases at 8 AM and 17, 18 PM`."
   ]
  },
  {
   "cell_type": "code",
   "execution_count": 19,
   "metadata": {},
   "outputs": [
    {
     "data": {
      "image/png": "[encoded data removed]",
      "text/plain": [
       "<Figure size 432x288 with 1 Axes>"
      ]
     },
     "metadata": {
      "needs_background": "light"
     },
     "output_type": "display_data"
    }
   ],
   "source": [
    "# Check mean of bike rented over seasons\n",
    "train_df.groupby('season')['casual'].mean().plot(kind='barh', color='crimson', width=0.3,  position=0);\n",
    "train_df.groupby('season')['registered'].mean().plot(kind='barh', color='cornflowerblue', width=0.3, position=1);\n",
    "plt.title('Mean of Bikes Rented over Seasons');"
   ]
  },
  {
   "cell_type": "markdown",
   "metadata": {},
   "source": [
    "Mean rents `increases` in season `Summer and Fall` rather than Winter and Spring"
   ]
  },
  {
   "cell_type": "code",
   "execution_count": 20,
   "metadata": {},
   "outputs": [
    {
     "data": {
      "image/png": "[encoded data removed]",
      "text/plain": [
       "<Figure size 432x288 with 1 Axes>"
      ]
     },
     "metadata": {
      "needs_background": "light"
     },
     "output_type": "display_data"
    }
   ],
   "source": [
    "# Check mean of bike rented over workingday\n",
    "train_df.groupby('workingday')['casual'].mean().plot(kind='barh', color='crimson', width=0.3,  position=0);\n",
    "train_df.groupby('workingday')['registered'].mean().plot(kind='barh', color='cornflowerblue', width=0.3, position=1);\n",
    "plt.title('Mean of Bikes Rented over Seasons');"
   ]
  },
  {
   "cell_type": "markdown",
   "metadata": {},
   "source": [
    "-  `Casual` rents increases in `No workingdays` when `Registed` rents increases in `workingdays`\n",
    "\n"
   ]
  },
  {
   "cell_type": "code",
   "execution_count": 21,
   "metadata": {},
   "outputs": [
    {
     "data": {
      "image/png": "[encoded data removed]",
      "text/plain": [
       "<Figure size 432x288 with 1 Axes>"
      ]
     },
     "metadata": {
      "needs_background": "light"
     },
     "output_type": "display_data"
    }
   ],
   "source": [
    "# Check mean of bike rented over weather condition\n",
    "train_df.groupby('weather')['casual'].mean().plot(kind='barh', color='crimson', width=0.3,  position=0);\n",
    "train_df.groupby('weather')['registered'].mean().plot(kind='barh', color='cornflowerblue', width=0.3, position=1);\n",
    "plt.title('Mean of Bikes Rented over Weather Condition');"
   ]
  },
  {
   "cell_type": "markdown",
   "metadata": {},
   "source": [
    "- Mean rents increases in Clear, Few clouds, Partly cloudy, Partly cloudy weather"
   ]
  },
  {
   "cell_type": "code",
   "execution_count": 45,
   "metadata": {},
   "outputs": [
    {
     "data": {
      "image/png": "[encoded data removed]",
      "text/plain": [
       "<Figure size 864x720 with 1 Axes>"
      ]
     },
     "metadata": {
      "needs_background": "light"
     },
     "output_type": "display_data"
    }
   ],
   "source": [
    "# Check mean of bike rented over temperature\n",
    "plt.figure(figsize=(12, 10))\n",
    "train_df.groupby('temp')['casual'].mean().plot(kind='barh', color='crimson', width=0.3,  position=0);\n",
    "train_df.groupby('temp')['registered'].mean().plot(kind='barh', color='cornflowerblue', width=0.3, position=1);\n",
    "plt.title('Mean of Bikes Rented over Temperature');"
   ]
  },
  {
   "cell_type": "markdown",
   "metadata": {},
   "source": [
    "- Mean rents `increases` when the `tempeature increases`"
   ]
  },
  {
   "cell_type": "code",
   "execution_count": 48,
   "metadata": {},
   "outputs": [
    {
     "data": {
      "image/png": "[encoded data removed]",
      "text/plain": [
       "<Figure size 576x720 with 1 Axes>"
      ]
     },
     "metadata": {
      "needs_background": "light"
     },
     "output_type": "display_data"
    }
   ],
   "source": [
    "# Check mean of bike rented over windspeed\n",
    "plt.figure(figsize=(8, 10))\n",
    "train_df.groupby('windspeed')['casual'].mean().plot(kind='barh', color='crimson', width=0.3,  position=0);\n",
    "train_df.groupby('windspeed')['registered'].mean().plot(kind='barh', color='cornflowerblue', width=0.3, position=1);\n",
    "plt.title('Mean of Bikes Rented over Windspeed');"
   ]
  },
  {
   "cell_type": "markdown",
   "metadata": {},
   "source": [
    "- this feature won't affect well in modeling as almost all windspeeds has ths same mean rents"
   ]
  },
  {
   "cell_type": "code",
   "execution_count": 23,
   "metadata": {},
   "outputs": [
    {
     "data": {
      "image/png": "[encoded data removed]",
      "text/plain": [
       "<Figure size 720x576 with 1 Axes>"
      ]
     },
     "metadata": {
      "needs_background": "light"
     },
     "output_type": "display_data"
    }
   ],
   "source": [
    "# Check mean of bike rented over humidity range\n",
    "train_df['humidity_range'] = train_df['humidity']/10\n",
    "train_df['humidity_range'] = train_df['humidity_range'].astype(int)\n",
    "\n",
    "plt.figure(figsize=(10, 8))\n",
    "train_df.groupby('humidity_range')['casual'].mean().plot(kind='barh', color='crimson', width=0.3,  position=0);\n",
    "train_df.groupby('humidity_range')['registered'].mean().plot(kind='barh', color='cornflowerblue', width=0.3, position=1);\n",
    "plt.title('Mean of Bikes Rented over Humidity Range');\n",
    "\n",
    "train_df.drop('humidity_range', axis=1, inplace=True)"
   ]
  },
  {
   "cell_type": "markdown",
   "metadata": {},
   "source": [
    "- Mean rents `decreases` when the `humidity increases`, except below 10%"
   ]
  },
  {
   "cell_type": "markdown",
   "metadata": {},
   "source": [
    "### Feature Engineering & Extra EDA"
   ]
  },
  {
   "cell_type": "code",
   "execution_count": 24,
   "metadata": {},
   "outputs": [],
   "source": [
    "# Extracting weekends\n",
    "train_df['week_end'] = train_df['day-of-week'].apply(lambda x: 1 if x=='Saturday' or x=='Sunday' else 0)\n",
    "test_df['week_end'] = test_df['day-of-week'].apply(lambda x: 1 if x=='Saturday' or x=='Sunday' else 0)"
   ]
  },
  {
   "cell_type": "code",
   "execution_count": 25,
   "metadata": {},
   "outputs": [
    {
     "data": {
      "image/png": "[encoded data removed]",
      "text/plain": [
       "<Figure size 432x288 with 1 Axes>"
      ]
     },
     "metadata": {
      "needs_background": "light"
     },
     "output_type": "display_data"
    }
   ],
   "source": [
    "# Check mean of bike rented over weekend\n",
    "train_df.groupby('week_end')['casual'].mean().plot(kind='barh', color='crimson', width=0.3,  position=0);\n",
    "train_df.groupby('week_end')['registered'].mean().plot(kind='barh', color='cornflowerblue', width=0.3, position=1);\n",
    "plt.title('Mean of Bikes Rented over Weekend');"
   ]
  },
  {
   "cell_type": "markdown",
   "metadata": {},
   "source": [
    "- The feature will affect well in model "
   ]
  },
  {
   "cell_type": "code",
   "execution_count": 26,
   "metadata": {},
   "outputs": [],
   "source": [
    "# Extracting rush_hour\n",
    "train_df['rush_hour'] = train_df['hour'].apply(lambda x: 1 if x == 8 or x == 17 or x == 18 else 0)\n",
    "test_df['rush_hour'] = test_df['hour'].apply(lambda x: 1 if x == 8 or x == 17 or x == 18 else 0)"
   ]
  },
  {
   "cell_type": "code",
   "execution_count": 27,
   "metadata": {},
   "outputs": [
    {
     "data": {
      "image/png": "[encoded data removed]",
      "text/plain": [
       "<Figure size 432x288 with 1 Axes>"
      ]
     },
     "metadata": {
      "needs_background": "light"
     },
     "output_type": "display_data"
    }
   ],
   "source": [
    "# Check mean of bike rented over rush hours\n",
    "train_df.groupby('rush_hour')['casual'].mean().plot(kind='barh', color='crimson', width=0.3,  position=0);\n",
    "train_df.groupby('rush_hour')['registered'].mean().plot(kind='barh', color='cornflowerblue', width=0.3, position=1);\n",
    "plt.title('Mean of Bikes Rented over Rush Hours');"
   ]
  },
  {
   "cell_type": "markdown",
   "metadata": {},
   "source": [
    "- The feature will affect very `well` in prediction the `registered` rents `not` the `casual`."
   ]
  },
  {
   "cell_type": "code",
   "execution_count": 28,
   "metadata": {},
   "outputs": [],
   "source": [
    "# Extracting sleepy hours\n",
    "train_df['sleepy_hour'] = train_df['hour'].apply(lambda x: 1 if x in [0, 1, 2, 3, 4, 5] else 0)\n",
    "test_df['sleepy_hour'] = test_df['hour'].apply(lambda x: 1 if x in [0, 1, 2, 3, 4, 5] else 0)"
   ]
  },
  {
   "cell_type": "code",
   "execution_count": 29,
   "metadata": {},
   "outputs": [
    {
     "data": {
      "image/png": "[encoded data removed]",
      "text/plain": [
       "<Figure size 432x288 with 1 Axes>"
      ]
     },
     "metadata": {
      "needs_background": "light"
     },
     "output_type": "display_data"
    }
   ],
   "source": [
    "# Check mean of bike rented over sleepy hours\n",
    "train_df.groupby('sleepy_hour')['casual'].mean().plot(kind='barh', color='crimson', width=0.3,  position=0);\n",
    "train_df.groupby('sleepy_hour')['registered'].mean().plot(kind='barh', color='cornflowerblue', width=0.3, position=1);\n",
    "plt.title('Mean of Bikes Rented over Sleepy Hours');"
   ]
  },
  {
   "cell_type": "markdown",
   "metadata": {},
   "source": [
    "- The feature will affect very well in model prediction."
   ]
  },
  {
   "cell_type": "code",
   "execution_count": 30,
   "metadata": {},
   "outputs": [],
   "source": [
    "# Extracting improper humidity\n",
    "train_df['improper_humidity'] = train_df['humidity'].apply(lambda x: 1 if x < 10 or x > 70 else 0)\n",
    "test_df['improper_humidity'] = test_df['humidity'].apply(lambda x: 1 if x < 10 or x > 70 else 0)"
   ]
  },
  {
   "cell_type": "code",
   "execution_count": 31,
   "metadata": {},
   "outputs": [
    {
     "data": {
      "image/png": "[encoded data removed]",
      "text/plain": [
       "<Figure size 432x288 with 1 Axes>"
      ]
     },
     "metadata": {
      "needs_background": "light"
     },
     "output_type": "display_data"
    }
   ],
   "source": [
    "# Check mean of bike rented over improper humidity\n",
    "train_df.groupby('improper_humidity')['casual'].mean().plot(kind='barh', color='crimson', width=0.3,  position=0);\n",
    "train_df.groupby('improper_humidity')['registered'].mean().plot(kind='barh', color='cornflowerblue', width=0.3, position=1);\n",
    "plt.title('Mean of Bikes Rented over Improper Humidity');"
   ]
  },
  {
   "cell_type": "markdown",
   "metadata": {},
   "source": [
    "- The feature will affect in model prediction."
   ]
  },
  {
   "cell_type": "markdown",
   "metadata": {},
   "source": [
    "### Pre-Processing"
   ]
  },
  {
   "cell_type": "code",
   "execution_count": 36,
   "metadata": {},
   "outputs": [],
   "source": [
    "# Drop high collinearity features\n",
    "train_df.drop(['atemp', 'season'], axis=1, inplace=True)\n",
    "test_df.drop(['atemp', 'season'], axis=1, inplace=True)"
   ]
  },
  {
   "cell_type": "code",
   "execution_count": 40,
   "metadata": {},
   "outputs": [],
   "source": [
    "# Setting datetime as index\n",
    "train_df = train_df.set_index('datetime')\n",
    "test_df = test_df.set_index('datetime')"
   ]
  },
  {
   "cell_type": "code",
   "execution_count": 42,
   "metadata": {},
   "outputs": [],
   "source": [
    "# Label Encoding Day featue\n",
    "\n",
    "for col in ['day-of-week']:\n",
    "    train_df[col] = pd.factorize(train_df[col])[0].reshape(-1,1)\n",
    "    test_df[col] = pd.factorize(test_df[col])[0].reshape(-1,1)"
   ]
  },
  {
   "cell_type": "markdown",
   "metadata": {},
   "source": [
    "### Modeling"
   ]
  },
  {
   "cell_type": "code",
   "execution_count": 147,
   "metadata": {},
   "outputs": [],
   "source": [
    "def model_outcome(x, y, model):\n",
    "    \n",
    "    # spliiting train and validation data\n",
    "    x_train, x_valid, y_train, y_valid = train_test_split(x, y , test_size = 0.2, stratify=train_df['month'], random_state = 0)\n",
    "    \n",
    "    # fitting model\n",
    "    model.fit(x_train, y_train)\n",
    "    \n",
    "    # prediction train and validation datasets\n",
    "    train_pred = model.predict(x_train)\n",
    "    valid_pred = model.predict(x_valid)\n",
    "\n",
    "    #calulation errors\n",
    "    print('Training R2 score: {}'.format(r2_score(y_train, train_pred)))\n",
    "    print('Validation R2 score: {}'.format(r2_score(y_valid, valid_pred)))\n",
    "\n",
    "    print('Training RMSLE: {}'.format(np.sqrt(np.square(y_train - train_pred).mean())))\n",
    "    print('Training RMSLE: {}'.format(np.sqrt(np.square(y_valid - valid_pred).mean())))"
   ]
  },
  {
   "cell_type": "code",
   "execution_count": 50,
   "metadata": {},
   "outputs": [],
   "source": [
    "from sklearn.model_selection import train_test_split\n",
    "from sklearn.linear_model import LinearRegression\n",
    "from sklearn.metrics import r2_score"
   ]
  },
  {
   "cell_type": "code",
   "execution_count": 64,
   "metadata": {},
   "outputs": [],
   "source": [
    "x = train_df.drop(['casual', 'registered', 'count'], axis=1)\n",
    "y_casual = np.log1p(train_df['casual'])\n",
    "y_registered = np.log1p(train_df['casual'])"
   ]
  },
  {
   "cell_type": "code",
   "execution_count": 73,
   "metadata": {},
   "outputs": [
    {
     "name": "stdout",
     "output_type": "stream",
     "text": [
      "Casual Rents Prediction Model\n",
      "Training R2 score: 0.7050211958205839\n",
      "Validation R2 score: 0.6980396811257472\n",
      "Training RMSLE: 0.8113717723614391\n",
      "Training RMSLE: 0.8125234217491802\n",
      "\n",
      "Registered Rents Prediction Model\n",
      "Training R2 score: 0.7050211958205839\n",
      "Validation R2 score: 0.6980396811257472\n",
      "Training RMSLE: 0.8113717723614391\n",
      "Training RMSLE: 0.8125234217491802\n"
     ]
    }
   ],
   "source": [
    "# Linear Regression\n",
    "from sklearn.linear_model import LinearRegression\n",
    "lr_model = LinearRegression()\n",
    "\n",
    "print('Casual Rents Prediction Model')\n",
    "model_outcome(x, y_casual, lr_model)\n",
    "print('\\nRegistered Rents Prediction Model')\n",
    "model_outcome(x, y_registered, lr_model)"
   ]
  },
  {
   "cell_type": "code",
   "execution_count": 81,
   "metadata": {},
   "outputs": [
    {
     "name": "stdout",
     "output_type": "stream",
     "text": [
      "Casual Rents Prediction Model\n",
      "Training R2 score: 0.06018722082942507\n",
      "Validation R2 score: 0.06830559164317929\n",
      "Training RMSLE: 1.44825541905611\n",
      "Training RMSLE: 1.4272422572098569\n",
      "\n",
      "Registered Rents Prediction Model\n",
      "Training R2 score: 0.06018722082942507\n",
      "Validation R2 score: 0.06830559164317929\n",
      "Training RMSLE: 1.44825541905611\n",
      "Training RMSLE: 1.4272422572098569\n"
     ]
    }
   ],
   "source": [
    "# SVR\n",
    "from sklearn.svm import SVR\n",
    "svr_model = SVR(kernel='sigmoid')\n",
    "    \n",
    "print('Casual Rents Prediction Model')\n",
    "model_outcome(x, y_casual, svr_model)\n",
    "print('\\nRegistered Rents Prediction Model')\n",
    "model_outcome(x, y_registered, svr_model)"
   ]
  },
  {
   "cell_type": "code",
   "execution_count": 129,
   "metadata": {},
   "outputs": [
    {
     "name": "stdout",
     "output_type": "stream",
     "text": [
      "Casual Rents Prediction Model\n",
      "Training R2 score: 0.8412153943358949\n",
      "Validation R2 score: 0.7516979539794243\n",
      "Training RMSLE: 0.5952901363575458\n",
      "Training RMSLE: 0.7368025160070438\n",
      "\n",
      "Registered Rents Prediction Model\n",
      "Training R2 score: 0.8412153943358949\n",
      "Validation R2 score: 0.7516979539794243\n",
      "Training RMSLE: 0.5952901363575458\n",
      "Training RMSLE: 0.7368025160070438\n"
     ]
    }
   ],
   "source": [
    "# KNN\n",
    "from sklearn.neighbors import KNeighborsRegressor\n",
    "knn_model = KNeighborsRegressor(n_neighbors=5)\n",
    "    \n",
    "print('Casual Rents Prediction Model')\n",
    "model_outcome(x, y_casual, knn_model)\n",
    "print('\\nRegistered Rents Prediction Model')\n",
    "model_outcome(x, y_registered, knn_model)"
   ]
  },
  {
   "cell_type": "code",
   "execution_count": 89,
   "metadata": {},
   "outputs": [
    {
     "name": "stdout",
     "output_type": "stream",
     "text": [
      "Casual Rents Prediction Model\n",
      "Training R2 score: 0.88463079301641\n",
      "Validation R2 score: 0.83688732306027\n",
      "Training RMSLE: 0.507422175413523\n",
      "Training RMSLE: 0.5971793871187684\n",
      "\n",
      "Registered Rents Prediction Model\n",
      "Training R2 score: 0.8846307930164101\n",
      "Validation R2 score: 0.83688732306027\n",
      "Training RMSLE: 0.507422175413523\n",
      "Training RMSLE: 0.5971793871187682\n"
     ]
    }
   ],
   "source": [
    "# Decision Tree Regressor\n",
    "from sklearn.tree import DecisionTreeRegressor\n",
    "dt_model = DecisionTreeRegressor(max_depth=8)\n",
    "    \n",
    "print('Casual Rents Prediction Model')\n",
    "model_outcome(x, y_casual, dt_model)\n",
    "print('\\nRegistered Rents Prediction Model')\n",
    "model_outcome(x, y_registered, dt_model)"
   ]
  },
  {
   "cell_type": "code",
   "execution_count": 114,
   "metadata": {},
   "outputs": [
    {
     "name": "stdout",
     "output_type": "stream",
     "text": [
      "Casual Rents Prediction Model\n",
      "Training R2 score: 0.9393611623694536\n",
      "Validation R2 score: 0.8785785435596084\n",
      "Training RMSLE: 0.3678747018155896\n",
      "Training RMSLE: 0.5152389304823516\n",
      "\n",
      "Registered Rents Prediction Model\n",
      "Training R2 score: 0.9393611623694536\n",
      "Validation R2 score: 0.8785785435596084\n",
      "Training RMSLE: 0.3678747018155896\n",
      "Training RMSLE: 0.5152389304823516\n"
     ]
    }
   ],
   "source": [
    "# Random Forest Regressor\n",
    "from sklearn.ensemble import RandomForestRegressor\n",
    "rf_model = RandomForestRegressor(n_estimators=40, max_depth=10, random_state=0)\n",
    "    \n",
    "print('Casual Rents Prediction Model')\n",
    "model_outcome(x, y_casual, rf_model)\n",
    "print('\\nRegistered Rents Prediction Model')\n",
    "model_outcome(x, y_registered, rf_model)"
   ]
  },
  {
   "cell_type": "code",
   "execution_count": 120,
   "metadata": {},
   "outputs": [
    {
     "name": "stdout",
     "output_type": "stream",
     "text": [
      "Casual Rents Prediction Model\n",
      "Training R2 score: 0.94860990685049\n",
      "Validation R2 score: 0.8815483508678036\n",
      "Training RMSLE: 0.3386602242485094\n",
      "Training RMSLE: 0.5088988938428616\n",
      "\n",
      "Registered Rents Prediction Model\n",
      "Training R2 score: 0.94860990685049\n",
      "Validation R2 score: 0.8815483508678036\n",
      "Training RMSLE: 0.3386602242485094\n",
      "Training RMSLE: 0.5088988938428616\n"
     ]
    }
   ],
   "source": [
    "# Extra Trees Regressor\n",
    "from sklearn.ensemble import ExtraTreesRegressor\n",
    "et_model = ExtraTreesRegressor(n_estimators=45, max_depth=11, random_state=0)\n",
    "    \n",
    "print('Casual Rents Prediction Model')\n",
    "model_outcome(x, y_casual, et_model)\n",
    "print('\\nRegistered Rents Prediction Model')\n",
    "model_outcome(x, y_registered, et_model)"
   ]
  },
  {
   "cell_type": "code",
   "execution_count": 148,
   "metadata": {},
   "outputs": [
    {
     "name": "stdout",
     "output_type": "stream",
     "text": [
      "Casual Rents Prediction Model\n",
      "Training R2 score: 0.9518607778373394\n",
      "Validation R2 score: 0.8982615650018757\n",
      "Training RMSLE: 0.3277736395457548\n",
      "Training RMSLE: 0.47163223175730007\n",
      "\n",
      "Registered Rents Prediction Model\n",
      "Training R2 score: 0.9518607778373394\n",
      "Validation R2 score: 0.8982615650018757\n",
      "Training RMSLE: 0.3277736395457548\n",
      "Training RMSLE: 0.47163223175730007\n"
     ]
    }
   ],
   "source": [
    "# Extra Trees Regressor\n",
    "from sklearn.ensemble import GradientBoostingRegressor\n",
    "\n",
    "params = {'n_estimators': 45, 'max_depth': 9, 'random_state': 0,\n",
    "          'min_samples_leaf' : 10, 'learning_rate': 0.1, 'subsample': 0.7, 'loss': 'ls'}\n",
    "gbm_model = GradientBoostingRegressor(**params) \n",
    "\n",
    "print('Casual Rents Prediction Model')\n",
    "model_outcome(x, y_casual, gbm_model)\n",
    "print('\\nRegistered Rents Prediction Model')\n",
    "model_outcome(x, y_registered, gbm_model)"
   ]
  },
  {
   "cell_type": "markdown",
   "metadata": {},
   "source": [
    "### Result"
   ]
  },
  {
   "cell_type": "code",
   "execution_count": 154,
   "metadata": {},
   "outputs": [],
   "source": [
    "test_casual_predict = gbm_model.fit(x, y_casual).predict(test_df)\n",
    "test_registered_predict = gbm_model.fit(x, y_registered).predict(test_df)"
   ]
  },
  {
   "cell_type": "code",
   "execution_count": 155,
   "metadata": {},
   "outputs": [],
   "source": [
    "test_casual_predict = np.expm1(test_casual_predict)\n",
    "test_registered_predict = np.expm1(test_registered_predict)\n",
    "\n",
    "test_count_predict = test_casual_predict + test_registered_predict"
   ]
  },
  {
   "cell_type": "code",
   "execution_count": 156,
   "metadata": {},
   "outputs": [],
   "source": [
    "# Saving test predictions to file\n",
    "output = pd.DataFrame({\"datetime\": test_df.index, \"count\" : test_count_predict})\n",
    "output.to_csv('sampleSubmission.csv', index=False)"
   ]
  }
 ],
 "metadata": {
  "kernelspec": {
   "display_name": "Python 3",
   "language": "python",
   "name": "python3"
  },
  "language_info": {
   "codemirror_mode": {
    "name": "ipython",
    "version": 3
   },
   "file_extension": ".py",
   "mimetype": "text/x-python",
   "name": "python",
   "nbconvert_exporter": "python",
   "pygments_lexer": "ipython3",
   "version": "3.8.5"
  }
 },
 "nbformat": 4,
 "nbformat_minor": 4
}
